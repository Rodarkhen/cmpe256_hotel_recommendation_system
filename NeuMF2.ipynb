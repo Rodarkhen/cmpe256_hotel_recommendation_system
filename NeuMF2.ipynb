{
  "nbformat": 4,
  "nbformat_minor": 0,
  "metadata": {
    "colab": {
      "provenance": [],
      "machine_shape": "hm",
      "gpuType": "L4"
    },
    "kernelspec": {
      "name": "python3",
      "display_name": "Python 3"
    },
    "language_info": {
      "name": "python"
    },
    "accelerator": "GPU"
  },
  "cells": [
    {
      "cell_type": "code",
      "execution_count": 1,
      "metadata": {
        "colab": {
          "base_uri": "https://localhost:8080/"
        },
        "id": "wij560qchbYn",
        "outputId": "3dd69b0c-b2ff-47be-d55e-4b40e1fb2e3c"
      },
      "outputs": [
        {
          "output_type": "stream",
          "name": "stdout",
          "text": [
            "Mounted at /content/drive\n"
          ]
        }
      ],
      "source": [
        "from google.colab import drive\n",
        "drive.mount('/content/drive')"
      ]
    },
    {
      "cell_type": "code",
      "source": [
        "import pandas as pd\n",
        "import gzip\n",
        "import numpy as np\n",
        "import torch\n",
        "from torch import nn\n",
        "from torch.utils.data import Dataset, DataLoader\n",
        "from sklearn.model_selection import train_test_split\n",
        "from sklearn.preprocessing import StandardScaler, LabelEncoder\n",
        "import torch.optim as optim\n",
        "import matplotlib.pyplot as plt\n",
        "import torch.nn.functional as F"
      ],
      "metadata": {
        "id": "qyekyKe2hkDw"
      },
      "execution_count": 2,
      "outputs": []
    },
    {
      "cell_type": "code",
      "source": [
        "# Load the dataset\n",
        "file_path = '/content/drive/MyDrive/hotel_rec/hotelrec_superclean.csv.gz'\n",
        "\n",
        "with gzip.open(file_path, 'rt') as f:\n",
        "    df = pd.read_csv(f)"
      ],
      "metadata": {
        "id": "c2N-tXEqhmBD"
      },
      "execution_count": 3,
      "outputs": []
    },
    {
      "cell_type": "markdown",
      "source": [
        "## Data cleaning"
      ],
      "metadata": {
        "id": "ncx3mMWz2hO0"
      }
    },
    {
      "cell_type": "code",
      "source": [
        "print(df.isnull().sum())"
      ],
      "metadata": {
        "colab": {
          "base_uri": "https://localhost:8080/"
        },
        "id": "6N5GH6GyncGD",
        "outputId": "5c5627ed-3597-4132-c3bd-07b7ba944f72"
      },
      "execution_count": null,
      "outputs": [
        {
          "output_type": "stream",
          "name": "stdout",
          "text": [
            "hotel_id              0\n",
            "hotel_name            0\n",
            "hotel_location        0\n",
            "author                0\n",
            "date                  0\n",
            "rating                0\n",
            "sentiment_score       0\n",
            "service               0\n",
            "year                  0\n",
            "new_hotel_id          0\n",
            "author_id             0\n",
            "hotel_id_enc          0\n",
            "author_enc            0\n",
            "hotel_location_enc    0\n",
            "year_scaled           0\n",
            "dtype: int64\n"
          ]
        }
      ]
    },
    {
      "cell_type": "code",
      "source": [
        "# Drop rows with missing 'author'\n",
        "df.dropna(subset=['author'], inplace=True)"
      ],
      "metadata": {
        "id": "6MRX0CY4niKh"
      },
      "execution_count": null,
      "outputs": []
    },
    {
      "cell_type": "code",
      "source": [
        "# Drop rows with missing 'hotel_location'\n",
        "df.dropna(subset=['hotel_location'], inplace=True)"
      ],
      "metadata": {
        "id": "5AtuRuQ6xnI2"
      },
      "execution_count": null,
      "outputs": []
    },
    {
      "cell_type": "code",
      "source": [
        "df['year'] = pd.to_datetime(df['date']).dt.year"
      ],
      "metadata": {
        "id": "emJResoWq3-n"
      },
      "execution_count": null,
      "outputs": []
    },
    {
      "cell_type": "code",
      "source": [
        "# Step 1: Create a new hotel_id based on hotel_name and hotel_location\n",
        "df['new_hotel_id'] = df.groupby(['hotel_name', 'hotel_location']).ngroup()\n",
        "\n",
        "# Verify the results\n",
        "print(df[['hotel_name', 'hotel_location', 'new_hotel_id']].drop_duplicates().head())\n"
      ],
      "metadata": {
        "colab": {
          "base_uri": "https://localhost:8080/"
        },
        "id": "i8d-F_BwyE9N",
        "outputId": "51238b43-ebe9-43a9-ed1d-3cfdd535ff5d"
      },
      "execution_count": null,
      "outputs": [
        {
          "output_type": "stream",
          "name": "stdout",
          "text": [
            "                            hotel_name  \\\n",
            "0                         Hotel Baltic   \n",
            "6              Pousada Rumo dos Ventos   \n",
            "20  Agriturismi Il Castello La Grancia   \n",
            "45                  El Mosaico del Sol   \n",
            "57         Villa Huinid Hotel Pioneros   \n",
            "\n",
            "                                       hotel_location  new_hotel_id  \n",
            "0               Giulianova Province of Teramo Abruzzo        143129  \n",
            "6                      Paraty State of Rio de Janeiro        267465  \n",
            "20                                     Pienza Tuscany          6001  \n",
            "45                 Lampedusa Islands of Sicily Sicily         94376  \n",
            "57  San Carlos de Bariloche Province of Rio Negro ...        350882  \n"
          ]
        }
      ]
    },
    {
      "cell_type": "code",
      "source": [
        "# prompt: drop cols sleep quality, rooms, cleanliness, location\n",
        "\n",
        "df = df.drop(columns=['sleep quality', 'rooms', 'cleanliness', 'location', 'value'])\n"
      ],
      "metadata": {
        "id": "1BIEZJkdzQ0n"
      },
      "execution_count": null,
      "outputs": []
    },
    {
      "cell_type": "code",
      "source": [
        "df.head()"
      ],
      "metadata": {
        "colab": {
          "base_uri": "https://localhost:8080/",
          "height": 399
        },
        "id": "YBJBOz8GzpSR",
        "outputId": "e455d780-0aea-49f9-8d02-0cfdfc000370"
      },
      "execution_count": null,
      "outputs": [
        {
          "output_type": "execute_result",
          "data": {
            "text/plain": [
              "   hotel_id    hotel_name                         hotel_location  \\\n",
              "0   1121769  Hotel Baltic  Giulianova Province of Teramo Abruzzo   \n",
              "1   1121769  Hotel Baltic  Giulianova Province of Teramo Abruzzo   \n",
              "2   1121769  Hotel Baltic  Giulianova Province of Teramo Abruzzo   \n",
              "3   1121769  Hotel Baltic  Giulianova Province of Teramo Abruzzo   \n",
              "4   1121769  Hotel Baltic  Giulianova Province of Teramo Abruzzo   \n",
              "\n",
              "         author     date  rating  sentiment_score  service  year  \\\n",
              "0  violettaf340  2019-01     5.0         0.341327      5.0  2019   \n",
              "1     Lagaiuzza  2016-01     5.0         0.272183      5.0  2016   \n",
              "2    ashleyn763  2014-10     5.0         0.475000      5.0  2014   \n",
              "3   DavideMauro  2014-08     5.0         0.623636      5.0  2014   \n",
              "4      Alemma11  2013-08     4.0         0.218607      5.0  2013   \n",
              "\n",
              "   new_hotel_id  author_id  \n",
              "0        143129          0  \n",
              "1        143129          1  \n",
              "2        143129          2  \n",
              "3        143129          3  \n",
              "4        143129          4  "
            ],
            "text/html": [
              "\n",
              "  <div id=\"df-e172edd3-13ad-4c8a-9a23-4b0057ae8584\" class=\"colab-df-container\">\n",
              "    <div>\n",
              "<style scoped>\n",
              "    .dataframe tbody tr th:only-of-type {\n",
              "        vertical-align: middle;\n",
              "    }\n",
              "\n",
              "    .dataframe tbody tr th {\n",
              "        vertical-align: top;\n",
              "    }\n",
              "\n",
              "    .dataframe thead th {\n",
              "        text-align: right;\n",
              "    }\n",
              "</style>\n",
              "<table border=\"1\" class=\"dataframe\">\n",
              "  <thead>\n",
              "    <tr style=\"text-align: right;\">\n",
              "      <th></th>\n",
              "      <th>hotel_id</th>\n",
              "      <th>hotel_name</th>\n",
              "      <th>hotel_location</th>\n",
              "      <th>author</th>\n",
              "      <th>date</th>\n",
              "      <th>rating</th>\n",
              "      <th>sentiment_score</th>\n",
              "      <th>service</th>\n",
              "      <th>year</th>\n",
              "      <th>new_hotel_id</th>\n",
              "      <th>author_id</th>\n",
              "    </tr>\n",
              "  </thead>\n",
              "  <tbody>\n",
              "    <tr>\n",
              "      <th>0</th>\n",
              "      <td>1121769</td>\n",
              "      <td>Hotel Baltic</td>\n",
              "      <td>Giulianova Province of Teramo Abruzzo</td>\n",
              "      <td>violettaf340</td>\n",
              "      <td>2019-01</td>\n",
              "      <td>5.0</td>\n",
              "      <td>0.341327</td>\n",
              "      <td>5.0</td>\n",
              "      <td>2019</td>\n",
              "      <td>143129</td>\n",
              "      <td>0</td>\n",
              "    </tr>\n",
              "    <tr>\n",
              "      <th>1</th>\n",
              "      <td>1121769</td>\n",
              "      <td>Hotel Baltic</td>\n",
              "      <td>Giulianova Province of Teramo Abruzzo</td>\n",
              "      <td>Lagaiuzza</td>\n",
              "      <td>2016-01</td>\n",
              "      <td>5.0</td>\n",
              "      <td>0.272183</td>\n",
              "      <td>5.0</td>\n",
              "      <td>2016</td>\n",
              "      <td>143129</td>\n",
              "      <td>1</td>\n",
              "    </tr>\n",
              "    <tr>\n",
              "      <th>2</th>\n",
              "      <td>1121769</td>\n",
              "      <td>Hotel Baltic</td>\n",
              "      <td>Giulianova Province of Teramo Abruzzo</td>\n",
              "      <td>ashleyn763</td>\n",
              "      <td>2014-10</td>\n",
              "      <td>5.0</td>\n",
              "      <td>0.475000</td>\n",
              "      <td>5.0</td>\n",
              "      <td>2014</td>\n",
              "      <td>143129</td>\n",
              "      <td>2</td>\n",
              "    </tr>\n",
              "    <tr>\n",
              "      <th>3</th>\n",
              "      <td>1121769</td>\n",
              "      <td>Hotel Baltic</td>\n",
              "      <td>Giulianova Province of Teramo Abruzzo</td>\n",
              "      <td>DavideMauro</td>\n",
              "      <td>2014-08</td>\n",
              "      <td>5.0</td>\n",
              "      <td>0.623636</td>\n",
              "      <td>5.0</td>\n",
              "      <td>2014</td>\n",
              "      <td>143129</td>\n",
              "      <td>3</td>\n",
              "    </tr>\n",
              "    <tr>\n",
              "      <th>4</th>\n",
              "      <td>1121769</td>\n",
              "      <td>Hotel Baltic</td>\n",
              "      <td>Giulianova Province of Teramo Abruzzo</td>\n",
              "      <td>Alemma11</td>\n",
              "      <td>2013-08</td>\n",
              "      <td>4.0</td>\n",
              "      <td>0.218607</td>\n",
              "      <td>5.0</td>\n",
              "      <td>2013</td>\n",
              "      <td>143129</td>\n",
              "      <td>4</td>\n",
              "    </tr>\n",
              "  </tbody>\n",
              "</table>\n",
              "</div>\n",
              "    <div class=\"colab-df-buttons\">\n",
              "\n",
              "  <div class=\"colab-df-container\">\n",
              "    <button class=\"colab-df-convert\" onclick=\"convertToInteractive('df-e172edd3-13ad-4c8a-9a23-4b0057ae8584')\"\n",
              "            title=\"Convert this dataframe to an interactive table.\"\n",
              "            style=\"display:none;\">\n",
              "\n",
              "  <svg xmlns=\"http://www.w3.org/2000/svg\" height=\"24px\" viewBox=\"0 -960 960 960\">\n",
              "    <path d=\"M120-120v-720h720v720H120Zm60-500h600v-160H180v160Zm220 220h160v-160H400v160Zm0 220h160v-160H400v160ZM180-400h160v-160H180v160Zm440 0h160v-160H620v160ZM180-180h160v-160H180v160Zm440 0h160v-160H620v160Z\"/>\n",
              "  </svg>\n",
              "    </button>\n",
              "\n",
              "  <style>\n",
              "    .colab-df-container {\n",
              "      display:flex;\n",
              "      gap: 12px;\n",
              "    }\n",
              "\n",
              "    .colab-df-convert {\n",
              "      background-color: #E8F0FE;\n",
              "      border: none;\n",
              "      border-radius: 50%;\n",
              "      cursor: pointer;\n",
              "      display: none;\n",
              "      fill: #1967D2;\n",
              "      height: 32px;\n",
              "      padding: 0 0 0 0;\n",
              "      width: 32px;\n",
              "    }\n",
              "\n",
              "    .colab-df-convert:hover {\n",
              "      background-color: #E2EBFA;\n",
              "      box-shadow: 0px 1px 2px rgba(60, 64, 67, 0.3), 0px 1px 3px 1px rgba(60, 64, 67, 0.15);\n",
              "      fill: #174EA6;\n",
              "    }\n",
              "\n",
              "    .colab-df-buttons div {\n",
              "      margin-bottom: 4px;\n",
              "    }\n",
              "\n",
              "    [theme=dark] .colab-df-convert {\n",
              "      background-color: #3B4455;\n",
              "      fill: #D2E3FC;\n",
              "    }\n",
              "\n",
              "    [theme=dark] .colab-df-convert:hover {\n",
              "      background-color: #434B5C;\n",
              "      box-shadow: 0px 1px 3px 1px rgba(0, 0, 0, 0.15);\n",
              "      filter: drop-shadow(0px 1px 2px rgba(0, 0, 0, 0.3));\n",
              "      fill: #FFFFFF;\n",
              "    }\n",
              "  </style>\n",
              "\n",
              "    <script>\n",
              "      const buttonEl =\n",
              "        document.querySelector('#df-e172edd3-13ad-4c8a-9a23-4b0057ae8584 button.colab-df-convert');\n",
              "      buttonEl.style.display =\n",
              "        google.colab.kernel.accessAllowed ? 'block' : 'none';\n",
              "\n",
              "      async function convertToInteractive(key) {\n",
              "        const element = document.querySelector('#df-e172edd3-13ad-4c8a-9a23-4b0057ae8584');\n",
              "        const dataTable =\n",
              "          await google.colab.kernel.invokeFunction('convertToInteractive',\n",
              "                                                    [key], {});\n",
              "        if (!dataTable) return;\n",
              "\n",
              "        const docLinkHtml = 'Like what you see? Visit the ' +\n",
              "          '<a target=\"_blank\" href=https://colab.research.google.com/notebooks/data_table.ipynb>data table notebook</a>'\n",
              "          + ' to learn more about interactive tables.';\n",
              "        element.innerHTML = '';\n",
              "        dataTable['output_type'] = 'display_data';\n",
              "        await google.colab.output.renderOutput(dataTable, element);\n",
              "        const docLink = document.createElement('div');\n",
              "        docLink.innerHTML = docLinkHtml;\n",
              "        element.appendChild(docLink);\n",
              "      }\n",
              "    </script>\n",
              "  </div>\n",
              "\n",
              "\n",
              "<div id=\"df-7fd9589b-413d-4f3e-942a-42326af0cbde\">\n",
              "  <button class=\"colab-df-quickchart\" onclick=\"quickchart('df-7fd9589b-413d-4f3e-942a-42326af0cbde')\"\n",
              "            title=\"Suggest charts\"\n",
              "            style=\"display:none;\">\n",
              "\n",
              "<svg xmlns=\"http://www.w3.org/2000/svg\" height=\"24px\"viewBox=\"0 0 24 24\"\n",
              "     width=\"24px\">\n",
              "    <g>\n",
              "        <path d=\"M19 3H5c-1.1 0-2 .9-2 2v14c0 1.1.9 2 2 2h14c1.1 0 2-.9 2-2V5c0-1.1-.9-2-2-2zM9 17H7v-7h2v7zm4 0h-2V7h2v10zm4 0h-2v-4h2v4z\"/>\n",
              "    </g>\n",
              "</svg>\n",
              "  </button>\n",
              "\n",
              "<style>\n",
              "  .colab-df-quickchart {\n",
              "      --bg-color: #E8F0FE;\n",
              "      --fill-color: #1967D2;\n",
              "      --hover-bg-color: #E2EBFA;\n",
              "      --hover-fill-color: #174EA6;\n",
              "      --disabled-fill-color: #AAA;\n",
              "      --disabled-bg-color: #DDD;\n",
              "  }\n",
              "\n",
              "  [theme=dark] .colab-df-quickchart {\n",
              "      --bg-color: #3B4455;\n",
              "      --fill-color: #D2E3FC;\n",
              "      --hover-bg-color: #434B5C;\n",
              "      --hover-fill-color: #FFFFFF;\n",
              "      --disabled-bg-color: #3B4455;\n",
              "      --disabled-fill-color: #666;\n",
              "  }\n",
              "\n",
              "  .colab-df-quickchart {\n",
              "    background-color: var(--bg-color);\n",
              "    border: none;\n",
              "    border-radius: 50%;\n",
              "    cursor: pointer;\n",
              "    display: none;\n",
              "    fill: var(--fill-color);\n",
              "    height: 32px;\n",
              "    padding: 0;\n",
              "    width: 32px;\n",
              "  }\n",
              "\n",
              "  .colab-df-quickchart:hover {\n",
              "    background-color: var(--hover-bg-color);\n",
              "    box-shadow: 0 1px 2px rgba(60, 64, 67, 0.3), 0 1px 3px 1px rgba(60, 64, 67, 0.15);\n",
              "    fill: var(--button-hover-fill-color);\n",
              "  }\n",
              "\n",
              "  .colab-df-quickchart-complete:disabled,\n",
              "  .colab-df-quickchart-complete:disabled:hover {\n",
              "    background-color: var(--disabled-bg-color);\n",
              "    fill: var(--disabled-fill-color);\n",
              "    box-shadow: none;\n",
              "  }\n",
              "\n",
              "  .colab-df-spinner {\n",
              "    border: 2px solid var(--fill-color);\n",
              "    border-color: transparent;\n",
              "    border-bottom-color: var(--fill-color);\n",
              "    animation:\n",
              "      spin 1s steps(1) infinite;\n",
              "  }\n",
              "\n",
              "  @keyframes spin {\n",
              "    0% {\n",
              "      border-color: transparent;\n",
              "      border-bottom-color: var(--fill-color);\n",
              "      border-left-color: var(--fill-color);\n",
              "    }\n",
              "    20% {\n",
              "      border-color: transparent;\n",
              "      border-left-color: var(--fill-color);\n",
              "      border-top-color: var(--fill-color);\n",
              "    }\n",
              "    30% {\n",
              "      border-color: transparent;\n",
              "      border-left-color: var(--fill-color);\n",
              "      border-top-color: var(--fill-color);\n",
              "      border-right-color: var(--fill-color);\n",
              "    }\n",
              "    40% {\n",
              "      border-color: transparent;\n",
              "      border-right-color: var(--fill-color);\n",
              "      border-top-color: var(--fill-color);\n",
              "    }\n",
              "    60% {\n",
              "      border-color: transparent;\n",
              "      border-right-color: var(--fill-color);\n",
              "    }\n",
              "    80% {\n",
              "      border-color: transparent;\n",
              "      border-right-color: var(--fill-color);\n",
              "      border-bottom-color: var(--fill-color);\n",
              "    }\n",
              "    90% {\n",
              "      border-color: transparent;\n",
              "      border-bottom-color: var(--fill-color);\n",
              "    }\n",
              "  }\n",
              "</style>\n",
              "\n",
              "  <script>\n",
              "    async function quickchart(key) {\n",
              "      const quickchartButtonEl =\n",
              "        document.querySelector('#' + key + ' button');\n",
              "      quickchartButtonEl.disabled = true;  // To prevent multiple clicks.\n",
              "      quickchartButtonEl.classList.add('colab-df-spinner');\n",
              "      try {\n",
              "        const charts = await google.colab.kernel.invokeFunction(\n",
              "            'suggestCharts', [key], {});\n",
              "      } catch (error) {\n",
              "        console.error('Error during call to suggestCharts:', error);\n",
              "      }\n",
              "      quickchartButtonEl.classList.remove('colab-df-spinner');\n",
              "      quickchartButtonEl.classList.add('colab-df-quickchart-complete');\n",
              "    }\n",
              "    (() => {\n",
              "      let quickchartButtonEl =\n",
              "        document.querySelector('#df-7fd9589b-413d-4f3e-942a-42326af0cbde button');\n",
              "      quickchartButtonEl.style.display =\n",
              "        google.colab.kernel.accessAllowed ? 'block' : 'none';\n",
              "    })();\n",
              "  </script>\n",
              "</div>\n",
              "\n",
              "    </div>\n",
              "  </div>\n"
            ],
            "application/vnd.google.colaboratory.intrinsic+json": {
              "type": "dataframe",
              "variable_name": "df"
            }
          },
          "metadata": {},
          "execution_count": 14
        }
      ]
    },
    {
      "cell_type": "code",
      "source": [
        "# Step 1: Calculate global median for service\n",
        "global_median_service = df['service'].median()\n",
        "\n",
        "# Step 2: Calculate the median service per new_hotel_id and hotel_location\n",
        "median_service_by_hotel_id = df.groupby('new_hotel_id')['service'].median()\n",
        "median_service_by_location = df.groupby('hotel_location')['service'].median()\n",
        "\n",
        "# Step 3: Merge the median values into the dataframe\n",
        "df = df.merge(median_service_by_hotel_id, on='new_hotel_id', how='left', suffixes=('', '_hotel'))\n",
        "df = df.merge(median_service_by_location, on='hotel_location', how='left', suffixes=('', '_location'))\n",
        "\n",
        "# Step 4: Impute missing service values\n",
        "df['service'] = df['service'].fillna(df['service_hotel'])  # First try hotel-level median\n",
        "df['service'] = df['service'].fillna(df['service_location'])  # If still missing, try location-level median\n",
        "df['service'] = df['service'].fillna(global_median_service)  # If still missing, use global median\n",
        "\n",
        "# Drop the temporary median columns\n",
        "df.drop(columns=['service_hotel', 'service_location'], inplace=True)\n",
        "\n",
        "# Verify the result\n",
        "print(df[['new_hotel_id', 'hotel_location', 'service']].isna().sum())  # Check if any NaN left\n"
      ],
      "metadata": {
        "colab": {
          "base_uri": "https://localhost:8080/"
        },
        "id": "7qmHg4U8pahW",
        "outputId": "11f58283-5772-44be-bd80-4e89758dd6c1"
      },
      "execution_count": null,
      "outputs": [
        {
          "output_type": "stream",
          "name": "stdout",
          "text": [
            "new_hotel_id      0\n",
            "hotel_location    0\n",
            "service           0\n",
            "dtype: int64\n"
          ]
        }
      ]
    },
    {
      "cell_type": "code",
      "source": [
        "# Create a unique author_id for each unique author\n",
        "df['author_id'] = pd.factorize(df['author'])[0]\n",
        "\n",
        "# Check the result to verify\n",
        "print(df[['author', 'author_id']].drop_duplicates().head())"
      ],
      "metadata": {
        "colab": {
          "base_uri": "https://localhost:8080/"
        },
        "id": "K5txOlaT13Dx",
        "outputId": "4f35499f-9b98-4022-a7e2-6315cbfe8656"
      },
      "execution_count": null,
      "outputs": [
        {
          "output_type": "stream",
          "name": "stdout",
          "text": [
            "         author  author_id\n",
            "0  violettaf340          0\n",
            "1     Lagaiuzza          1\n",
            "2    ashleyn763          2\n",
            "3   DavideMauro          3\n",
            "4      Alemma11          4\n"
          ]
        }
      ]
    },
    {
      "cell_type": "code",
      "source": [
        "df.to_csv('/content/drive/MyDrive/hotel_rec/hotelrec_superclean.csv.gz', index=False, compression='gzip')"
      ],
      "metadata": {
        "id": "aJ67zPoO2US9"
      },
      "execution_count": null,
      "outputs": []
    },
    {
      "cell_type": "markdown",
      "source": [
        "## NeuMF"
      ],
      "metadata": {
        "id": "rzJKitxZ2kI6"
      }
    },
    {
      "cell_type": "code",
      "source": [
        "\n",
        "df['hotel_id_enc'] = df['new_hotel_id']\n",
        "df['author_enc'] = df['author_id']"
      ],
      "metadata": {
        "id": "OHOuVzHejrtJ"
      },
      "execution_count": 4,
      "outputs": []
    },
    {
      "cell_type": "code",
      "source": [
        "# Step 1: Define ID mappings (reserve index 0 for unknowns)\n",
        "def build_id_map(series):\n",
        "    unique = sorted(series.unique())\n",
        "    return {v: i + 1 for i, v in enumerate(unique)}  # 0 reserved for unknown\n",
        "\n",
        "def map_ids(series, id_map):\n",
        "    return series.map(id_map).fillna(0).astype(int)\n",
        "\n",
        "# Step 2: Build mappings for hotel and author\n",
        "hotel_id_map = build_id_map(df['hotel_id_enc'])\n",
        "author_id_map = build_id_map(df['author_enc'])\n",
        "\n",
        "# Step 3: Apply mappings with fallback to 0 for unknowns\n",
        "df['hotel_id_enc'] = map_ids(df['hotel_id_enc'], hotel_id_map)\n",
        "df['author_enc'] = map_ids(df['author_enc'], author_id_map)"
      ],
      "metadata": {
        "id": "nTON8CDiJMyo"
      },
      "execution_count": 5,
      "outputs": []
    },
    {
      "cell_type": "code",
      "source": [
        "scaler = StandardScaler()\n",
        "df[['service', 'sentiment_score', 'year_scaled']] = scaler.fit_transform(df[['service', 'sentiment_score', 'year']])\n"
      ],
      "metadata": {
        "id": "2ezpfC-0hngD"
      },
      "execution_count": 6,
      "outputs": []
    },
    {
      "cell_type": "code",
      "source": [
        "# Define inputs and target\n",
        "X_cat = df[['hotel_id_enc', 'author_enc']]\n",
        "X_num = df[['service', 'sentiment_score']]\n",
        "y = df['rating']"
      ],
      "metadata": {
        "id": "8yP8LYXShqUR"
      },
      "execution_count": 7,
      "outputs": []
    },
    {
      "cell_type": "code",
      "source": [
        "# Train-validation split\n",
        "X_cat_train, X_cat_val, X_num_train, X_num_val, y_train, y_val = train_test_split(\n",
        "    X_cat, X_num, y, test_size=0.3, random_state=42)"
      ],
      "metadata": {
        "id": "o-ztepFoht4k"
      },
      "execution_count": 8,
      "outputs": []
    },
    {
      "cell_type": "code",
      "source": [
        "# Custom Dataset\n",
        "class HotelDataset(Dataset):\n",
        "    def __init__(self, X_cat, X_num, y):\n",
        "        self.X_cat = torch.tensor(X_cat.values, dtype=torch.long)\n",
        "        self.X_num = torch.tensor(X_num.values, dtype=torch.float32)\n",
        "        self.y = torch.tensor(y.values, dtype=torch.float32)\n",
        "\n",
        "    def __len__(self):\n",
        "        return len(self.y)\n",
        "\n",
        "    def __getitem__(self, idx):\n",
        "        return self.X_cat[idx], self.X_num[idx], self.y[idx]"
      ],
      "metadata": {
        "id": "M2o7NZBkhv_b"
      },
      "execution_count": 9,
      "outputs": []
    },
    {
      "cell_type": "code",
      "source": [
        "\n",
        "# DataLoaders\n",
        "train_ds = HotelDataset(X_cat_train, X_num_train, y_train)\n",
        "val_ds = HotelDataset(X_cat_val, X_num_val, y_val)\n",
        "\n",
        "train_dl = DataLoader(train_ds, batch_size=4000, shuffle=True)\n",
        "val_dl = DataLoader(val_ds, batch_size=4000)"
      ],
      "metadata": {
        "id": "WiTkGVgVhyug"
      },
      "execution_count": 14,
      "outputs": []
    },
    {
      "cell_type": "code",
      "source": [
        "# Update input dimensions for model init\n",
        "n_hotels = len(hotel_id_map) + 1\n",
        "n_authors = len(author_id_map) + 1"
      ],
      "metadata": {
        "id": "z9cQMZQXJpt4"
      },
      "execution_count": 11,
      "outputs": []
    },
    {
      "cell_type": "code",
      "source": [
        "class HotelNeuMF(nn.Module):\n",
        "    def __init__(self, n_hotels, n_authors, embed_size=32):\n",
        "        super().__init__()\n",
        "\n",
        "        # Embedding layers\n",
        "        self.hotel_emb = nn.Embedding(n_hotels, embed_size)\n",
        "        self.author_emb = nn.Embedding(n_authors, embed_size)\n",
        "\n",
        "        # GMF block\n",
        "        self.gmf = nn.Sequential(\n",
        "            nn.Linear(embed_size * 2, 64),\n",
        "            nn.ReLU(),\n",
        "            nn.Dropout(0.2),\n",
        "            nn.Linear(64, 32),\n",
        "            nn.ReLU(),\n",
        "            nn.Linear(32, 1)\n",
        "        )\n",
        "\n",
        "        # MLP block\n",
        "        self.mlp = nn.Sequential(\n",
        "            nn.Linear(embed_size * 2 + 2, 64),\n",
        "            nn.ReLU(),\n",
        "            nn.Dropout(0.2),\n",
        "            nn.Linear(64, 32),\n",
        "            nn.ReLU(),\n",
        "            nn.Linear(32, 1)\n",
        "        )\n",
        "\n",
        "        # Final fusion layer\n",
        "        self.final = nn.Sequential(\n",
        "            nn.Linear(2, 1)\n",
        "        )\n",
        "\n",
        "    def forward(self, hotel_ids, author_ids, service, sentiment_score):\n",
        "        hotel_emb = self.hotel_emb(hotel_ids)\n",
        "        author_emb = self.author_emb(author_ids)\n",
        "\n",
        "        emb_cat = torch.cat([hotel_emb, author_emb], dim=1)\n",
        "\n",
        "        gmf_out = self.gmf(emb_cat)\n",
        "\n",
        "        mlp_input = torch.cat([\n",
        "            emb_cat,\n",
        "            service.unsqueeze(1),\n",
        "            sentiment_score.unsqueeze(1)\n",
        "        ], dim=1)\n",
        "\n",
        "        mlp_out = self.mlp(mlp_input)\n",
        "\n",
        "        combined = torch.cat([gmf_out, mlp_out], dim=1)\n",
        "        rating = self.final(combined)\n",
        "\n",
        "        return rating.squeeze()\n"
      ],
      "metadata": {
        "id": "5HbCq-NIJ8NK"
      },
      "execution_count": 12,
      "outputs": []
    },
    {
      "cell_type": "code",
      "source": [
        "# Setup\n",
        "device = torch.device(\"cuda\" if torch.cuda.is_available() else \"cpu\")\n",
        "model = HotelNeuMF(\n",
        "    n_hotels=n_hotels,\n",
        "    n_authors=n_authors,\n",
        ").to(device)"
      ],
      "metadata": {
        "id": "tYKWdIkAh23V"
      },
      "execution_count": 16,
      "outputs": []
    },
    {
      "cell_type": "code",
      "source": [
        "from torch.optim.lr_scheduler import OneCycleLR\n",
        "\n",
        "loss_fn = nn.MSELoss()\n",
        "# Optimizer (start with a lower base LR)\n",
        "optimizer = optim.Adam(model.parameters(), lr=1e-3)\n",
        "\n",
        "# Scheduler with warmup + decay\n",
        "scheduler = OneCycleLR(optimizer,\n",
        "                       max_lr=1e-2,             # peak LR\n",
        "                       steps_per_epoch=len(train_dl),\n",
        "                       epochs=15,\n",
        "                       pct_start=0.3,           # warmup for 30% of total steps\n",
        "                       anneal_strategy='cos',   # cosine annealing\n",
        "                       div_factor=8.0,          # start LR = max_lr / div_factor\n",
        "                       final_div_factor=1e4)    # how small the final LR should be"
      ],
      "metadata": {
        "id": "lMpI3x0mBgYv"
      },
      "execution_count": 17,
      "outputs": []
    },
    {
      "cell_type": "code",
      "source": [
        "# prompt: add progress bar and estimate traing time\n",
        "\n",
        "from tqdm import tqdm\n",
        "\n",
        "# Training Loop\n",
        "train_losses = []\n",
        "val_losses = []\n",
        "epochs = 3\n",
        "best_val_loss = float('inf')  # Start with the worst possible loss\n",
        "\n",
        "import time\n",
        "\n",
        "start_time = time.time()\n",
        "\n",
        "for epoch in range(epochs):\n",
        "    epoch_start_time = time.time()  # Time at the beginning of the epoch\n",
        "    model.train()\n",
        "    train_loss = 0.0\n",
        "    train_loop = tqdm(train_dl, leave=False) # wrap train_dl with tqdm\n",
        "    for x_cat, x_num, y in train_loop:\n",
        "        optimizer.zero_grad()\n",
        "        preds = model(x_cat[:, 0].to(device), x_cat[:, 1].to(device),\n",
        "                        x_num[:, 0].to(device), x_num[:, 1].to(device))\n",
        "        loss = loss_fn(preds.squeeze(), y.to(device))\n",
        "        loss.backward()\n",
        "        optimizer.step()\n",
        "        train_loss += loss.item()\n",
        "        train_loop.set_description(f\"Epoch [{epoch+1}/{epochs}]\")\n",
        "        train_loop.set_postfix(loss=loss.item()) # add loss to progress bar\n",
        "\n",
        "    avg_train_loss = train_loss / len(train_dl)\n",
        "    train_losses.append(avg_train_loss)\n",
        "\n",
        "    model.eval()\n",
        "    val_loss = 0.0\n",
        "    with torch.no_grad():\n",
        "        for x_cat, x_num, y in val_dl:\n",
        "            preds = model(x_cat[:, 0].to(device), x_cat[:, 1].to(device),\n",
        "                            x_num[:, 0].to(device), x_num[:, 1].to(device))\n",
        "            loss = loss_fn(preds.squeeze(), y.to(device))\n",
        "            val_loss += loss.item()\n",
        "\n",
        "    scheduler.step()\n",
        "\n",
        "    avg_val_loss = val_loss / len(val_dl)\n",
        "    val_losses.append(avg_val_loss)\n",
        "\n",
        "    epoch_end_time = time.time() # Time at the end of the epoch\n",
        "    epoch_time = epoch_end_time - epoch_start_time\n",
        "    remaining_time = (epochs - (epoch+1)) * epoch_time  # Estimated remaining time\n",
        "\n",
        "    print(f\"Epoch {epoch+1}/{epochs}, Train Loss: {avg_train_loss:.4f}, Val Loss: {avg_val_loss:.4f}, Epoch Time: {epoch_time:.2f}s, Est. Remaining Time: {remaining_time:.2f}s\")\n",
        "\n",
        "    if avg_val_loss < best_val_loss:\n",
        "        best_val_loss = avg_val_loss\n",
        "        torch.save(model.state_dict(), '/content/drive/MyDrive/hotel_rec/train1/best_hotel_model.pt')\n",
        "        print(f\"✅ Model saved at epoch {epoch+1} with Val Loss: {avg_val_loss:.4f}\")\n",
        "\n",
        "end_time = time.time()\n",
        "total_training_time = end_time - start_time\n",
        "print(f\"Total training time: {total_training_time:.2f} seconds\")\n"
      ],
      "metadata": {
        "id": "PFP567E6KFu-",
        "colab": {
          "base_uri": "https://localhost:8080/"
        },
        "outputId": "dda684bd-efd7-4b76-de31-18b6c683044b"
      },
      "execution_count": 18,
      "outputs": [
        {
          "output_type": "stream",
          "name": "stderr",
          "text": []
        },
        {
          "output_type": "stream",
          "name": "stdout",
          "text": [
            "Epoch 1/3, Train Loss: 0.5467, Val Loss: 0.4263, Epoch Time: 3140.86s, Est. Remaining Time: 6281.72s\n",
            "✅ Model saved at epoch 1 with Val Loss: 0.4263\n"
          ]
        },
        {
          "output_type": "stream",
          "name": "stderr",
          "text": []
        },
        {
          "output_type": "stream",
          "name": "stdout",
          "text": [
            "Epoch 2/3, Train Loss: 0.4104, Val Loss: 0.4263, Epoch Time: 3194.13s, Est. Remaining Time: 3194.13s\n",
            "✅ Model saved at epoch 2 with Val Loss: 0.4263\n"
          ]
        },
        {
          "output_type": "stream",
          "name": "stderr",
          "text": []
        },
        {
          "output_type": "stream",
          "name": "stdout",
          "text": [
            "Epoch 3/3, Train Loss: 0.3996, Val Loss: 0.4165, Epoch Time: 3204.80s, Est. Remaining Time: 0.00s\n",
            "✅ Model saved at epoch 3 with Val Loss: 0.4165\n",
            "Total training time: 9575.49 seconds\n"
          ]
        }
      ]
    },
    {
      "cell_type": "code",
      "source": [
        "# Plotting Losses\n",
        "plt.figure(figsize=(10, 6))\n",
        "plt.plot(range(epochs), train_losses, label='Train Loss')\n",
        "plt.plot(range(epochs), val_losses, label='Testing Loss')\n",
        "plt.xlabel('Epoch')\n",
        "plt.ylabel('Loss')\n",
        "plt.title('Training & Testing Loss')\n",
        "plt.legend()\n",
        "plt.show()"
      ],
      "metadata": {
        "id": "AaAwba83h5D5",
        "colab": {
          "base_uri": "https://localhost:8080/",
          "height": 564
        },
        "outputId": "0059d226-d0a0-4364-a38b-78c71b0e1da0"
      },
      "execution_count": 22,
      "outputs": [
        {
          "output_type": "display_data",
          "data": {
            "text/plain": [
              "<Figure size 1000x600 with 1 Axes>"
            ],
            "image/png": "[encoded data removed]"
          },
          "metadata": {}
        }
      ]
    },
    {
      "cell_type": "code",
      "source": [
        "# Load the best model (if you saved it)\n",
        "model.load_state_dict(torch.load('/content/drive/MyDrive/hotel_rec/train1/best_hotel_model.pt'))\n",
        "model.to(device)\n",
        "\n",
        "# Switch to evaluation mode\n",
        "model.eval()\n",
        "\n",
        "# Initialize variables to track loss and accuracy\n",
        "test_loss = 0.0\n",
        "predictions = []\n",
        "true_values = []\n",
        "\n",
        "with torch.no_grad():  # Disable gradient calculation for evaluation\n",
        "    for X_cat, X_num, y in val_dl:  # Or use `test_dl` if testing set\n",
        "        X_cat, X_num, y = X_cat.to(device), X_num.to(device), y.to(device)\n",
        "\n",
        "        # Unpack categorical and numerical features\n",
        "        hotel_ids, author_ids = X_cat[:, 0], X_cat[:, 1]\n",
        "        service, sentiment_score = X_num[:, 0], X_num[:, 1]\n",
        "\n",
        "        # Get predictions from the model\n",
        "        preds = model(hotel_ids, author_ids, service, sentiment_score).squeeze()\n",
        "\n",
        "        # Calculate loss\n",
        "        loss = loss_fn(preds, y)\n",
        "        test_loss += loss.item()\n",
        "\n",
        "        # Collect predictions and true values for evaluation\n",
        "        predictions.extend(preds.cpu().numpy())  # Move to CPU for storage\n",
        "        true_values.extend(y.cpu().numpy())\n",
        "\n",
        "# Calculate average test loss\n",
        "avg_test_loss = test_loss / len(val_dl)\n",
        "print(f\"Test Loss: {avg_test_loss:.4f}\")\n",
        "\n",
        "# Optionally, calculate RMSE or other metrics\n",
        "from sklearn.metrics import mean_squared_error\n",
        "import numpy as np\n",
        "\n",
        "rmse = np.sqrt(mean_squared_error(true_values, predictions))\n",
        "print(f\"RMSE: {rmse:.4f}\")\n"
      ],
      "metadata": {
        "colab": {
          "base_uri": "https://localhost:8080/"
        },
        "id": "bLAUpd4nwdAB",
        "outputId": "a5c7bba5-b2fd-4c9f-e080-f379012e4ea2"
      },
      "execution_count": 23,
      "outputs": [
        {
          "output_type": "stream",
          "name": "stdout",
          "text": [
            "Test Loss: 0.4165\n",
            "RMSE: 0.6454\n"
          ]
        }
      ]
    }
  ]
}