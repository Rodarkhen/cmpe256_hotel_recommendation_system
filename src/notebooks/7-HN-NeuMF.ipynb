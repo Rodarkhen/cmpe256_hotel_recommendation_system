{
  "cells": [
    {
      "cell_type": "code",
      "execution_count": null,
      "metadata": {
        "colab": {
          "base_uri": "https://localhost:8080/"
        },
        "id": "wij560qchbYn",
        "outputId": "535eba97-95c3-4667-f9e6-6ac64e5dabec"
      },
      "outputs": [
        {
          "name": "stdout",
          "output_type": "stream",
          "text": [
            "Mounted at /content/drive\n"
          ]
        }
      ],
      "source": [
        "from google.colab import drive\n",
        "drive.mount('/content/drive')"
      ]
    },
    {
      "cell_type": "code",
      "execution_count": null,
      "metadata": {
        "id": "qyekyKe2hkDw"
      },
      "outputs": [],
      "source": [
        "import pandas as pd\n",
        "import gzip\n",
        "import numpy as np\n",
        "import torch\n",
        "from torch import nn\n",
        "from torch.utils.data import Dataset, DataLoader\n",
        "from sklearn.model_selection import train_test_split\n",
        "from sklearn.preprocessing import StandardScaler, LabelEncoder\n",
        "import torch.optim as optim\n",
        "import matplotlib.pyplot as plt\n",
        "import torch.nn.functional as F"
      ]
    },
    {
      "cell_type": "code",
      "execution_count": null,
      "metadata": {
        "id": "c2N-tXEqhmBD"
      },
      "outputs": [],
      "source": [
        "# Load the dataset\n",
        "file_path = '/content/drive/MyDrive/cmpe256_hotel_recommendation_system/data/processed/hotelrec_2013_2017_cleaned.csv.gz'\n",
        "\n",
        "with gzip.open(file_path, 'rt') as f:\n",
        "    df = pd.read_csv(f)"
      ]
    },
    {
      "cell_type": "code",
      "execution_count": null,
      "metadata": {
        "id": "IcaNxnFkH-_E"
      },
      "outputs": [],
      "source": [
        "label_encoder_author = LabelEncoder()\n",
        "df['author_id'] = label_encoder_author.fit_transform(df['author'])\n",
        "label_encoder_hotel = LabelEncoder()\n",
        "df['hotel_id'] = label_encoder_hotel.fit_transform(df['hotel_id'])"
      ]
    },
    {
      "cell_type": "markdown",
      "metadata": {
        "id": "rzJKitxZ2kI6"
      },
      "source": [
        "## NeuMF"
      ]
    },
    {
      "cell_type": "code",
      "execution_count": null,
      "metadata": {
        "id": "8yP8LYXShqUR"
      },
      "outputs": [],
      "source": [
        "# Define inputs and target\n",
        "X = df[['hotel_id', 'author_id']]\n",
        "y = df['rating']"
      ]
    },
    {
      "cell_type": "code",
      "execution_count": null,
      "metadata": {
        "id": "o-ztepFoht4k"
      },
      "outputs": [],
      "source": [
        "# First split: 70% train, 30% temporary (validation + test)\n",
        "# Train-validation split\n",
        "\n",
        "# First split: 70% train, 30% temporary (validation + test)\n",
        "X_train, X_temp, y_train, y_temp = train_test_split(\n",
        "    X, y, test_size=0.3, random_state=42\n",
        ")\n",
        "\n",
        "# Second split: 50% validation, 50% test (from the 30% temporary set)\n",
        "X_val, X_test, y_val, y_test = train_test_split(\n",
        "    X_temp, y_temp, test_size=0.5, random_state=42\n",
        ")"
      ]
    },
    {
      "cell_type": "code",
      "execution_count": null,
      "metadata": {
        "id": "M2o7NZBkhv_b"
      },
      "outputs": [],
      "source": [
        "class HotelDataset(Dataset):\n",
        "    def __init__(self, X, y):\n",
        "        self.X = torch.tensor(X.values, dtype=torch.int64)  # Convert to tensor directly\n",
        "        self.y = torch.tensor(y.values, dtype=torch.float32)\n",
        "\n",
        "    def __len__(self):\n",
        "        return len(self.y)\n",
        "\n",
        "    def __getitem__(self, idx):\n",
        "        return self.X[idx], self.y[idx]"
      ]
    },
    {
      "cell_type": "code",
      "execution_count": null,
      "metadata": {
        "id": "WiTkGVgVhyug"
      },
      "outputs": [],
      "source": [
        "# DataLoaders\n",
        "train_ds = HotelDataset(X_train, y_train)\n",
        "val_ds = HotelDataset(X_val, y_val)\n",
        "test_ds = HotelDataset(X_test, y_test)\n",
        "\n",
        "train_dl = DataLoader(train_ds, batch_size=8000, shuffle=True)\n",
        "val_dl = DataLoader(val_ds, batch_size=8000)\n",
        "test_dl = DataLoader(test_ds, batch_size=8000)"
      ]
    },
    {
      "cell_type": "code",
      "execution_count": null,
      "metadata": {
        "id": "ivj_o2VjLQWw"
      },
      "outputs": [],
      "source": [
        "n_hotels = len(label_encoder_hotel.classes_)\n",
        "n_authors = len(label_encoder_author.classes_)\n"
      ]
    },
    {
      "cell_type": "code",
      "execution_count": null,
      "metadata": {
        "id": "LnnnKbFMwDfj"
      },
      "outputs": [],
      "source": [
        "class HotelNeuMF(nn.Module):\n",
        "    def __init__(self, n_hotels, n_authors, embed_size=32):\n",
        "        super().__init__()\n",
        "\n",
        "        # Adding one extra embedding for the \"unknown\" token\n",
        "        self.hotel_emb = nn.Embedding(n_hotels + 1, embed_size)  # +1 for \"unknown\" token\n",
        "        self.author_emb = nn.Embedding(n_authors + 1, embed_size)  # +1 for \"unknown\" token\n",
        "\n",
        "        # GMF block - classic matrix factorization (element-wise product)\n",
        "        self.gmf = nn.Sequential(\n",
        "            nn.Linear(embed_size, 1)  # After element-wise product, we reduce the output to a single scalar\n",
        "        )\n",
        "\n",
        "        # MLP block\n",
        "        self.mlp = nn.Sequential(\n",
        "            nn.Linear(embed_size * 2, 64),  # Removing service and sentiment_score, hence only embedding sizes\n",
        "            nn.ReLU(),\n",
        "            nn.Linear(64, 32),\n",
        "            nn.ReLU(),\n",
        "            nn.Linear(32, 1)\n",
        "        )\n",
        "\n",
        "        # Final fusion layer\n",
        "        self.final = nn.Sequential(\n",
        "            nn.Linear(2, 1)\n",
        "        )\n",
        "\n",
        "    def forward(self, hotel_ids, author_ids):\n",
        "        # Handle unseen IDs (map to \"unknown\" token, i.e., index 0)\n",
        "        hotel_ids = torch.where(hotel_ids >= self.hotel_emb.num_embeddings,\n",
        "                                 torch.tensor(0, device=hotel_ids.device), hotel_ids)\n",
        "        author_ids = torch.where(author_ids >= self.author_emb.num_embeddings,\n",
        "                                  torch.tensor(0, device=author_ids.device), author_ids)\n",
        "\n",
        "        # Get embeddings for hotels and authors\n",
        "        hotel_emb = self.hotel_emb(hotel_ids)\n",
        "        author_emb = self.author_emb(author_ids)\n",
        "\n",
        "        # Element-wise product for GMF\n",
        "        gmf_vector = hotel_emb * author_emb  # Element-wise multiplication\n",
        "\n",
        "        # Apply GMF block (this is just a linear transformation now)\n",
        "        gmf_out = self.gmf(gmf_vector)\n",
        "\n",
        "        # Prepare input for MLP (only embeddings)\n",
        "        emb_cat = torch.cat([hotel_emb, author_emb], dim=1)\n",
        "        mlp_out = self.mlp(emb_cat)\n",
        "\n",
        "        # Combine the GMF and MLP outputs\n",
        "        combined = torch.cat([gmf_out, mlp_out], dim=1)\n",
        "\n",
        "        # Final prediction layer\n",
        "        rating = self.final(combined)\n",
        "\n",
        "        return rating.squeeze()  # Remove any extra dimensions"
      ]
    },
    {
      "cell_type": "code",
      "execution_count": null,
      "metadata": {
        "id": "tYKWdIkAh23V"
      },
      "outputs": [],
      "source": [
        "# Setup\n",
        "device = torch.device(\"cuda\" if torch.cuda.is_available() else \"cpu\")\n",
        "model = HotelNeuMF(\n",
        "    n_hotels=n_hotels,\n",
        "    n_authors=n_authors,\n",
        ").to(device)"
      ]
    },
    {
      "cell_type": "code",
      "execution_count": null,
      "metadata": {
        "id": "lMpI3x0mBgYv"
      },
      "outputs": [],
      "source": [
        "from torch.optim.lr_scheduler import OneCycleLR\n",
        "\n",
        "loss_fn = nn.MSELoss()\n",
        "# Optimizer (start with a lower base LR)\n",
        "optimizer = optim.Adam(model.parameters(), lr=1e-3)\n",
        "\n",
        "# Scheduler with warmup + decay\n",
        "scheduler = OneCycleLR(optimizer,\n",
        "                       max_lr=1e-2,             # peak LR\n",
        "                       steps_per_epoch=len(train_dl),\n",
        "                       epochs=3,\n",
        "                       pct_start=0.3,           # warmup for 30% of total steps\n",
        "                       anneal_strategy='cos',   # cosine annealing\n",
        "                       div_factor=8.0,          # start LR = max_lr / div_factor\n",
        "                       final_div_factor=1e4)    # how small the final LR should be"
      ]
    },
    {
      "cell_type": "code",
      "execution_count": null,
      "metadata": {
        "colab": {
          "background_save": true,
          "base_uri": "https://localhost:8080/"
        },
        "id": "PFP567E6KFu-",
        "outputId": "d77479a7-0365-446c-a582-dbd68a3f7f5f"
      },
      "outputs": [
        {
          "name": "stderr",
          "output_type": "stream",
          "text": [
            ""
          ]
        },
        {
          "name": "stdout",
          "output_type": "stream",
          "text": [
            "Epoch 1/12, Train Loss: 1.4590, Val Loss: 0.9844, Epoch Time: 919.46s, Est. Remaining Time: 10114.04s\n",
            "✅ Model saved at epoch 1 with Val Loss: 0.9844\n"
          ]
        },
        {
          "name": "stderr",
          "output_type": "stream",
          "text": [
            ""
          ]
        },
        {
          "name": "stdout",
          "output_type": "stream",
          "text": [
            "Epoch 2/12, Train Loss: 0.9441, Val Loss: 0.9546, Epoch Time: 917.83s, Est. Remaining Time: 9178.25s\n",
            "✅ Model saved at epoch 2 with Val Loss: 0.9546\n"
          ]
        },
        {
          "name": "stderr",
          "output_type": "stream",
          "text": [
            ""
          ]
        },
        {
          "name": "stdout",
          "output_type": "stream",
          "text": [
            "Epoch 3/12, Train Loss: 0.8855, Val Loss: 0.9600, Epoch Time: 914.59s, Est. Remaining Time: 8231.34s\n"
          ]
        },
        {
          "name": "stderr",
          "output_type": "stream",
          "text": [
            ""
          ]
        },
        {
          "name": "stdout",
          "output_type": "stream",
          "text": [
            "Epoch 4/12, Train Loss: 0.8004, Val Loss: 0.9927, Epoch Time: 913.81s, Est. Remaining Time: 7310.51s\n"
          ]
        },
        {
          "name": "stderr",
          "output_type": "stream",
          "text": [
            ""
          ]
        },
        {
          "name": "stdout",
          "output_type": "stream",
          "text": [
            "Epoch 5/12, Train Loss: 0.6959, Val Loss: 1.0448, Epoch Time: 917.67s, Est. Remaining Time: 6423.66s\n"
          ]
        },
        {
          "name": "stderr",
          "output_type": "stream",
          "text": [
            ""
          ]
        },
        {
          "name": "stdout",
          "output_type": "stream",
          "text": [
            "Epoch 6/12, Train Loss: 0.5826, Val Loss: 1.1083, Epoch Time: 914.39s, Est. Remaining Time: 5486.32s\n"
          ]
        },
        {
          "name": "stderr",
          "output_type": "stream",
          "text": [
            ""
          ]
        },
        {
          "name": "stdout",
          "output_type": "stream",
          "text": [
            "Epoch 7/12, Train Loss: 0.4772, Val Loss: 1.1776, Epoch Time: 913.90s, Est. Remaining Time: 4569.52s\n"
          ]
        },
        {
          "name": "stderr",
          "output_type": "stream",
          "text": [
            ""
          ]
        },
        {
          "name": "stdout",
          "output_type": "stream",
          "text": [
            "Epoch 8/12, Train Loss: 0.3893, Val Loss: 1.2458, Epoch Time: 912.85s, Est. Remaining Time: 3651.38s\n"
          ]
        },
        {
          "name": "stderr",
          "output_type": "stream",
          "text": [
            ""
          ]
        },
        {
          "name": "stdout",
          "output_type": "stream",
          "text": [
            "Epoch 9/12, Train Loss: 0.3189, Val Loss: 1.3299, Epoch Time: 911.56s, Est. Remaining Time: 2734.68s\n"
          ]
        },
        {
          "name": "stderr",
          "output_type": "stream",
          "text": [
            ""
          ]
        },
        {
          "name": "stdout",
          "output_type": "stream",
          "text": [
            "Epoch 10/12, Train Loss: 0.2636, Val Loss: 1.3926, Epoch Time: 911.20s, Est. Remaining Time: 1822.41s\n"
          ]
        },
        {
          "name": "stderr",
          "output_type": "stream",
          "text": [
            ""
          ]
        },
        {
          "name": "stdout",
          "output_type": "stream",
          "text": [
            "Epoch 11/12, Train Loss: 0.2211, Val Loss: 1.4351, Epoch Time: 915.21s, Est. Remaining Time: 915.21s\n"
          ]
        },
        {
          "name": "stderr",
          "output_type": "stream",
          "text": [
            ""
          ]
        },
        {
          "name": "stdout",
          "output_type": "stream",
          "text": [
            "Epoch 12/12, Train Loss: 0.1890, Val Loss: 1.4973, Epoch Time: 914.26s, Est. Remaining Time: 0.00s\n",
            "Total training time: 10990.11 seconds\n"
          ]
        }
      ],
      "source": [
        "from tqdm import tqdm\n",
        "\n",
        "# Training Loop\n",
        "train_losses = []\n",
        "val_losses = []\n",
        "epochs = 12\n",
        "best_val_loss = float('inf')  # Start with the worst possible loss\n",
        "\n",
        "import time\n",
        "\n",
        "start_time = time.time()\n",
        "\n",
        "for epoch in range(epochs):\n",
        "    epoch_start_time = time.time()  # Time at the beginning of the epoch\n",
        "    model.train()\n",
        "    train_loss = 0.0\n",
        "    train_loop = tqdm(train_dl, leave=False) # wrap train_dl with tqdm\n",
        "    for X, y in train_loop:\n",
        "        optimizer.zero_grad()\n",
        "        preds = model(X[:, 0].to(device), X[:, 1].to(device))\n",
        "        loss = loss_fn(preds.squeeze(), y.to(device))\n",
        "        loss.backward()\n",
        "        optimizer.step()\n",
        "        train_loss += loss.item()\n",
        "        train_loop.set_description(f\"Epoch [{epoch+1}/{epochs}]\")\n",
        "        train_loop.set_postfix(loss=loss.item()) # add loss to progress bar\n",
        "\n",
        "    avg_train_loss = train_loss / len(train_dl)\n",
        "    train_losses.append(avg_train_loss)\n",
        "\n",
        "    model.eval()\n",
        "    val_loss = 0.0\n",
        "    with torch.no_grad():\n",
        "        for X, y in val_dl:\n",
        "            preds = model(X[:, 0].to(device), X[:, 1].to(device))\n",
        "            loss = loss_fn(preds.squeeze(), y.to(device))\n",
        "            val_loss += loss.item()\n",
        "\n",
        "    scheduler.step()\n",
        "\n",
        "    avg_val_loss = val_loss / len(val_dl)\n",
        "    val_losses.append(avg_val_loss)\n",
        "\n",
        "    epoch_end_time = time.time() # Time at the end of the epoch\n",
        "    epoch_time = epoch_end_time - epoch_start_time\n",
        "    remaining_time = (epochs - (epoch+1)) * epoch_time  # Estimated remaining time\n",
        "\n",
        "    print(f\"Epoch {epoch+1}/{epochs}, Train Loss: {avg_train_loss:.4f}, Val Loss: {avg_val_loss:.4f}, Epoch Time: {epoch_time:.2f}s, Est. Remaining Time: {remaining_time:.2f}s\")\n",
        "\n",
        "    if avg_val_loss < best_val_loss:\n",
        "        best_val_loss = avg_val_loss\n",
        "        torch.save(model.state_dict(), '/content/drive/MyDrive/cmpe256_hotel_recommendation_system/models/neumf_model.pt')\n",
        "        print(f\"✅ Model saved at epoch {epoch+1} with Val Loss: {avg_val_loss:.4f}\")\n",
        "\n",
        "end_time = time.time()\n",
        "total_training_time = end_time - start_time\n",
        "print(f\"Total training time: {total_training_time:.2f} seconds\")\n"
      ]
    },
    {
      "cell_type": "code",
      "execution_count": null,
      "metadata": {
        "colab": {
          "background_save": true
        },
        "id": "rI-_clmH1ZUl",
        "outputId": "a3c5d12a-16e0-4bb5-c84b-f8bb436f48a4"
      },
      "outputs": [
        {
          "data": {
            "image/png": "[encoded data removed]",
            "text/plain": [
              "<Figure size 1000x600 with 1 Axes>"
            ]
          },
          "metadata": {},
          "output_type": "display_data"
        }
      ],
      "source": [
        "import matplotlib.pyplot as plt\n",
        "\n",
        "# Plotting the training and validation loss\n",
        "plt.figure(figsize=(10, 6))\n",
        "plt.plot(range(1, epochs + 1), train_losses, label=\"Training Loss\", color='blue', linestyle='-', marker='o')\n",
        "plt.plot(range(1, epochs + 1), val_losses, label=\"Validation Loss\", color='red', linestyle='-', marker='x')\n",
        "\n",
        "# Add labels and title\n",
        "plt.title(\"Training vs Validation Loss\")\n",
        "plt.xlabel(\"Epochs\")\n",
        "plt.ylabel(\"Loss\")\n",
        "plt.legend()\n",
        "\n",
        "# Show the plot\n",
        "plt.grid(True)\n",
        "plt.show()\n"
      ]
    },
    {
      "cell_type": "code",
      "execution_count": null,
      "metadata": {
        "colab": {
          "base_uri": "https://localhost:8080/"
        },
        "id": "bLAUpd4nwdAB",
        "outputId": "90af979e-4c4f-4677-e710-4c62f8ec0b7b"
      },
      "outputs": [
        {
          "name": "stdout",
          "output_type": "stream",
          "text": [
            "Test Loss: 0.4085\n",
            "RMSE: 0.6392\n",
            "MAE: 0.4576\n"
          ]
        }
      ],
      "source": [
        "# model.load_state_dict(torch.load('/content/drive/MyDrive/cmpe256_hotel_recommendation_system/models/neumf_model.pt'))\n",
        "# model.to(device)\n",
        "\n",
        "# Switch to evaluation mode\n",
        "model.eval()\n",
        "\n",
        "# Initialize variables to track loss and accuracy\n",
        "test_loss = 0.0\n",
        "predictions = []\n",
        "true_values = []\n",
        "\n",
        "with torch.no_grad():  # Disable gradient calculation for evaluation\n",
        "    for X, y in test_dl:  # Or use `test_dl` if testing set\n",
        "        X, y = X.to(device), y.to(device)\n",
        "\n",
        "        # Unpack features\n",
        "        hotel_ids, author_ids = X[:, 0], X[:, 1]\n",
        "\n",
        "        # Get predictions from the model\n",
        "        preds = model(hotel_ids, author_ids).squeeze()\n",
        "\n",
        "        # Calculate loss\n",
        "        loss = loss_fn(preds, y)\n",
        "        test_loss += loss.item()\n",
        "\n",
        "        # Collect predictions and true values for evaluation\n",
        "        predictions.extend(preds.cpu().numpy())  # Move to CPU for storage\n",
        "        true_values.extend(y.cpu().numpy())\n",
        "\n",
        "# Calculate average test loss\n",
        "avg_test_loss = test_loss / len(test_dl)\n",
        "print(f\"Test Loss: {avg_test_loss:.4f}\")\n",
        "\n",
        "# Optionally, calculate RMSE or other metrics\n",
        "from sklearn.metrics import mean_squared_error, mean_absolute_error\n",
        "import numpy as np\n",
        "\n",
        "rmse = np.sqrt(mean_squared_error(true_values, predictions))\n",
        "print(f\"RMSE: {rmse:.4f}\")\n",
        "mae = mean_absolute_error(true_values, predictions)\n",
        "print(f\"MAE: {mae:.4f}\")\n"
      ]
    },
    {
      "cell_type": "code",
      "source": [],
      "metadata": {
        "id": "7uT1ERXhNIG9"
      },
      "execution_count": null,
      "outputs": []
    }
  ],
  "metadata": {
    "accelerator": "GPU",
    "colab": {
      "gpuType": "T4",
      "machine_shape": "hm",
      "provenance": []
    },
    "kernelspec": {
      "display_name": "Python 3",
      "name": "python3"
    },
    "language_info": {
      "name": "python"
    }
  },
  "nbformat": 4,
  "nbformat_minor": 0
}