{
 "cells": [
  {
   "cell_type": "code",
   "execution_count": 17,
   "id": "0e63ef5a",
   "metadata": {},
   "outputs": [],
   "source": [
    "# --- Imports ---\n",
    "import pandas as pd\n",
    "import numpy as np\n",
    "from sklearn.cluster import KMeans\n",
    "from sklearn.preprocessing import StandardScaler\n",
    "from sklearn.linear_model import LinearRegression\n",
    "from sklearn.model_selection import train_test_split\n",
    "from sklearn.metrics import mean_squared_error, mean_absolute_error, r2_score\n",
    "import lightgbm as lgb\n",
    "import os"
   ]
  },
  {
   "cell_type": "code",
   "execution_count": null,
   "id": "41f2825d",
   "metadata": {},
   "outputs": [],
   "source": [
    "# --- Setup ---\n",
    "current_dir = os.path.abspath(os.path.join(os.getcwd(), '..', '..'))\n",
    "input_path = os.path.join(current_dir, 'data', 'processed', 'hotelrec_2013_2017_cleaned_encoded.csv.gz')"
   ]
  },
  {
   "cell_type": "code",
   "execution_count": 6,
   "id": "62f71dc4",
   "metadata": {},
   "outputs": [],
   "source": [
    "# --- Load data ---\n",
    "hotel_data = pd.read_csv(input_path, usecols=[\n",
    "    'hotel_name_id', 'sentiment_score', 'sleep quality', 'value', 'rooms', 'service', 'cleanliness', 'location'\n",
    "])"
   ]
  },
  {
   "cell_type": "code",
   "execution_count": 7,
   "id": "c5b75efb",
   "metadata": {},
   "outputs": [
    {
     "name": "stdout",
     "output_type": "stream",
     "text": [
      "Grouped hotel dataset shape: (308905, 8)\n"
     ]
    }
   ],
   "source": [
    "# --- Group by hotel ---\n",
    "hotel_grouped = hotel_data.groupby('hotel_name_id').mean().reset_index()\n",
    "\n",
    "print(f\"Grouped hotel dataset shape: {hotel_grouped.shape}\")"
   ]
  },
  {
   "cell_type": "code",
   "execution_count": 8,
   "id": "c70ece9a",
   "metadata": {},
   "outputs": [],
   "source": [
    "# --- Fill missing values (if any) ---\n",
    "structured_features = ['sentiment_score', 'sleep quality', 'value', 'rooms', 'service', 'cleanliness', 'location']\n",
    "hotel_grouped[structured_features] = hotel_grouped[structured_features].fillna(hotel_grouped[structured_features].mean())"
   ]
  },
  {
   "cell_type": "code",
   "execution_count": 9,
   "id": "53220cc4",
   "metadata": {},
   "outputs": [],
   "source": [
    "# --- Normalize features ---\n",
    "scaler = StandardScaler()\n",
    "hotel_features_scaled = scaler.fit_transform(hotel_grouped[structured_features])"
   ]
  },
  {
   "cell_type": "code",
   "execution_count": null,
   "id": "d559839f",
   "metadata": {},
   "outputs": [
    {
     "data": {
      "image/png": "[encoded data removed]",
      "text/plain": [
       "<Figure size 640x480 with 1 Axes>"
      ]
     },
     "metadata": {},
     "output_type": "display_data"
    }
   ],
   "source": [
    "import pandas as pd\n",
    "import matplotlib.pyplot as plt\n",
    "from sklearn.cluster import KMeans\n",
    "from sklearn.metrics import silhouette_score\n",
    "\n",
    "# Assume X_scaled is your normalized feature matrix\n",
    "\n",
    "inertias = []\n",
    "K = range(1, 9)  # Test from 1 to 9 clusters\n",
    "\n",
    "for k in K:\n",
    "    kmeans = KMeans(n_clusters=k, random_state=42, n_init=10)\n",
    "    labels = kmeans.fit_predict(hotel_features_scaled)\n",
    "    inertias.append(kmeans.inertia_)\n",
    "    \n",
    "# Plot Inertia (Elbow method)\n",
    "plt.figure()\n",
    "plt.plot(K, inertias, 'bo-')\n",
    "plt.xlabel('Number of clusters (k)')\n",
    "plt.ylabel('Inertia (WSS)')\n",
    "plt.title('Elbow Method For Optimal k')\n",
    "plt.show()\n",
    "\n",
    "\n"
   ]
  },
  {
   "cell_type": "code",
   "execution_count": 10,
   "id": "c525301e",
   "metadata": {},
   "outputs": [
    {
     "name": "stderr",
     "output_type": "stream",
     "text": [
      "/home/ant/anaconda3/lib/python3.11/site-packages/sklearn/cluster/_kmeans.py:1412: FutureWarning: The default value of `n_init` will change from 10 to 'auto' in 1.4. Set the value of `n_init` explicitly to suppress the warning\n",
      "  super()._check_params_vs_input(X, default_n_init=10)\n"
     ]
    }
   ],
   "source": [
    "# --- Apply KMeans clustering ---\n",
    "n_clusters = 5  # or you can try 3, 7, 10 — tune this later\n",
    "kmeans = KMeans(n_clusters=n_clusters, random_state=42)\n",
    "hotel_grouped['hotel_cluster'] = kmeans.fit_predict(hotel_features_scaled)"
   ]
  },
  {
   "cell_type": "code",
   "execution_count": 11,
   "id": "775cd4b5",
   "metadata": {},
   "outputs": [
    {
     "name": "stdout",
     "output_type": "stream",
     "text": [
      "\n",
      "Successfully assigned hotel clusters and saved to hotel_clusters.csv\n"
     ]
    }
   ],
   "source": [
    "# --- Save clustered hotel data ---\n",
    "hotel_grouped.to_csv(os.path.join(current_dir, 'data', 'processed', 'hotel_clusters.csv'), index=False)\n",
    "\n",
    "print(\"\\nSuccessfully assigned hotel clusters and saved to hotel_clusters.csv\")"
   ]
  },
  {
   "cell_type": "code",
   "execution_count": 12,
   "id": "ccdd9ee0",
   "metadata": {},
   "outputs": [
    {
     "data": {
      "text/plain": [
       "(308905, 9)"
      ]
     },
     "execution_count": 12,
     "metadata": {},
     "output_type": "execute_result"
    }
   ],
   "source": [
    "hotel_grouped.shape"
   ]
  },
  {
   "cell_type": "code",
   "execution_count": 13,
   "id": "e11e22b8",
   "metadata": {},
   "outputs": [
    {
     "data": {
      "text/html": [
       "<div>\n",
       "<style scoped>\n",
       "    .dataframe tbody tr th:only-of-type {\n",
       "        vertical-align: middle;\n",
       "    }\n",
       "\n",
       "    .dataframe tbody tr th {\n",
       "        vertical-align: top;\n",
       "    }\n",
       "\n",
       "    .dataframe thead th {\n",
       "        text-align: right;\n",
       "    }\n",
       "</style>\n",
       "<table border=\"1\" class=\"dataframe\">\n",
       "  <thead>\n",
       "    <tr style=\"text-align: right;\">\n",
       "      <th></th>\n",
       "      <th>hotel_name_id</th>\n",
       "      <th>sentiment_score</th>\n",
       "      <th>sleep quality</th>\n",
       "      <th>value</th>\n",
       "      <th>rooms</th>\n",
       "      <th>service</th>\n",
       "      <th>cleanliness</th>\n",
       "      <th>location</th>\n",
       "      <th>hotel_cluster</th>\n",
       "    </tr>\n",
       "  </thead>\n",
       "  <tbody>\n",
       "    <tr>\n",
       "      <th>0</th>\n",
       "      <td>0</td>\n",
       "      <td>0.431348</td>\n",
       "      <td>4.857143</td>\n",
       "      <td>4.793103</td>\n",
       "      <td>4.769231</td>\n",
       "      <td>4.850000</td>\n",
       "      <td>4.961538</td>\n",
       "      <td>4.758621</td>\n",
       "      <td>1</td>\n",
       "    </tr>\n",
       "    <tr>\n",
       "      <th>1</th>\n",
       "      <td>1</td>\n",
       "      <td>0.147716</td>\n",
       "      <td>3.166667</td>\n",
       "      <td>3.916667</td>\n",
       "      <td>2.769231</td>\n",
       "      <td>3.333333</td>\n",
       "      <td>3.100000</td>\n",
       "      <td>2.933333</td>\n",
       "      <td>4</td>\n",
       "    </tr>\n",
       "    <tr>\n",
       "      <th>2</th>\n",
       "      <td>2</td>\n",
       "      <td>0.224727</td>\n",
       "      <td>3.666667</td>\n",
       "      <td>3.900000</td>\n",
       "      <td>3.272727</td>\n",
       "      <td>3.750000</td>\n",
       "      <td>3.947368</td>\n",
       "      <td>3.666667</td>\n",
       "      <td>0</td>\n",
       "    </tr>\n",
       "    <tr>\n",
       "      <th>3</th>\n",
       "      <td>3</td>\n",
       "      <td>0.390456</td>\n",
       "      <td>5.000000</td>\n",
       "      <td>4.666667</td>\n",
       "      <td>5.000000</td>\n",
       "      <td>4.833333</td>\n",
       "      <td>4.666667</td>\n",
       "      <td>4.500000</td>\n",
       "      <td>1</td>\n",
       "    </tr>\n",
       "    <tr>\n",
       "      <th>4</th>\n",
       "      <td>4</td>\n",
       "      <td>0.416152</td>\n",
       "      <td>5.000000</td>\n",
       "      <td>5.000000</td>\n",
       "      <td>5.000000</td>\n",
       "      <td>4.937500</td>\n",
       "      <td>4.750000</td>\n",
       "      <td>4.600000</td>\n",
       "      <td>1</td>\n",
       "    </tr>\n",
       "  </tbody>\n",
       "</table>\n",
       "</div>"
      ],
      "text/plain": [
       "   hotel_name_id  sentiment_score  sleep quality     value     rooms  \\\n",
       "0              0         0.431348       4.857143  4.793103  4.769231   \n",
       "1              1         0.147716       3.166667  3.916667  2.769231   \n",
       "2              2         0.224727       3.666667  3.900000  3.272727   \n",
       "3              3         0.390456       5.000000  4.666667  5.000000   \n",
       "4              4         0.416152       5.000000  5.000000  5.000000   \n",
       "\n",
       "    service  cleanliness  location  hotel_cluster  \n",
       "0  4.850000     4.961538  4.758621              1  \n",
       "1  3.333333     3.100000  2.933333              4  \n",
       "2  3.750000     3.947368  3.666667              0  \n",
       "3  4.833333     4.666667  4.500000              1  \n",
       "4  4.937500     4.750000  4.600000              1  "
      ]
     },
     "execution_count": 13,
     "metadata": {},
     "output_type": "execute_result"
    }
   ],
   "source": [
    "hotel_grouped.head()"
   ]
  },
  {
   "cell_type": "code",
   "execution_count": null,
   "id": "6e93289a",
   "metadata": {},
   "outputs": [],
   "source": [
    "# --- Helper function to get predictions ---\n",
    "def get_predictions(model, X):\n",
    "    \"\"\"\n",
    "    Predict using a trained model.\n",
    "    \n",
    "    Args:\n",
    "        model: Trained model (SVD, LightGBM, etc.)\n",
    "        X: Input features (for LightGBM) or user-item pairs (for SVD)\n",
    "\n",
    "    Returns:\n",
    "        numpy array of predictions\n",
    "    \"\"\"\n",
    "    return model.predict(X)\n",
    "\n",
    "# --- Helper function to evaluate ---\n",
    "def evaluate_predictions(y_true, y_pred):\n",
    "    \"\"\"\n",
    "    Evaluate RMSE and MAE.\n",
    "    \n",
    "    Args:\n",
    "        y_true: True ratings\n",
    "        y_pred: Predicted ratings\n",
    "        \n",
    "    Returns:\n",
    "        rmse, mae\n",
    "    \"\"\"\n",
    "    rmse = mean_squared_error(y_true, y_pred, squared=False)\n",
    "    mae = mean_absolute_error(y_true, y_pred)\n",
    "    r2 = r2_score(y_true, y_pred)\n",
    "    return rmse, mae, r2"
   ]
  },
  {
   "cell_type": "code",
   "execution_count": null,
   "id": "d773ecbd",
   "metadata": {},
   "outputs": [],
   "source": []
  }
 ],
 "metadata": {
  "kernelspec": {
   "display_name": "Python 3 (ipykernel)",
   "language": "python",
   "name": "python3"
  },
  "language_info": {
   "codemirror_mode": {
    "name": "ipython",
    "version": 3
   },
   "file_extension": ".py",
   "mimetype": "text/x-python",
   "name": "python",
   "nbconvert_exporter": "python",
   "pygments_lexer": "ipython3",
   "version": "3.11.4"
  }
 },
 "nbformat": 4,
 "nbformat_minor": 5
}
