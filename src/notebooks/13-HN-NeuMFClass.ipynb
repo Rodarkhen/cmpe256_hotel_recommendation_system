{
  "nbformat": 4,
  "nbformat_minor": 0,
  "metadata": {
    "colab": {
      "provenance": [],
      "machine_shape": "hm",
      "gpuType": "T4"
    },
    "kernelspec": {
      "name": "python3",
      "display_name": "Python 3"
    },
    "language_info": {
      "name": "python"
    },
    "accelerator": "GPU"
  },
  "cells": [
    {
      "cell_type": "code",
      "execution_count": 1,
      "metadata": {
        "colab": {
          "base_uri": "https://localhost:8080/"
        },
        "id": "oQ6hciRcGA0L",
        "outputId": "5d81f57a-b1a1-4495-d696-fff690ef2b74"
      },
      "outputs": [
        {
          "output_type": "stream",
          "name": "stdout",
          "text": [
            "Mounted at /content/drive\n"
          ]
        }
      ],
      "source": [
        "from google.colab import drive\n",
        "drive.mount('/content/drive')"
      ]
    },
    {
      "cell_type": "code",
      "source": [
        "import pandas as pd\n",
        "import gzip\n",
        "import numpy as np\n",
        "import torch\n",
        "from torch import nn\n",
        "from torch.utils.data import Dataset, DataLoader\n",
        "from sklearn.preprocessing import LabelEncoder\n",
        "from sklearn.model_selection import StratifiedShuffleSplit\n",
        "from sklearn.metrics import mean_squared_error, mean_absolute_error"
      ],
      "metadata": {
        "id": "oB1SFqdTGJmj"
      },
      "execution_count": 7,
      "outputs": []
    },
    {
      "cell_type": "code",
      "source": [
        "import pandas as pd\n",
        "import gzip\n",
        "# Load the dataset\n",
        "file_path = '/content/drive/MyDrive/cmpe256_hotel_recommendation_system/data/processed/hotelrec_2013_2017_cleaned.csv.gz'\n",
        "\n",
        "with gzip.open(file_path, 'rt') as f:\n",
        "    df = pd.read_csv(f)"
      ],
      "metadata": {
        "id": "Wr9jDJ26GL_9"
      },
      "execution_count": 3,
      "outputs": []
    },
    {
      "cell_type": "code",
      "source": [
        "device = torch.device(\"cuda\" if torch.cuda.is_available() else \"cpu\")"
      ],
      "metadata": {
        "id": "FI8KwlLTIkXy"
      },
      "execution_count": 6,
      "outputs": []
    },
    {
      "cell_type": "code",
      "source": [
        "class HotelDataset(Dataset):\n",
        "    def __init__(self, X, y):\n",
        "        self.X = torch.tensor(X.values, dtype=torch.int64)  # Convert to tensor directly\n",
        "        self.y = torch.tensor(y.values, dtype=torch.float32)\n",
        "\n",
        "    def __len__(self):\n",
        "        return len(self.y)\n",
        "\n",
        "    def __getitem__(self, idx):\n",
        "        return self.X[idx], self.y[idx]"
      ],
      "metadata": {
        "id": "O3F2x6wcH1UV"
      },
      "execution_count": 4,
      "outputs": []
    },
    {
      "cell_type": "code",
      "source": [
        "class HotelNeuMF(nn.Module):\n",
        "    def __init__(self, n_hotels, n_authors, embed_size=32):\n",
        "        super().__init__()\n",
        "\n",
        "        # Adding one extra embedding for the \"unknown\" token\n",
        "        self.hotel_emb = nn.Embedding(n_hotels + 1, embed_size)  # +1 for \"unknown\" token\n",
        "        self.author_emb = nn.Embedding(n_authors + 1, embed_size)  # +1 for \"unknown\" token\n",
        "\n",
        "        # GMF block - classic matrix factorization (element-wise product)\n",
        "        self.gmf = nn.Sequential(\n",
        "            nn.Linear(embed_size, 1)  # After element-wise product, we reduce the output to a single scalar\n",
        "        )\n",
        "\n",
        "        # MLP block\n",
        "        self.mlp = nn.Sequential(\n",
        "            nn.Linear(embed_size * 2, 64),  # Removing service and sentiment_score, hence only embedding sizes\n",
        "            nn.ReLU(),\n",
        "            nn.Linear(64, 32),\n",
        "            nn.ReLU(),\n",
        "            nn.Linear(32, 1)\n",
        "        )\n",
        "\n",
        "        # Final fusion layer\n",
        "        self.final = nn.Sequential(\n",
        "            nn.Linear(2, 1)\n",
        "        )\n",
        "\n",
        "    def forward(self, hotel_ids, author_ids):\n",
        "        # Handle unseen IDs (map to \"unknown\" token, i.e., index 0)\n",
        "        hotel_ids = torch.where(hotel_ids >= self.hotel_emb.num_embeddings,\n",
        "                                 torch.tensor(0, device=hotel_ids.device), hotel_ids)\n",
        "        author_ids = torch.where(author_ids >= self.author_emb.num_embeddings,\n",
        "                                  torch.tensor(0, device=author_ids.device), author_ids)\n",
        "\n",
        "        # Get embeddings for hotels and authors\n",
        "        hotel_emb = self.hotel_emb(hotel_ids)\n",
        "        author_emb = self.author_emb(author_ids)\n",
        "\n",
        "        # Element-wise product for GMF\n",
        "        gmf_vector = hotel_emb * author_emb  # Element-wise multiplication\n",
        "\n",
        "        # Apply GMF block (this is just a linear transformation now)\n",
        "        gmf_out = self.gmf(gmf_vector)\n",
        "\n",
        "        # Prepare input for MLP (only embeddings)\n",
        "        emb_cat = torch.cat([hotel_emb, author_emb], dim=1)\n",
        "        mlp_out = self.mlp(emb_cat)\n",
        "\n",
        "        # Combine the GMF and MLP outputs\n",
        "        combined = torch.cat([gmf_out, mlp_out], dim=1)\n",
        "\n",
        "        # Final prediction layer\n",
        "        rating = self.final(combined)\n",
        "\n",
        "        return rating.squeeze()  # Remove any extra dimensions"
      ],
      "metadata": {
        "id": "I5xaPeD7IBov"
      },
      "execution_count": 28,
      "outputs": []
    },
    {
      "cell_type": "code",
      "source": [
        "class HotelRecommendationAnalysis:\n",
        "    def __init__(self, file_path, model_type=\"neumf\", model_path=None):\n",
        "        self.model_type = model_type.lower()\n",
        "        self.model_path = model_path\n",
        "\n",
        "        # Load gzipped CSV\n",
        "        with gzip.open(file_path, 'rt') as f:\n",
        "            self.data = pd.read_csv(f)\n",
        "\n",
        "        # Label encoding\n",
        "        self.label_encoder_author = LabelEncoder()\n",
        "        self.label_encoder_hotel = LabelEncoder()\n",
        "        self.data['author_id'] = self.label_encoder_author.fit_transform(self.data['author'])\n",
        "        self.data['hotel_id'] = self.label_encoder_hotel.fit_transform(self.data['hotel_id'])\n",
        "\n",
        "        self.n_authors = len(self.label_encoder_author.classes_)\n",
        "        self.n_hotels = len(self.label_encoder_hotel.classes_)\n",
        "\n",
        "        # Stratified split\n",
        "        self.sss = StratifiedShuffleSplit(n_splits=1, test_size=0.2, random_state=42)\n",
        "        train_idx, test_idx = next(self.sss.split(self.data, self.data['rating']))\n",
        "        self.train_data = self.data.iloc[train_idx]\n",
        "        self.test_data = self.data.iloc[test_idx]\n",
        "\n",
        "        # Split test_data into X and y\n",
        "        feature_cols = ['hotel_id', 'author_id']\n",
        "        X_test = self.test_data[feature_cols]\n",
        "        y_test = self.test_data['rating']\n",
        "\n",
        "        # Create datasets for test\n",
        "        self.test_ds = HotelDataset(X_test, y_test)\n",
        "        # Create DataLoaders\n",
        "        self.test_dl = DataLoader(self.test_ds, batch_size=4000)\n",
        "\n",
        "        # Load model\n",
        "        self._load_model()\n",
        "\n",
        "        self.results = {}\n",
        "\n",
        "    def _load_model(self):\n",
        "        if self.model_type == \"neumf\":\n",
        "            self.model = HotelNeuMF(self.n_hotels, self.n_authors).to(device)\n",
        "            if self.model_path:\n",
        "                self.model.load_state_dict(torch.load('/content/drive/MyDrive/cmpe256_hotel_recommendation_system/models/neumf_model.pt'))\n",
        "            self.model.eval()\n",
        "        else:\n",
        "            raise ValueError(f\"Unsupported model type: {self.model_type}\")\n",
        "\n",
        "    def neumf_evaluation(self):\n",
        "        self.model.eval()\n",
        "        predictions, true_values = [], []\n",
        "\n",
        "        with torch.no_grad():\n",
        "            for X, y in self.test_dl:\n",
        "                X, y = X.to(device), y.to(device)\n",
        "\n",
        "                # Unpack features\n",
        "                hotel_ids, author_ids = X[:, 0], X[:, 1]\n",
        "\n",
        "                # Get predictions from the model\n",
        "                preds = self.model(hotel_ids, author_ids).squeeze()\n",
        "\n",
        "                predictions.extend(preds.cpu().numpy())\n",
        "                true_values.extend(y.cpu().numpy())\n",
        "\n",
        "        rmse = np.sqrt(mean_squared_error(true_values, predictions))\n",
        "        mae = mean_absolute_error(true_values, predictions)\n",
        "        self.results['NeuMF'] = {'RMSE': rmse, 'MAE': mae}\n",
        "        print(f\"NeuMF Evaluation: RMSE = {rmse:.4f}, MAE = {mae:.4f}\")\n",
        "        return self.results"
      ],
      "metadata": {
        "id": "5ugSZ2UMTsjV"
      },
      "execution_count": 36,
      "outputs": []
    },
    {
      "cell_type": "code",
      "source": [
        "# Pass the model class instead of instance; instance will be created inside\n",
        "analysis = HotelRecommendationAnalysis(\n",
        "    file_path=\"/content/drive/MyDrive/cmpe256_hotel_recommendation_system/data/processed/hotelrec_2013_2017_cleaned.csv.gz\",\n",
        "    model_type=\"neumf\",\n",
        "    model_path=\"/content/drive/MyDrive/cmpe256_hotel_recommendation_system/models/neumf_model.pt\"\n",
        ")\n",
        "\n",
        "# Get evaluation results\n",
        "results = analysis.neumf_evaluation()"
      ],
      "metadata": {
        "colab": {
          "base_uri": "https://localhost:8080/"
        },
        "id": "mE133VhmK-MA",
        "outputId": "903dca3c-9eec-449c-a8c9-7215f6d61930"
      },
      "execution_count": 37,
      "outputs": [
        {
          "output_type": "stream",
          "name": "stdout",
          "text": [
            "NeuMF Evaluation: RMSE = 0.9542, MAE = 0.7135\n"
          ]
        }
      ]
    },
    {
      "cell_type": "code",
      "source": [],
      "metadata": {
        "id": "Z_UU6OV-Vb0B"
      },
      "execution_count": null,
      "outputs": []
    }
  ]
}