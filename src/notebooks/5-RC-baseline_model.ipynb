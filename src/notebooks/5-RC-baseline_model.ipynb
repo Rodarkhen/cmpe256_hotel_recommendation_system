{
 "cells": [
  {
   "cell_type": "code",
   "execution_count": null,
   "id": "28da9da0",
   "metadata": {},
   "outputs": [],
   "source": [
    "# --- Imports ---\n",
    "import pandas as pd\n",
    "import numpy as np\n",
    "import os\n",
    "from surprise import Dataset, Reader, SVD\n",
    "from surprise.model_selection import train_test_split, cross_validate\n",
    "from sklearn.metrics import mean_squared_error, mean_absolute_error, r2_score\n",
    "from tqdm import tqdm "
   ]
  },
  {
   "cell_type": "code",
   "execution_count": 2,
   "id": "bc4ba15e",
   "metadata": {},
   "outputs": [
    {
     "data": {
      "text/plain": [
       "'/root/cmpe256/cmpe256_hotel_recommendation_system'"
      ]
     },
     "execution_count": 2,
     "metadata": {},
     "output_type": "execute_result"
    }
   ],
   "source": [
    "current_dir = os.path.abspath(os.path.join(os.getcwd(), '..', '..'))\n",
    "current_dir"
   ]
  },
  {
   "cell_type": "code",
   "execution_count": 3,
   "id": "ab701f3f",
   "metadata": {},
   "outputs": [
    {
     "data": {
      "text/plain": [
       "'/root/cmpe256/cmpe256_hotel_recommendation_system/data/processed/hotelrec_2013_2017_cleaned.csv.gz'"
      ]
     },
     "execution_count": 3,
     "metadata": {},
     "output_type": "execute_result"
    }
   ],
   "source": [
    "file_path = os.path.join(current_dir, 'data', 'processed', 'hotelrec_2013_2017_cleaned.csv.gz')\n",
    "file_path"
   ]
  },
  {
   "cell_type": "code",
   "execution_count": 4,
   "id": "b3364237",
   "metadata": {},
   "outputs": [],
   "source": [
    "# Parameters\n",
    "chunk_size = 1_000_000\n",
    "reader = Reader(rating_scale=(1, 5))"
   ]
  },
  {
   "cell_type": "code",
   "execution_count": 5,
   "id": "a2a5c848",
   "metadata": {},
   "outputs": [],
   "source": [
    "# Load data\n",
    "df = pd.read_csv(file_path)"
   ]
  },
  {
   "cell_type": "code",
   "execution_count": 11,
   "id": "64e85bc4",
   "metadata": {},
   "outputs": [],
   "source": [
    "# Setup\n",
    "num_chunks = (len(df) // chunk_size) + 1\n",
    "\n",
    "# Store results\n",
    "all_rmse = []\n",
    "all_mae = []\n",
    "all_fcp = []"
   ]
  },
  {
   "cell_type": "code",
   "execution_count": null,
   "id": "5f6c9cad",
   "metadata": {},
   "outputs": [
    {
     "name": "stderr",
     "output_type": "stream",
     "text": [
      "Processing chunks:   0%|          | 0/33 [00:00<?, ?it/s]"
     ]
    },
    {
     "name": "stdout",
     "output_type": "stream",
     "text": [
      "\n",
      "Processing chunk 1/33\n"
     ]
    },
    {
     "name": "stderr",
     "output_type": "stream",
     "text": [
      "Processing chunks:   3%|▎         | 1/33 [01:29<47:31, 89.12s/it]"
     ]
    },
    {
     "name": "stdout",
     "output_type": "stream",
     "text": [
      "Evaluating RMSE, MAE, FCP of algorithm SVD on 3 split(s).\n",
      "\n",
      "                  Fold 1  Fold 2  Fold 3  Mean    Std     \n",
      "RMSE (testset)    0.9454  0.9469  0.9449  0.9457  0.0008  \n",
      "MAE (testset)     0.7103  0.7114  0.7100  0.7106  0.0006  \n",
      "FCP (testset)     0.6065  0.5995  0.6126  0.6062  0.0054  \n",
      "Fit time          11.42   11.31   11.75   11.49   0.18    \n",
      "Test time         1.24    1.04    1.23    1.17    0.09    \n",
      "\n",
      "Processing chunk 2/33\n"
     ]
    },
    {
     "name": "stderr",
     "output_type": "stream",
     "text": [
      "Processing chunks:   6%|▌         | 2/33 [03:03<47:30, 91.96s/it]"
     ]
    },
    {
     "name": "stdout",
     "output_type": "stream",
     "text": [
      "Evaluating RMSE, MAE, FCP of algorithm SVD on 3 split(s).\n",
      "\n",
      "                  Fold 1  Fold 2  Fold 3  Mean    Std     \n",
      "RMSE (testset)    0.9601  0.9592  0.9620  0.9604  0.0012  \n",
      "MAE (testset)     0.7177  0.7174  0.7181  0.7177  0.0003  \n",
      "FCP (testset)     0.5739  0.5656  0.5760  0.5719  0.0045  \n",
      "Fit time          12.20   12.68   12.48   12.45   0.20    \n",
      "Test time         1.35    1.19    1.28    1.27    0.07    \n",
      "\n",
      "Processing chunk 3/33\n"
     ]
    },
    {
     "name": "stderr",
     "output_type": "stream",
     "text": [
      "Processing chunks:   9%|▉         | 3/33 [05:36<1:00:04, 120.15s/it]"
     ]
    },
    {
     "name": "stdout",
     "output_type": "stream",
     "text": [
      "Evaluating RMSE, MAE, FCP of algorithm SVD on 3 split(s).\n",
      "\n",
      "                  Fold 1  Fold 2  Fold 3  Mean    Std     \n",
      "RMSE (testset)    0.9914  0.9934  0.9923  0.9924  0.0008  \n",
      "MAE (testset)     0.7530  0.7541  0.7523  0.7531  0.0008  \n",
      "FCP (testset)     0.5492  0.5649  0.5710  0.5617  0.0092  \n",
      "Fit time          12.66   12.51   12.54   12.57   0.07    \n",
      "Test time         1.22    1.12    1.12    1.15    0.05    \n",
      "\n",
      "Processing chunk 4/33\n"
     ]
    },
    {
     "name": "stderr",
     "output_type": "stream",
     "text": [
      "Processing chunks:  12%|█▏        | 4/33 [06:42<47:46, 98.85s/it]   "
     ]
    },
    {
     "name": "stdout",
     "output_type": "stream",
     "text": [
      "Evaluating RMSE, MAE, FCP of algorithm SVD on 3 split(s).\n",
      "\n",
      "                  Fold 1  Fold 2  Fold 3  Mean    Std     \n",
      "RMSE (testset)    0.9267  0.9278  0.9259  0.9268  0.0008  \n",
      "MAE (testset)     0.7017  0.7019  0.7011  0.7016  0.0003  \n",
      "FCP (testset)     0.5985  0.6146  0.6239  0.6123  0.0105  \n",
      "Fit time          11.86   11.14   11.72   11.58   0.31    \n",
      "Test time         1.72    1.12    1.07    1.30    0.29    \n",
      "\n",
      "Processing chunk 5/33\n"
     ]
    },
    {
     "name": "stderr",
     "output_type": "stream",
     "text": [
      "Processing chunks:  15%|█▌        | 5/33 [07:43<39:37, 84.92s/it]"
     ]
    },
    {
     "name": "stdout",
     "output_type": "stream",
     "text": [
      "Evaluating RMSE, MAE, FCP of algorithm SVD on 3 split(s).\n",
      "\n",
      "                  Fold 1  Fold 2  Fold 3  Mean    Std     \n",
      "RMSE (testset)    0.9324  0.9361  0.9359  0.9348  0.0017  \n",
      "MAE (testset)     0.7125  0.7142  0.7141  0.7136  0.0008  \n",
      "FCP (testset)     0.5950  0.6025  0.6017  0.5997  0.0034  \n",
      "Fit time          10.41   11.29   12.02   11.24   0.66    \n",
      "Test time         1.39    1.33    1.34    1.35    0.03    \n",
      "\n",
      "Processing chunk 6/33\n"
     ]
    },
    {
     "name": "stderr",
     "output_type": "stream",
     "text": [
      "Processing chunks:  18%|█▊        | 6/33 [09:05<37:46, 83.96s/it]"
     ]
    },
    {
     "name": "stdout",
     "output_type": "stream",
     "text": [
      "Evaluating RMSE, MAE, FCP of algorithm SVD on 3 split(s).\n",
      "\n",
      "                  Fold 1  Fold 2  Fold 3  Mean    Std     \n",
      "RMSE (testset)    0.9362  0.9374  0.9353  0.9363  0.0009  \n",
      "MAE (testset)     0.7128  0.7125  0.7109  0.7121  0.0008  \n",
      "FCP (testset)     0.6142  0.6168  0.6181  0.6164  0.0016  \n",
      "Fit time          12.83   13.30   11.86   12.66   0.60    \n",
      "Test time         1.84    1.25    1.30    1.46    0.27    \n",
      "\n",
      "Processing chunk 7/33\n"
     ]
    },
    {
     "name": "stderr",
     "output_type": "stream",
     "text": [
      "Processing chunks:  21%|██        | 7/33 [10:09<33:38, 77.65s/it]"
     ]
    },
    {
     "name": "stdout",
     "output_type": "stream",
     "text": [
      "Evaluating RMSE, MAE, FCP of algorithm SVD on 3 split(s).\n",
      "\n",
      "                  Fold 1  Fold 2  Fold 3  Mean    Std     \n",
      "RMSE (testset)    0.9698  0.9742  0.9717  0.9719  0.0018  \n",
      "MAE (testset)     0.7211  0.7236  0.7217  0.7221  0.0011  \n",
      "FCP (testset)     0.5434  0.5480  0.5483  0.5466  0.0023  \n",
      "Fit time          13.47   13.88   14.07   13.81   0.25    \n",
      "Test time         1.67    1.34    1.21    1.41    0.19    \n",
      "\n",
      "Processing chunk 8/33\n"
     ]
    },
    {
     "name": "stderr",
     "output_type": "stream",
     "text": [
      "Processing chunks:  24%|██▍       | 8/33 [11:26<32:12, 77.32s/it]"
     ]
    },
    {
     "name": "stdout",
     "output_type": "stream",
     "text": [
      "Evaluating RMSE, MAE, FCP of algorithm SVD on 3 split(s).\n",
      "\n",
      "                  Fold 1  Fold 2  Fold 3  Mean    Std     \n",
      "RMSE (testset)    0.9489  0.9474  0.9508  0.9491  0.0014  \n",
      "MAE (testset)     0.7135  0.7134  0.7147  0.7138  0.0006  \n",
      "FCP (testset)     0.5951  0.5981  0.6001  0.5977  0.0021  \n",
      "Fit time          12.97   12.42   11.91   12.43   0.43    \n",
      "Test time         1.30    1.29    1.45    1.34    0.07    \n",
      "\n",
      "Processing chunk 9/33\n"
     ]
    },
    {
     "name": "stderr",
     "output_type": "stream",
     "text": [
      "Processing chunks:  27%|██▋       | 9/33 [12:29<29:04, 72.67s/it]"
     ]
    },
    {
     "name": "stdout",
     "output_type": "stream",
     "text": [
      "Evaluating RMSE, MAE, FCP of algorithm SVD on 3 split(s).\n",
      "\n",
      "                  Fold 1  Fold 2  Fold 3  Mean    Std     \n",
      "RMSE (testset)    0.9797  0.9768  0.9769  0.9778  0.0013  \n",
      "MAE (testset)     0.7280  0.7265  0.7262  0.7269  0.0008  \n",
      "FCP (testset)     0.5273  0.5127  0.5266  0.5222  0.0067  \n",
      "Fit time          12.93   12.52   13.07   12.84   0.23    \n",
      "Test time         1.44    1.31    1.31    1.35    0.06    \n",
      "\n",
      "Processing chunk 10/33\n"
     ]
    },
    {
     "name": "stderr",
     "output_type": "stream",
     "text": [
      "Processing chunks:  30%|███       | 10/33 [13:33<26:56, 70.29s/it]"
     ]
    },
    {
     "name": "stdout",
     "output_type": "stream",
     "text": [
      "Evaluating RMSE, MAE, FCP of algorithm SVD on 3 split(s).\n",
      "\n",
      "                  Fold 1  Fold 2  Fold 3  Mean    Std     \n",
      "RMSE (testset)    0.9809  0.9782  0.9816  0.9802  0.0015  \n",
      "MAE (testset)     0.7290  0.7270  0.7291  0.7284  0.0010  \n",
      "FCP (testset)     0.5291  0.5243  0.5196  0.5243  0.0039  \n",
      "Fit time          13.45   13.00   13.81   13.42   0.33    \n",
      "Test time         1.54    1.26    1.21    1.34    0.14    \n",
      "\n",
      "Processing chunk 11/33\n"
     ]
    },
    {
     "name": "stderr",
     "output_type": "stream",
     "text": [
      "Processing chunks:  33%|███▎      | 11/33 [14:41<25:30, 69.57s/it]"
     ]
    },
    {
     "name": "stdout",
     "output_type": "stream",
     "text": [
      "Evaluating RMSE, MAE, FCP of algorithm SVD on 3 split(s).\n",
      "\n",
      "                  Fold 1  Fold 2  Fold 3  Mean    Std     \n",
      "RMSE (testset)    0.9859  0.9853  0.9832  0.9848  0.0012  \n",
      "MAE (testset)     0.7356  0.7351  0.7336  0.7348  0.0008  \n",
      "FCP (testset)     0.5197  0.5132  0.5050  0.5126  0.0060  \n",
      "Fit time          13.71   12.97   14.28   13.65   0.54    \n",
      "Test time         1.46    1.40    1.14    1.33    0.14    \n",
      "\n",
      "Processing chunk 12/33\n"
     ]
    },
    {
     "name": "stderr",
     "output_type": "stream",
     "text": [
      "Processing chunks:  36%|███▋      | 12/33 [15:51<24:24, 69.72s/it]"
     ]
    },
    {
     "name": "stdout",
     "output_type": "stream",
     "text": [
      "Evaluating RMSE, MAE, FCP of algorithm SVD on 3 split(s).\n",
      "\n",
      "                  Fold 1  Fold 2  Fold 3  Mean    Std     \n",
      "RMSE (testset)    0.9921  0.9915  0.9929  0.9922  0.0006  \n",
      "MAE (testset)     0.7418  0.7416  0.7421  0.7418  0.0002  \n",
      "FCP (testset)     0.5026  0.5158  0.5126  0.5103  0.0056  \n",
      "Fit time          14.60   13.45   13.68   13.91   0.49    \n",
      "Test time         1.27    1.28    1.24    1.27    0.02    \n",
      "\n",
      "Processing chunk 13/33\n"
     ]
    },
    {
     "name": "stderr",
     "output_type": "stream",
     "text": [
      "Processing chunks:  39%|███▉      | 13/33 [16:52<22:16, 66.82s/it]"
     ]
    },
    {
     "name": "stdout",
     "output_type": "stream",
     "text": [
      "Evaluating RMSE, MAE, FCP of algorithm SVD on 3 split(s).\n",
      "\n",
      "                  Fold 1  Fold 2  Fold 3  Mean    Std     \n",
      "RMSE (testset)    1.0694  1.0728  1.0698  1.0707  0.0015  \n",
      "MAE (testset)     0.8274  0.8290  0.8270  0.8278  0.0009  \n",
      "FCP (testset)     0.5596  0.5651  0.5465  0.5570  0.0078  \n",
      "Fit time          15.61   15.17   14.99   15.25   0.26    \n",
      "Test time         1.76    1.31    1.55    1.54    0.18    \n",
      "\n",
      "Processing chunk 14/33\n"
     ]
    },
    {
     "name": "stderr",
     "output_type": "stream",
     "text": [
      "Processing chunks:  42%|████▏     | 14/33 [17:56<20:54, 66.04s/it]"
     ]
    },
    {
     "name": "stdout",
     "output_type": "stream",
     "text": [
      "Evaluating RMSE, MAE, FCP of algorithm SVD on 3 split(s).\n",
      "\n",
      "                  Fold 1  Fold 2  Fold 3  Mean    Std     \n",
      "RMSE (testset)    0.9979  0.9992  0.9962  0.9978  0.0012  \n",
      "MAE (testset)     0.7514  0.7520  0.7500  0.7511  0.0008  \n",
      "FCP (testset)     0.5662  0.5652  0.5642  0.5652  0.0008  \n",
      "Fit time          13.80   13.15   13.98   13.64   0.35    \n",
      "Test time         1.32    1.19    1.38    1.30    0.08    \n",
      "\n",
      "Processing chunk 15/33\n"
     ]
    },
    {
     "name": "stderr",
     "output_type": "stream",
     "text": [
      "Processing chunks:  45%|████▌     | 15/33 [19:06<20:12, 67.37s/it]"
     ]
    },
    {
     "name": "stdout",
     "output_type": "stream",
     "text": [
      "Evaluating RMSE, MAE, FCP of algorithm SVD on 3 split(s).\n",
      "\n",
      "                  Fold 1  Fold 2  Fold 3  Mean    Std     \n",
      "RMSE (testset)    0.9790  0.9774  0.9745  0.9770  0.0019  \n",
      "MAE (testset)     0.7312  0.7306  0.7293  0.7304  0.0008  \n",
      "FCP (testset)     0.5209  0.5306  0.5411  0.5308  0.0082  \n",
      "Fit time          12.92   12.99   12.84   12.92   0.06    \n",
      "Test time         1.51    1.45    1.28    1.41    0.10    \n",
      "\n",
      "Processing chunk 16/33\n"
     ]
    },
    {
     "name": "stderr",
     "output_type": "stream",
     "text": [
      "Processing chunks:  48%|████▊     | 16/33 [20:07<18:30, 65.33s/it]"
     ]
    },
    {
     "name": "stdout",
     "output_type": "stream",
     "text": [
      "Evaluating RMSE, MAE, FCP of algorithm SVD on 3 split(s).\n",
      "\n",
      "                  Fold 1  Fold 2  Fold 3  Mean    Std     \n",
      "RMSE (testset)    1.0182  1.0139  1.0162  1.0161  0.0017  \n",
      "MAE (testset)     0.7677  0.7655  0.7665  0.7666  0.0009  \n",
      "FCP (testset)     0.5242  0.5240  0.5099  0.5193  0.0067  \n",
      "Fit time          15.18   15.10   16.06   15.45   0.44    \n",
      "Test time         1.14    1.43    1.40    1.32    0.13    \n",
      "\n",
      "Processing chunk 17/33\n"
     ]
    },
    {
     "name": "stderr",
     "output_type": "stream",
     "text": [
      "Processing chunks:  52%|█████▏    | 17/33 [21:13<17:27, 65.45s/it]"
     ]
    },
    {
     "name": "stdout",
     "output_type": "stream",
     "text": [
      "Evaluating RMSE, MAE, FCP of algorithm SVD on 3 split(s).\n",
      "\n",
      "                  Fold 1  Fold 2  Fold 3  Mean    Std     \n",
      "RMSE (testset)    1.0851  1.0848  1.0848  1.0849  0.0002  \n",
      "MAE (testset)     0.8371  0.8369  0.8378  0.8372  0.0004  \n",
      "FCP (testset)     0.5642  0.5569  0.5600  0.5604  0.0030  \n",
      "Fit time          15.16   15.83   14.40   15.13   0.58    \n",
      "Test time         1.24    1.44    1.42    1.37    0.09    \n",
      "\n",
      "Processing chunk 18/33\n"
     ]
    },
    {
     "name": "stderr",
     "output_type": "stream",
     "text": [
      "Processing chunks:  55%|█████▍    | 18/33 [22:59<19:26, 77.76s/it]"
     ]
    },
    {
     "name": "stdout",
     "output_type": "stream",
     "text": [
      "Evaluating RMSE, MAE, FCP of algorithm SVD on 3 split(s).\n",
      "\n",
      "                  Fold 1  Fold 2  Fold 3  Mean    Std     \n",
      "RMSE (testset)    0.9544  0.9543  0.9557  0.9548  0.0006  \n",
      "MAE (testset)     0.7253  0.7257  0.7267  0.7259  0.0006  \n",
      "FCP (testset)     0.6199  0.6196  0.6214  0.6203  0.0008  \n",
      "Fit time          12.18   12.45   11.77   12.13   0.28    \n",
      "Test time         1.05    0.94    1.44    1.14    0.21    \n",
      "\n",
      "Processing chunk 19/33\n"
     ]
    },
    {
     "name": "stderr",
     "output_type": "stream",
     "text": [
      "Processing chunks:  58%|█████▊    | 19/33 [24:29<19:00, 81.47s/it]"
     ]
    },
    {
     "name": "stdout",
     "output_type": "stream",
     "text": [
      "Evaluating RMSE, MAE, FCP of algorithm SVD on 3 split(s).\n",
      "\n",
      "                  Fold 1  Fold 2  Fold 3  Mean    Std     \n",
      "RMSE (testset)    0.9404  0.9422  0.9404  0.9410  0.0009  \n",
      "MAE (testset)     0.7076  0.7086  0.7062  0.7075  0.0010  \n",
      "FCP (testset)     0.6080  0.6188  0.6052  0.6107  0.0059  \n",
      "Fit time          12.76   11.65   11.44   11.95   0.58    \n",
      "Test time         1.21    1.12    1.16    1.16    0.04    \n",
      "\n",
      "Processing chunk 20/33\n"
     ]
    },
    {
     "name": "stderr",
     "output_type": "stream",
     "text": [
      "Processing chunks:  61%|██████    | 20/33 [25:56<18:01, 83.22s/it]"
     ]
    },
    {
     "name": "stdout",
     "output_type": "stream",
     "text": [
      "Evaluating RMSE, MAE, FCP of algorithm SVD on 3 split(s).\n",
      "\n",
      "                  Fold 1  Fold 2  Fold 3  Mean    Std     \n",
      "RMSE (testset)    0.9346  0.9336  0.9348  0.9343  0.0005  \n",
      "MAE (testset)     0.7023  0.7018  0.7036  0.7026  0.0008  \n",
      "FCP (testset)     0.6223  0.6121  0.6198  0.6180  0.0043  \n",
      "Fit time          11.58   12.40   12.99   12.32   0.58    \n",
      "Test time         1.53    1.21    1.12    1.29    0.18    \n",
      "\n",
      "Processing chunk 21/33\n"
     ]
    },
    {
     "name": "stderr",
     "output_type": "stream",
     "text": [
      "Processing chunks:  64%|██████▎   | 21/33 [28:02<19:11, 95.92s/it]"
     ]
    },
    {
     "name": "stdout",
     "output_type": "stream",
     "text": [
      "Evaluating RMSE, MAE, FCP of algorithm SVD on 3 split(s).\n",
      "\n",
      "                  Fold 1  Fold 2  Fold 3  Mean    Std     \n",
      "RMSE (testset)    0.9549  0.9556  0.9579  0.9562  0.0013  \n",
      "MAE (testset)     0.7234  0.7230  0.7244  0.7236  0.0006  \n",
      "FCP (testset)     0.6070  0.6034  0.5984  0.6029  0.0035  \n",
      "Fit time          13.06   11.91   11.86   12.28   0.56    \n",
      "Test time         1.52    1.08    1.25    1.29    0.18    \n",
      "\n",
      "Processing chunk 22/33\n"
     ]
    },
    {
     "name": "stderr",
     "output_type": "stream",
     "text": [
      "Processing chunks:  67%|██████▋   | 22/33 [30:12<19:26, 106.07s/it]"
     ]
    },
    {
     "name": "stdout",
     "output_type": "stream",
     "text": [
      "Evaluating RMSE, MAE, FCP of algorithm SVD on 3 split(s).\n",
      "\n",
      "                  Fold 1  Fold 2  Fold 3  Mean    Std     \n",
      "RMSE (testset)    0.9651  0.9654  0.9616  0.9640  0.0017  \n",
      "MAE (testset)     0.7261  0.7266  0.7255  0.7261  0.0004  \n",
      "FCP (testset)     0.5688  0.5938  0.5839  0.5821  0.0103  \n",
      "Fit time          13.42   12.39   12.68   12.83   0.43    \n",
      "Test time         1.53    1.14    1.17    1.28    0.18    \n",
      "\n",
      "Processing chunk 23/33\n"
     ]
    },
    {
     "name": "stderr",
     "output_type": "stream",
     "text": [
      "Processing chunks:  70%|██████▉   | 23/33 [32:11<18:20, 110.05s/it]"
     ]
    },
    {
     "name": "stdout",
     "output_type": "stream",
     "text": [
      "Evaluating RMSE, MAE, FCP of algorithm SVD on 3 split(s).\n",
      "\n",
      "                  Fold 1  Fold 2  Fold 3  Mean    Std     \n",
      "RMSE (testset)    0.9629  0.9629  0.9674  0.9644  0.0021  \n",
      "MAE (testset)     0.7301  0.7294  0.7320  0.7305  0.0011  \n",
      "FCP (testset)     0.5969  0.6145  0.6151  0.6088  0.0085  \n",
      "Fit time          11.55   11.99   12.74   12.09   0.49    \n",
      "Test time         1.30    1.31    1.13    1.25    0.08    \n",
      "\n",
      "Processing chunk 24/33\n"
     ]
    },
    {
     "name": "stderr",
     "output_type": "stream",
     "text": [
      "Processing chunks:  73%|███████▎  | 24/33 [34:18<17:16, 115.16s/it]"
     ]
    },
    {
     "name": "stdout",
     "output_type": "stream",
     "text": [
      "Evaluating RMSE, MAE, FCP of algorithm SVD on 3 split(s).\n",
      "\n",
      "                  Fold 1  Fold 2  Fold 3  Mean    Std     \n",
      "RMSE (testset)    0.9698  0.9694  0.9699  0.9697  0.0002  \n",
      "MAE (testset)     0.7375  0.7382  0.7386  0.7381  0.0004  \n",
      "FCP (testset)     0.5767  0.5776  0.5900  0.5814  0.0061  \n",
      "Fit time          12.68   11.23   11.28   11.73   0.67    \n",
      "Test time         1.10    1.19    1.19    1.16    0.04    \n",
      "\n",
      "Processing chunk 25/33\n"
     ]
    },
    {
     "name": "stderr",
     "output_type": "stream",
     "text": [
      "Processing chunks:  76%|███████▌  | 25/33 [35:30<13:36, 102.08s/it]"
     ]
    },
    {
     "name": "stdout",
     "output_type": "stream",
     "text": [
      "Evaluating RMSE, MAE, FCP of algorithm SVD on 3 split(s).\n",
      "\n",
      "                  Fold 1  Fold 2  Fold 3  Mean    Std     \n",
      "RMSE (testset)    0.9349  0.9316  0.9334  0.9333  0.0014  \n",
      "MAE (testset)     0.7148  0.7135  0.7140  0.7141  0.0005  \n",
      "FCP (testset)     0.6181  0.6197  0.6049  0.6142  0.0066  \n",
      "Fit time          12.55   11.48   12.21   12.08   0.45    \n",
      "Test time         1.33    1.01    1.06    1.13    0.14    \n",
      "\n",
      "Processing chunk 26/33\n"
     ]
    },
    {
     "name": "stderr",
     "output_type": "stream",
     "text": [
      "Processing chunks:  79%|███████▉  | 26/33 [36:30<10:26, 89.43s/it] "
     ]
    },
    {
     "name": "stdout",
     "output_type": "stream",
     "text": [
      "Evaluating RMSE, MAE, FCP of algorithm SVD on 3 split(s).\n",
      "\n",
      "                  Fold 1  Fold 2  Fold 3  Mean    Std     \n",
      "RMSE (testset)    0.9322  0.9359  0.9374  0.9352  0.0022  \n",
      "MAE (testset)     0.7151  0.7175  0.7185  0.7170  0.0014  \n",
      "FCP (testset)     0.6207  0.6000  0.6231  0.6146  0.0104  \n",
      "Fit time          11.72   11.62   11.56   11.63   0.07    \n",
      "Test time         1.44    1.09    0.99    1.17    0.19    \n",
      "\n",
      "Processing chunk 27/33\n"
     ]
    },
    {
     "name": "stderr",
     "output_type": "stream",
     "text": [
      "Processing chunks:  82%|████████▏ | 27/33 [37:25<07:55, 79.27s/it]"
     ]
    },
    {
     "name": "stdout",
     "output_type": "stream",
     "text": [
      "Evaluating RMSE, MAE, FCP of algorithm SVD on 3 split(s).\n",
      "\n",
      "                  Fold 1  Fold 2  Fold 3  Mean    Std     \n",
      "RMSE (testset)    0.9409  0.9422  0.9444  0.9425  0.0014  \n",
      "MAE (testset)     0.7225  0.7240  0.7240  0.7235  0.0007  \n",
      "FCP (testset)     0.5568  0.5527  0.5507  0.5534  0.0025  \n",
      "Fit time          11.77   11.32   11.28   11.45   0.22    \n",
      "Test time         1.30    1.01    1.52    1.28    0.21    \n",
      "\n",
      "Processing chunk 28/33\n"
     ]
    },
    {
     "name": "stderr",
     "output_type": "stream",
     "text": [
      "Processing chunks:  85%|████████▍ | 28/33 [38:25<06:07, 73.58s/it]"
     ]
    },
    {
     "name": "stdout",
     "output_type": "stream",
     "text": [
      "Evaluating RMSE, MAE, FCP of algorithm SVD on 3 split(s).\n",
      "\n",
      "                  Fold 1  Fold 2  Fold 3  Mean    Std     \n",
      "RMSE (testset)    0.9314  0.9290  0.9338  0.9314  0.0020  \n",
      "MAE (testset)     0.7122  0.7104  0.7134  0.7120  0.0012  \n",
      "FCP (testset)     0.6251  0.6088  0.6210  0.6183  0.0069  \n",
      "Fit time          12.09   12.43   12.03   12.19   0.18    \n",
      "Test time         1.40    1.41    1.51    1.44    0.05    \n",
      "\n",
      "Processing chunk 29/33\n"
     ]
    },
    {
     "name": "stderr",
     "output_type": "stream",
     "text": [
      "Processing chunks:  88%|████████▊ | 29/33 [39:37<04:51, 72.98s/it]"
     ]
    },
    {
     "name": "stdout",
     "output_type": "stream",
     "text": [
      "Evaluating RMSE, MAE, FCP of algorithm SVD on 3 split(s).\n",
      "\n",
      "                  Fold 1  Fold 2  Fold 3  Mean    Std     \n",
      "RMSE (testset)    0.9467  0.9432  0.9433  0.9444  0.0016  \n",
      "MAE (testset)     0.7186  0.7175  0.7169  0.7177  0.0007  \n",
      "FCP (testset)     0.6335  0.6326  0.6321  0.6327  0.0006  \n",
      "Fit time          12.54   11.40   11.61   11.85   0.49    \n",
      "Test time         1.17    1.14    1.01    1.11    0.07    \n",
      "\n",
      "Processing chunk 30/33\n"
     ]
    },
    {
     "name": "stderr",
     "output_type": "stream",
     "text": [
      "Processing chunks:  91%|█████████ | 30/33 [41:06<03:53, 77.78s/it]"
     ]
    },
    {
     "name": "stdout",
     "output_type": "stream",
     "text": [
      "Evaluating RMSE, MAE, FCP of algorithm SVD on 3 split(s).\n",
      "\n",
      "                  Fold 1  Fold 2  Fold 3  Mean    Std     \n",
      "RMSE (testset)    0.9473  0.9434  0.9443  0.9450  0.0017  \n",
      "MAE (testset)     0.7143  0.7121  0.7113  0.7126  0.0013  \n",
      "FCP (testset)     0.6083  0.5964  0.6109  0.6052  0.0063  \n",
      "Fit time          12.44   12.48   11.41   12.11   0.50    \n",
      "Test time         1.37    1.48    1.15    1.33    0.14    \n",
      "\n",
      "Processing chunk 31/33\n"
     ]
    },
    {
     "name": "stderr",
     "output_type": "stream",
     "text": [
      "Processing chunks:  94%|█████████▍| 31/33 [42:36<02:42, 81.34s/it]"
     ]
    },
    {
     "name": "stdout",
     "output_type": "stream",
     "text": [
      "Evaluating RMSE, MAE, FCP of algorithm SVD on 3 split(s).\n",
      "\n",
      "                  Fold 1  Fold 2  Fold 3  Mean    Std     \n",
      "RMSE (testset)    0.9559  0.9497  0.9536  0.9531  0.0025  \n",
      "MAE (testset)     0.7177  0.7139  0.7168  0.7161  0.0016  \n",
      "FCP (testset)     0.5929  0.5927  0.5881  0.5912  0.0022  \n",
      "Fit time          11.37   11.44   12.03   11.61   0.30    \n",
      "Test time         1.18    1.28    1.32    1.26    0.06    \n",
      "\n",
      "Processing chunk 32/33\n"
     ]
    },
    {
     "name": "stderr",
     "output_type": "stream",
     "text": [
      "Processing chunks:  97%|█████████▋| 32/33 [44:13<01:26, 86.09s/it]"
     ]
    },
    {
     "name": "stdout",
     "output_type": "stream",
     "text": [
      "Evaluating RMSE, MAE, FCP of algorithm SVD on 3 split(s).\n",
      "\n",
      "                  Fold 1  Fold 2  Fold 3  Mean    Std     \n",
      "RMSE (testset)    0.9611  0.9627  0.9581  0.9606  0.0019  \n",
      "MAE (testset)     0.7184  0.7186  0.7171  0.7180  0.0007  \n",
      "FCP (testset)     0.5665  0.5716  0.5647  0.5676  0.0029  \n",
      "Fit time          12.20   11.55   12.35   12.03   0.35    \n",
      "Test time         1.41    1.31    1.39    1.37    0.04    \n",
      "\n",
      "Processing chunk 33/33\n"
     ]
    },
    {
     "name": "stderr",
     "output_type": "stream",
     "text": [
      "Processing chunks: 100%|██████████| 33/33 [45:43<00:00, 83.14s/it]"
     ]
    },
    {
     "name": "stdout",
     "output_type": "stream",
     "text": [
      "Evaluating RMSE, MAE, FCP of algorithm SVD on 3 split(s).\n",
      "\n",
      "                  Fold 1  Fold 2  Fold 3  Mean    Std     \n",
      "RMSE (testset)    0.9644  0.9665  0.9680  0.9663  0.0015  \n",
      "MAE (testset)     0.7246  0.7257  0.7272  0.7258  0.0011  \n",
      "FCP (testset)     0.5643  0.5808  0.5690  0.5714  0.0069  \n",
      "Fit time          10.93   10.51   10.48   10.64   0.21    \n",
      "Test time         1.16    1.00    0.97    1.04    0.08    \n"
     ]
    },
    {
     "name": "stderr",
     "output_type": "stream",
     "text": [
      "\n"
     ]
    }
   ],
   "source": [
    "# --- Processing ---    [~45 min]\n",
    "for i in tqdm(range(num_chunks), desc=\"Processing chunks\"):\n",
    "    print(f\"\\nProcessing chunk {i+1}/{num_chunks}\")\n",
    "    df_chunk = df.iloc[i*chunk_size:(i+1)*chunk_size]\n",
    "\n",
    "    if df_chunk.empty:\n",
    "        continue\n",
    "\n",
    "    # Prepare data for Surprise\n",
    "    data = Dataset.load_from_df(df_chunk[['author', 'hotel_id', 'rating']], reader)\n",
    "\n",
    "    # Define model\n",
    "    model = SVD(\n",
    "        n_factors=150,\n",
    "        n_epochs=30,\n",
    "        lr_all=0.003,\n",
    "        reg_all=0.05\n",
    "    )\n",
    "\n",
    "    # Cross-validate\n",
    "    results = cross_validate(model, data, measures=['RMSE', 'MAE', 'FCP'], cv=3, verbose=True)\n",
    "\n",
    "    # Store average metrics\n",
    "    all_rmse.append(results['test_rmse'].mean())\n",
    "    all_mae.append(results['test_mae'].mean())\n",
    "    all_fcp.append(results['test_fcp'].mean())"
   ]
  },
  {
   "cell_type": "code",
   "execution_count": 15,
   "id": "e8f64762",
   "metadata": {},
   "outputs": [
    {
     "name": "stdout",
     "output_type": "stream",
     "text": [
      "\n",
      "=== Results ===\n",
      "Average RMSE across chunks: 0.9636\n",
      "Average MAE across chunks: 0.7279\n",
      "Average FCP:  0.5790\n"
     ]
    }
   ],
   "source": [
    "# --- Final Output ---\n",
    "print(\"\\n=== Results ===\")\n",
    "print(f\"Average RMSE across chunks: {sum(all_rmse)/len(all_rmse):.4f}\")\n",
    "print(f\"Average MAE across chunks: {sum(all_mae)/len(all_mae):.4f}\")\n",
    "print(f\"Average FCP:  {sum(all_fcp) / len(all_fcp):.4f}\")"
   ]
  }
 ],
 "metadata": {
  "kernelspec": {
   "display_name": "venv-3.8",
   "language": "python",
   "name": "python3"
  },
  "language_info": {
   "codemirror_mode": {
    "name": "ipython",
    "version": 3
   },
   "file_extension": ".py",
   "mimetype": "text/x-python",
   "name": "python",
   "nbconvert_exporter": "python",
   "pygments_lexer": "ipython3",
   "version": "3.8.20"
  }
 },
 "nbformat": 4,
 "nbformat_minor": 5
}
