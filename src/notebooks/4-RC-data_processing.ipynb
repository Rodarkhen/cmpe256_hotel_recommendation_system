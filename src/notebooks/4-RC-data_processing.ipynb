{
 "cells": [
  {
   "cell_type": "markdown",
   "id": "63f870ed",
   "metadata": {},
   "source": [
    "# Setup"
   ]
  },
  {
   "cell_type": "code",
   "execution_count": 1,
   "id": "36ba804a",
   "metadata": {},
   "outputs": [],
   "source": [
    "import pandas as pd\n",
    "import numpy as np\n",
    "import os\n",
    "from tqdm import tqdm\n",
    "import matplotlib.pyplot as plt"
   ]
  },
  {
   "cell_type": "code",
   "execution_count": 2,
   "id": "7a972255",
   "metadata": {},
   "outputs": [],
   "source": [
    "# --- Setup ---\n",
    "current_dir = os.getcwd()\n",
    "input_path = os.path.join(current_dir, 'data', 'processed', 'hotelrec_2013_2017.csv.gz')\n",
    "output_path = os.path.join(current_dir, 'data', 'processed', 'hotelrec_2013_2017_cleaned.csv.gz')"
   ]
  },
  {
   "cell_type": "code",
   "execution_count": null,
   "id": "efa5e4c3",
   "metadata": {},
   "outputs": [
    {
     "name": "stdout",
     "output_type": "stream",
     "text": [
      "Original shape: (32957031, 13)\n"
     ]
    }
   ],
   "source": [
    "# Load full dataset (memory-safe columns)   [~40s]\n",
    "df = pd.read_csv(input_path, compression='gzip')\n",
    "\n",
    "print(f\"Original shape: {df.shape}\")"
   ]
  },
  {
   "cell_type": "markdown",
   "id": "3f9aa098",
   "metadata": {},
   "source": [
    "# Processing"
   ]
  },
  {
   "cell_type": "markdown",
   "id": "98d94273",
   "metadata": {},
   "source": [
    "## Remove hotels with very few reviews"
   ]
  },
  {
   "cell_type": "code",
   "execution_count": null,
   "id": "c0a3ccfe",
   "metadata": {},
   "outputs": [],
   "source": [
    "print(\"\\nFiltering hotels with less than 5 reviews...\")\n",
    "hotel_review_counts = df['hotel_id'].value_counts()\n",
    "valid_hotels = hotel_review_counts[hotel_review_counts >= 5].index"
   ]
  },
  {
   "cell_type": "code",
   "execution_count": null,
   "id": "8b415420",
   "metadata": {},
   "outputs": [],
   "source": [
    "df = df[df['hotel_id'].isin(valid_hotels)]\n",
    "\n",
    "df.shape"
   ]
  },
  {
   "cell_type": "markdown",
   "id": "59278f61",
   "metadata": {},
   "source": [
    "## Feature Engineering - Add Season"
   ]
  },
  {
   "cell_type": "code",
   "execution_count": 4,
   "id": "0e3b0459",
   "metadata": {},
   "outputs": [],
   "source": [
    "def month_to_season(month):\n",
    "    if month in [12, 1, 2]:\n",
    "        return 'Winter'\n",
    "    elif month in [3, 4, 5]:\n",
    "        return 'Spring'\n",
    "    elif month in [6, 7, 8]:\n",
    "        return 'Summer'\n",
    "    else:\n",
    "        return 'Fall'"
   ]
  },
  {
   "cell_type": "code",
   "execution_count": null,
   "id": "9a4c1d72",
   "metadata": {},
   "outputs": [],
   "source": [
    "# Extract month from date   [~20s]\n",
    "df['month'] = df['date'].apply(lambda x: int(str(x)[5:7]) if pd.notnull(x) else None)\n",
    "df['season'] = df['month'].apply(month_to_season)"
   ]
  },
  {
   "cell_type": "code",
   "execution_count": 6,
   "id": "75ca5dc7",
   "metadata": {},
   "outputs": [
    {
     "name": "stdout",
     "output_type": "stream",
     "text": [
      "\n",
      "Saving cleaned dataset...\n",
      "Cleaned dataset saved to: /root/cmpe256/cmpe256_hotel_recommendation_system/data/processed/hotelrec_2013_2017_cleaned.csv.gz\n"
     ]
    }
   ],
   "source": [
    "# Save cleaned version\n",
    "print(\"\\nSaving cleaned dataset...\")\n",
    "df.to_csv(output_path, index=False, compression='gzip')\n",
    "print(f\"Cleaned dataset saved to: {output_path}\")"
   ]
  },
  {
   "cell_type": "code",
   "execution_count": null,
   "id": "7eabfe5e",
   "metadata": {},
   "outputs": [],
   "source": [
    "# Quick Check\n",
    "df.head()"
   ]
  },
  {
   "cell_type": "code",
   "execution_count": null,
   "id": "b89bcecd",
   "metadata": {},
   "outputs": [],
   "source": [
    "df.shape"
   ]
  }
 ],
 "metadata": {
  "kernelspec": {
   "display_name": "Python 3 (ipykernel)",
   "language": "python",
   "name": "python3"
  },
  "language_info": {
   "codemirror_mode": {
    "name": "ipython",
    "version": 3
   },
   "file_extension": ".py",
   "mimetype": "text/x-python",
   "name": "python",
   "nbconvert_exporter": "python",
   "pygments_lexer": "ipython3",
   "version": "3.10.12"
  }
 },
 "nbformat": 4,
 "nbformat_minor": 5
}
