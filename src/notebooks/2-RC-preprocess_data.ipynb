{
 "cells": [
  {
   "cell_type": "markdown",
   "id": "1ad970fd",
   "metadata": {},
   "source": [
    "# Setup"
   ]
  },
  {
   "cell_type": "code",
   "execution_count": 1,
   "id": "22ba1165-a77c-4917-a603-6e860ad084d5",
   "metadata": {},
   "outputs": [],
   "source": [
    "# --- Setup ---\n",
    "import pandas as pd\n",
    "import numpy as np\n",
    "import matplotlib.pyplot as plt\n",
    "import seaborn as sns\n",
    "from tqdm import tqdm"
   ]
  },
  {
   "cell_type": "code",
   "execution_count": 2,
   "id": "226229f8",
   "metadata": {},
   "outputs": [],
   "source": [
    "# Display settings\n",
    "pd.set_option('display.max_columns', 100)\n",
    "pd.set_option('display.max_rows', 100)"
   ]
  },
  {
   "cell_type": "code",
   "execution_count": 3,
   "id": "be75fd93",
   "metadata": {},
   "outputs": [],
   "source": [
    "# --- File paths ---\n",
    "input_file = 'data/processed/hotelrec_final.csv'\n",
    "output_file = 'data/processed/hotelrec_cleaned.csv'\n",
    "chunk_size = 1_000_000"
   ]
  },
  {
   "cell_type": "code",
   "execution_count": 4,
   "id": "94a642da",
   "metadata": {},
   "outputs": [
    {
     "name": "stdout",
     "output_type": "stream",
     "text": [
      "Preview of first chunk:\n"
     ]
    },
    {
     "data": {
      "text/html": [
       "<div>\n",
       "<style scoped>\n",
       "    .dataframe tbody tr th:only-of-type {\n",
       "        vertical-align: middle;\n",
       "    }\n",
       "\n",
       "    .dataframe tbody tr th {\n",
       "        vertical-align: top;\n",
       "    }\n",
       "\n",
       "    .dataframe thead th {\n",
       "        text-align: right;\n",
       "    }\n",
       "</style>\n",
       "<table border=\"1\" class=\"dataframe\">\n",
       "  <thead>\n",
       "    <tr style=\"text-align: right;\">\n",
       "      <th></th>\n",
       "      <th>hotel_id</th>\n",
       "      <th>hotel_name</th>\n",
       "      <th>hotel_location</th>\n",
       "      <th>author</th>\n",
       "      <th>date</th>\n",
       "      <th>rating</th>\n",
       "      <th>sentiment_score</th>\n",
       "      <th>sleep quality</th>\n",
       "      <th>value</th>\n",
       "      <th>rooms</th>\n",
       "      <th>service</th>\n",
       "      <th>cleanliness</th>\n",
       "      <th>location</th>\n",
       "    </tr>\n",
       "  </thead>\n",
       "  <tbody>\n",
       "    <tr>\n",
       "      <th>0</th>\n",
       "      <td>1121769</td>\n",
       "      <td>Hotel Baltic</td>\n",
       "      <td>Giulianova Province of Teramo Abruzzo</td>\n",
       "      <td>violettaf340</td>\n",
       "      <td>2019-01</td>\n",
       "      <td>5.0</td>\n",
       "      <td>0.341327</td>\n",
       "      <td>NaN</td>\n",
       "      <td>NaN</td>\n",
       "      <td>NaN</td>\n",
       "      <td>NaN</td>\n",
       "      <td>NaN</td>\n",
       "      <td>NaN</td>\n",
       "    </tr>\n",
       "    <tr>\n",
       "      <th>1</th>\n",
       "      <td>1121769</td>\n",
       "      <td>Hotel Baltic</td>\n",
       "      <td>Giulianova Province of Teramo Abruzzo</td>\n",
       "      <td>Lagaiuzza</td>\n",
       "      <td>2016-01</td>\n",
       "      <td>5.0</td>\n",
       "      <td>0.272183</td>\n",
       "      <td>NaN</td>\n",
       "      <td>NaN</td>\n",
       "      <td>NaN</td>\n",
       "      <td>NaN</td>\n",
       "      <td>NaN</td>\n",
       "      <td>NaN</td>\n",
       "    </tr>\n",
       "    <tr>\n",
       "      <th>2</th>\n",
       "      <td>1121769</td>\n",
       "      <td>Hotel Baltic</td>\n",
       "      <td>Giulianova Province of Teramo Abruzzo</td>\n",
       "      <td>ashleyn763</td>\n",
       "      <td>2014-10</td>\n",
       "      <td>5.0</td>\n",
       "      <td>0.475000</td>\n",
       "      <td>NaN</td>\n",
       "      <td>5.0</td>\n",
       "      <td>NaN</td>\n",
       "      <td>5.0</td>\n",
       "      <td>NaN</td>\n",
       "      <td>5.0</td>\n",
       "    </tr>\n",
       "    <tr>\n",
       "      <th>3</th>\n",
       "      <td>1121769</td>\n",
       "      <td>Hotel Baltic</td>\n",
       "      <td>Giulianova Province of Teramo Abruzzo</td>\n",
       "      <td>DavideMauro</td>\n",
       "      <td>2014-08</td>\n",
       "      <td>5.0</td>\n",
       "      <td>0.623636</td>\n",
       "      <td>5.0</td>\n",
       "      <td>NaN</td>\n",
       "      <td>NaN</td>\n",
       "      <td>5.0</td>\n",
       "      <td>5.0</td>\n",
       "      <td>NaN</td>\n",
       "    </tr>\n",
       "    <tr>\n",
       "      <th>4</th>\n",
       "      <td>1121769</td>\n",
       "      <td>Hotel Baltic</td>\n",
       "      <td>Giulianova Province of Teramo Abruzzo</td>\n",
       "      <td>Alemma11</td>\n",
       "      <td>2013-08</td>\n",
       "      <td>4.0</td>\n",
       "      <td>0.218607</td>\n",
       "      <td>3.0</td>\n",
       "      <td>4.0</td>\n",
       "      <td>4.0</td>\n",
       "      <td>5.0</td>\n",
       "      <td>3.0</td>\n",
       "      <td>4.0</td>\n",
       "    </tr>\n",
       "  </tbody>\n",
       "</table>\n",
       "</div>"
      ],
      "text/plain": [
       "   hotel_id    hotel_name                         hotel_location  \\\n",
       "0   1121769  Hotel Baltic  Giulianova Province of Teramo Abruzzo   \n",
       "1   1121769  Hotel Baltic  Giulianova Province of Teramo Abruzzo   \n",
       "2   1121769  Hotel Baltic  Giulianova Province of Teramo Abruzzo   \n",
       "3   1121769  Hotel Baltic  Giulianova Province of Teramo Abruzzo   \n",
       "4   1121769  Hotel Baltic  Giulianova Province of Teramo Abruzzo   \n",
       "\n",
       "         author     date  rating  sentiment_score  sleep quality  value  \\\n",
       "0  violettaf340  2019-01     5.0         0.341327            NaN    NaN   \n",
       "1     Lagaiuzza  2016-01     5.0         0.272183            NaN    NaN   \n",
       "2    ashleyn763  2014-10     5.0         0.475000            NaN    5.0   \n",
       "3   DavideMauro  2014-08     5.0         0.623636            5.0    NaN   \n",
       "4      Alemma11  2013-08     4.0         0.218607            3.0    4.0   \n",
       "\n",
       "   rooms  service  cleanliness  location  \n",
       "0    NaN      NaN          NaN       NaN  \n",
       "1    NaN      NaN          NaN       NaN  \n",
       "2    NaN      5.0          NaN       5.0  \n",
       "3    NaN      5.0          5.0       NaN  \n",
       "4    4.0      5.0          3.0       4.0  "
      ]
     },
     "metadata": {},
     "output_type": "display_data"
    }
   ],
   "source": [
    "# --- Load first chunk to preview ---\n",
    "reader = pd.read_csv(input_file, chunksize=chunk_size)\n",
    "first_chunk = next(reader)\n",
    "print(\"Preview of first chunk:\")\n",
    "display(first_chunk.head())"
   ]
  },
  {
   "cell_type": "code",
   "execution_count": 5,
   "id": "b0105025",
   "metadata": {},
   "outputs": [],
   "source": [
    "# --- Function to count nulls in chunks ---\n",
    "def count_nulls_in_chunks(file_path, chunk_size):\n",
    "    null_counts = None\n",
    "    for chunk in pd.read_csv(file_path, chunksize=chunk_size):\n",
    "        if null_counts is None:\n",
    "            null_counts = chunk.isnull().sum()\n",
    "        else:\n",
    "            null_counts += chunk.isnull().sum()\n",
    "    return null_counts\n",
    "\n",
    "# --- Function to count duplicated in chunks ---\n",
    "def count_duplicates_in_chunks(file_path, chunk_size):\n",
    "    total_duplicates = 0\n",
    "    for chunk in pd.read_csv(file_path, chunksize=chunk_size):\n",
    "        total_duplicates += chunk.duplicated().sum()\n",
    "    return total_duplicates"
   ]
  },
  {
   "cell_type": "markdown",
   "id": "4eb20683",
   "metadata": {},
   "source": [
    "# Preprocess"
   ]
  },
  {
   "cell_type": "code",
   "execution_count": 6,
   "id": "f9ced6b6",
   "metadata": {},
   "outputs": [
    {
     "name": "stdout",
     "output_type": "stream",
     "text": [
      "Initial missing values per column:\n",
      "hotel_id                  0\n",
      "hotel_name                0\n",
      "hotel_location           20\n",
      "author                23889\n",
      "date                      0\n",
      "rating                    0\n",
      "sentiment_score           0\n",
      "sleep quality      27672279\n",
      "value              23877794\n",
      "rooms              24847780\n",
      "service            14691088\n",
      "cleanliness        23858431\n",
      "location           24743058\n",
      "dtype: int64\n"
     ]
    }
   ],
   "source": [
    "# --- Initial null count before cleaning ---    [~1 min]\n",
    "print(\"Initial missing values per column:\")\n",
    "initial_nulls = count_nulls_in_chunks(input_file, chunk_size)\n",
    "print(initial_nulls)"
   ]
  },
  {
   "cell_type": "code",
   "execution_count": null,
   "id": "a5475e27",
   "metadata": {},
   "outputs": [
    {
     "name": "stdout",
     "output_type": "stream",
     "text": [
      "\n",
      "Initial duplicate rows count:\n",
      "164\n"
     ]
    }
   ],
   "source": [
    "print(\"\\nInitial duplicate rows count:\")        # [~1min 15s]\n",
    "print(count_duplicates_in_chunks(input_file, chunk_size))"
   ]
  },
  {
   "cell_type": "code",
   "execution_count": null,
   "id": "2415163a",
   "metadata": {},
   "outputs": [
    {
     "data": {
      "text/plain": [
       "51"
      ]
     },
     "execution_count": 8,
     "metadata": {},
     "output_type": "execute_result"
    }
   ],
   "source": [
    "# Estimate number of lines (excluding header)       [~8s]\n",
    "with open(input_file, 'r', encoding='utf-8') as f:\n",
    "    total_lines = sum(1 for _ in f) - 1\n",
    "\n",
    "num_chunks = (total_lines // chunk_size) + 1\n",
    "num_chunks"
   ]
  },
  {
   "cell_type": "code",
   "execution_count": null,
   "id": "a2014f02",
   "metadata": {},
   "outputs": [
    {
     "name": "stderr",
     "output_type": "stream",
     "text": [
      "Cleaning chunks: 100%|███████████████████████████████████████████████████████████████████████████████████████████████████████████████| 51/51 [04:13<00:00,  4.98s/chunk]"
     ]
    },
    {
     "name": "stdout",
     "output_type": "stream",
     "text": [
      "\n",
      "Done. Cleaned data saved to: data/processed/hotelrec_cleaned.csv\n"
     ]
    },
    {
     "name": "stderr",
     "output_type": "stream",
     "text": [
      "\n"
     ]
    }
   ],
   "source": [
    "# [~4 min 10s]\n",
    "import os\n",
    "#import pandas as pd\n",
    "#from tqdm import tqdm\n",
    "\n",
    "# --- Setup ---\n",
    "current_dir = os.getcwd()\n",
    "file_path = os.path.join(current_dir, 'data', 'raw', 'hotelrec_final.csv')\n",
    "output_path = os.path.join(current_dir, 'data', 'raw', 'hotelrec_final_cleaned.csv')\n",
    "\n",
    "chunk_size = 1_000_000\n",
    "seen_rows = set()\n",
    "first_chunk = True\n",
    "\n",
    "# --- Get the total number of rows for progress ---\n",
    "# (quickly without loading the whole file)\n",
    "total_rows = sum(1 for line in open(file_path)) - 1  # minus header\n",
    "total_chunks = (total_rows // chunk_size) + 1\n",
    "\n",
    "# --- Reader ---\n",
    "reader = pd.read_csv(file_path, chunksize=chunk_size)\n",
    "\n",
    "# --- Process with tqdm progress bar ---\n",
    "for chunk in tqdm(reader, total=total_chunks, desc=\"Dropping Duplicates\", mininterval=1):\n",
    "    # Drop duplicates WITHIN chunk\n",
    "    chunk = chunk.drop_duplicates().copy()\n",
    "\n",
    "    # Drop duplicates ACROSS chunks\n",
    "    chunk['row_hash'] = chunk.apply(lambda row: hash(tuple(row)), axis=1)\n",
    "    chunk = chunk[~chunk['row_hash'].isin(seen_rows)]\n",
    "\n",
    "    # Update seen rows\n",
    "    seen_rows.update(chunk['row_hash'])\n",
    "\n",
    "    # Drop helper column\n",
    "    chunk = chunk.drop(columns=['row_hash'])\n",
    "\n",
    "    # Write to cleaned output file\n",
    "    if first_chunk:\n",
    "        chunk.to_csv(output_path, index=False, mode='w')\n",
    "        first_chunk = False\n",
    "    else:\n",
    "        chunk.to_csv(output_path, index=False, header=False, mode='a')\n",
    "\n",
    "print(f\"\\nDone. Cleaned data saved to: {output_path}\")\n"
   ]
  },
  {
   "cell_type": "code",
   "execution_count": null,
   "id": "ec594474",
   "metadata": {},
   "outputs": [
    {
     "name": "stdout",
     "output_type": "stream",
     "text": [
      "\n",
      "Missing values in cleaned data:\n",
      "hotel_id                  0\n",
      "hotel_name                0\n",
      "hotel_location           20\n",
      "author                23889\n",
      "date                      0\n",
      "rating                    0\n",
      "sentiment_score           0\n",
      "sleep quality      27672224\n",
      "value              23877772\n",
      "rooms              24847754\n",
      "service            14691066\n",
      "cleanliness        23858408\n",
      "location           24743032\n",
      "dtype: int64\n",
      "\n",
      "Duplicate rows after cleaning:\n",
      "0\n"
     ]
    }
   ],
   "source": [
    "# --- Null count after cleaning ---     [~2min 10s]\n",
    "print(\"\\nMissing values in cleaned data:\")\n",
    "cleaned_nulls = count_nulls_in_chunks(output_file, chunk_size)\n",
    "print(cleaned_nulls)\n",
    "\n",
    "print(\"\\nDuplicate rows after cleaning:\")\n",
    "print(count_duplicates_in_chunks(output_file, chunk_size))"
   ]
  },
  {
   "cell_type": "code",
   "execution_count": null,
   "id": "5948a07f",
   "metadata": {},
   "outputs": [
    {
     "name": "stdout",
     "output_type": "stream",
     "text": [
      "Compressed file saved to: data/processed/hotelrec_cleaned.csv.gz\n"
     ]
    }
   ],
   "source": [
    "#[~6min]\n",
    "import gzip\n",
    "\n",
    "# File paths\n",
    "csv_path = 'data/processed/hotelrec_cleaned.csv'\n",
    "gz_path = 'data/processed/hotelrec_cleaned.csv.gz'\n",
    "\n",
    "# Compress using gzip\n",
    "with open(csv_path, 'rb') as f_in:\n",
    "    with gzip.open(gz_path, 'wb') as f_out:\n",
    "        f_out.writelines(f_in)\n",
    "\n",
    "print(f\"Compressed file saved to: {gz_path}\")"
   ]
  }
 ],
 "metadata": {
  "kernelspec": {
   "display_name": "Python 3 (ipykernel)",
   "language": "python",
   "name": "python3"
  },
  "language_info": {
   "codemirror_mode": {
    "name": "ipython",
    "version": 3
   },
   "file_extension": ".py",
   "mimetype": "text/x-python",
   "name": "python",
   "nbconvert_exporter": "python",
   "pygments_lexer": "ipython3",
   "version": "3.10.12"
  }
 },
 "nbformat": 4,
 "nbformat_minor": 5
}
