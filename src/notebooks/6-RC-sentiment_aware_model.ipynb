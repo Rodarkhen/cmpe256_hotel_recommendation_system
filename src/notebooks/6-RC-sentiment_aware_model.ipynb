{
 "cells": [
  {
   "cell_type": "markdown",
   "id": "e1220a6d",
   "metadata": {},
   "source": [
    "# Sentiment-aware model\n",
    "\n",
    "## Setup"
   ]
  },
  {
   "cell_type": "code",
   "execution_count": 4,
   "id": "e3e2112c",
   "metadata": {},
   "outputs": [],
   "source": [
    "# --- Imports ---\n",
    "import pandas as pd\n",
    "import os\n",
    "from sklearn.preprocessing import LabelEncoder\n",
    "import tqdm\n",
    "import joblib"
   ]
  },
  {
   "cell_type": "code",
   "execution_count": null,
   "id": "83a5b2d8",
   "metadata": {},
   "outputs": [
    {
     "data": {
      "text/plain": [
       "'/root/cmpe256/cmpe256_hotel_recommendation_system'"
      ]
     },
     "execution_count": 2,
     "metadata": {},
     "output_type": "execute_result"
    }
   ],
   "source": [
    "current_dir = os.path.abspath(os.path.join(os.getcwd(), '..', '..'))\n",
    "current_dir"
   ]
  },
  {
   "cell_type": "code",
   "execution_count": 3,
   "id": "79492049",
   "metadata": {},
   "outputs": [
    {
     "data": {
      "text/plain": [
       "'/root/cmpe256/cmpe256_hotel_recommendation_system/data/processed/hotelrec_2013_2017_cleaned.csv.gz'"
      ]
     },
     "execution_count": 3,
     "metadata": {},
     "output_type": "execute_result"
    }
   ],
   "source": [
    "file_path = os.path.join(current_dir, 'data', 'processed', 'hotelrec_2013_2017_cleaned.csv.gz')\n",
    "file_path"
   ]
  },
  {
   "cell_type": "markdown",
   "id": "4a9cace8",
   "metadata": {},
   "source": [
    "## Encoding Categorical Features (can skip if already done)"
   ]
  },
  {
   "cell_type": "code",
   "execution_count": 7,
   "id": "62b05261",
   "metadata": {},
   "outputs": [],
   "source": [
    "# Setup paths ---\n",
    "output_path = os.path.join(current_dir, 'data', 'processed', 'hotelrec_2013_2017_cleaned_encoded.csv.gz')\n",
    "chunk_size = 1_000_000"
   ]
  },
  {
   "cell_type": "code",
   "execution_count": 8,
   "id": "362df0b8",
   "metadata": {},
   "outputs": [],
   "source": [
    "# ---  Fit encoders ---\n",
    "# Load only hotel_name and author\n",
    "full_df = pd.read_csv(file_path, usecols=['hotel_name', 'author'])"
   ]
  },
  {
   "cell_type": "code",
   "execution_count": 9,
   "id": "a149f69a",
   "metadata": {},
   "outputs": [],
   "source": [
    "# Initialize encoders\n",
    "hotel_name_encoder = LabelEncoder()\n",
    "author_encoder = LabelEncoder()"
   ]
  },
  {
   "cell_type": "code",
   "execution_count": 10,
   "id": "9dc1af17",
   "metadata": {},
   "outputs": [],
   "source": [
    "hotel_name_encoder.fit(full_df['hotel_name'].astype(str))\n",
    "author_encoder.fit(full_df['author'].astype(str))\n",
    "\n",
    "# Clear memory\n",
    "del full_df"
   ]
  },
  {
   "cell_type": "code",
   "execution_count": 11,
   "id": "2a48a390",
   "metadata": {},
   "outputs": [],
   "source": [
    "# If output file exists, remove it first\n",
    "if os.path.exists(output_path):\n",
    "    os.remove(output_path)"
   ]
  },
  {
   "cell_type": "code",
   "execution_count": null,
   "id": "2ee06e09",
   "metadata": {},
   "outputs": [
    {
     "name": "stderr",
     "output_type": "stream",
     "text": [
      "Processing chunks: 33it [12:52, 23.42s/it]\n"
     ]
    }
   ],
   "source": [
    "first_chunk = True      # [~13 min]\n",
    "\n",
    "for chunk in tqdm.tqdm(pd.read_csv(file_path, chunksize=chunk_size), desc=\"Processing chunks\"):\n",
    "    # Encode hotel_name and author\n",
    "    chunk['hotel_name_id'] = hotel_name_encoder.transform(chunk['hotel_name'].astype(str))\n",
    "    chunk['author_id'] = author_encoder.transform(chunk['author'].astype(str))\n",
    "\n",
    "    # Save the chunk\n",
    "    if first_chunk:\n",
    "        chunk.to_csv(output_path, index=False, mode='w', compression='gzip')\n",
    "        first_chunk = False\n",
    "    else:\n",
    "        chunk.to_csv(output_path, index=False, header=False, mode='a', compression='gzip')"
   ]
  },
  {
   "cell_type": "markdown",
   "id": "21e61a45",
   "metadata": {},
   "source": [
    "## Model Training"
   ]
  },
  {
   "cell_type": "code",
   "execution_count": 5,
   "id": "539b6270",
   "metadata": {},
   "outputs": [],
   "source": [
    "# --- Imports ---\n",
    "import pandas as pd\n",
    "import numpy as np\n",
    "from sklearn.model_selection import train_test_split\n",
    "from sklearn.metrics import mean_squared_error, mean_absolute_error\n",
    "import lightgbm as lgb\n",
    "from lightgbm import early_stopping, log_evaluation\n",
    "from tqdm import tqdm"
   ]
  },
  {
   "cell_type": "code",
   "execution_count": 6,
   "id": "e2896c54",
   "metadata": {},
   "outputs": [],
   "source": [
    "# --- Load Data ---\n",
    "input_path = os.path.join(current_dir, 'data', 'processed', 'hotelrec_2013_2017_cleaned_encoded.csv.gz')"
   ]
  },
  {
   "cell_type": "code",
   "execution_count": 7,
   "id": "373a1d42",
   "metadata": {},
   "outputs": [],
   "source": [
    "# Read needed columns\n",
    "df = pd.read_csv(input_path, usecols=['hotel_name_id', 'author_id', 'rating', 'sentiment_score'])"
   ]
  },
  {
   "cell_type": "code",
   "execution_count": 8,
   "id": "2892323e",
   "metadata": {},
   "outputs": [],
   "source": [
    "# --- Prepare features and target ---\n",
    "X = df[['hotel_name_id', 'author_id', 'sentiment_score']]\n",
    "y = df['rating']"
   ]
  },
  {
   "cell_type": "code",
   "execution_count": 9,
   "id": "2d875a82",
   "metadata": {},
   "outputs": [],
   "source": [
    "# --- Train-Test Split ---\n",
    "X_train, X_test, y_train, y_test = train_test_split(X, y, test_size=0.2, random_state=42)"
   ]
  },
  {
   "cell_type": "code",
   "execution_count": 10,
   "id": "d0c9ec3c",
   "metadata": {},
   "outputs": [],
   "source": [
    "# --- LightGBM Regressor ---\n",
    "model = lgb.LGBMRegressor(\n",
    "    objective='regression',\n",
    "    n_estimators=1000,\n",
    "    learning_rate=0.05,\n",
    "    num_leaves=31,\n",
    "    random_state=42\n",
    ")"
   ]
  },
  {
   "cell_type": "code",
   "execution_count": null,
   "id": "0482a0c4",
   "metadata": {},
   "outputs": [
    {
     "name": "stdout",
     "output_type": "stream",
     "text": [
      "[LightGBM] [Info] Auto-choosing row-wise multi-threading, the overhead of testing was 0.031121 seconds.\n",
      "You can set `force_row_wise=true` to remove the overhead.\n",
      "And if memory is not enough, you can set `force_col_wise=true`.\n",
      "[LightGBM] [Info] Total Bins 765\n",
      "[LightGBM] [Info] Number of data points in the train set: 26314009, number of used features: 3\n",
      "[LightGBM] [Info] Start training from score 4.164375\n",
      "Training until validation scores don't improve for 50 rounds\n",
      "[100]\tvalid_0's l2: 0.571572\n",
      "[200]\tvalid_0's l2: 0.569183\n"
     ]
    }
   ],
   "source": [
    "# Train [~2min]\n",
    "model.fit(\n",
    "    X_train, y_train,\n",
    "    eval_set=[(X_test, y_test)],\n",
    "    callbacks=[early_stopping(stopping_rounds=50), log_evaluation(100)]\n",
    ")"
   ]
  },
  {
   "cell_type": "code",
   "execution_count": null,
   "id": "ee3237ce",
   "metadata": {},
   "outputs": [],
   "source": [
    "# --- Predict ---\n",
    "y_pred = model.predict(X_test)"
   ]
  },
  {
   "cell_type": "code",
   "execution_count": null,
   "id": "aae93bb8",
   "metadata": {},
   "outputs": [],
   "source": [
    "# --- Evaluate ---\n",
    "rmse = mean_squared_error(y_test, y_pred, squared=False)\n",
    "mae = mean_absolute_error(y_test, y_pred)"
   ]
  },
  {
   "cell_type": "code",
   "execution_count": null,
   "id": "c11274ab",
   "metadata": {},
   "outputs": [
    {
     "name": "stdout",
     "output_type": "stream",
     "text": [
      "\n",
      "=== Sentiment-Aware Model Results ===\n",
      "RMSE: 0.7533\n",
      "MAE:  0.5912\n"
     ]
    },
    {
     "ename": "",
     "evalue": "",
     "output_type": "error",
     "traceback": [
      "\u001b[1;31mThe Kernel crashed while executing code in the current cell or a previous cell. \n",
      "\u001b[1;31mPlease review the code in the cell(s) to identify a possible cause of the failure. \n",
      "\u001b[1;31mClick <a href='https://aka.ms/vscodeJupyterKernelCrash'>here</a> for more info. \n",
      "\u001b[1;31mView Jupyter <a href='command:jupyter.viewOutput'>log</a> for further details."
     ]
    }
   ],
   "source": [
    "print(\"=== Sentiment-Aware Model Results ===\")\n",
    "print(f\"RMSE: {rmse:.4f}\")\n",
    "print(f\"MAE:  {mae:.4f}\")"
   ]
  },
  {
   "cell_type": "code",
   "execution_count": null,
   "id": "52b38054",
   "metadata": {},
   "outputs": [],
   "source": [
    "# --- Save model ---\n",
    "model_save_path = os.path.join(current_dir, 'models', 'sentiment_model.pkl')\n",
    "joblib.dump(model, model_save_path)"
   ]
  }
 ],
 "metadata": {
  "kernelspec": {
   "display_name": "venv-3.8",
   "language": "python",
   "name": "python3"
  },
  "language_info": {
   "codemirror_mode": {
    "name": "ipython",
    "version": 3
   },
   "file_extension": ".py",
   "mimetype": "text/x-python",
   "name": "python",
   "nbconvert_exporter": "python",
   "pygments_lexer": "ipython3",
   "version": "3.8.20"
  }
 },
 "nbformat": 4,
 "nbformat_minor": 5
}
