{
 "cells": [
  {
   "cell_type": "code",
   "execution_count": 2,
   "id": "ae0d6cbd-de01-4d9a-bb6e-d85ad908e767",
   "metadata": {},
   "outputs": [],
   "source": [
    "import pandas as pd\n",
    "import json\n",
    "import zipfile\n",
    "from tqdm import tqdm\n",
    "from textblob import TextBlob\n",
    "import os\n",
    "import glob"
   ]
  },
  {
   "cell_type": "code",
   "execution_count": 5,
   "id": "722ef171",
   "metadata": {},
   "outputs": [
    {
     "name": "stdout",
     "output_type": "stream",
     "text": [
      "['HotelRec.txt']\n"
     ]
    }
   ],
   "source": [
    "# Correct relative path from your notebook\n",
    "zip_path = '../../data/raw/Full_HotelRec.zip'\n",
    "\n",
    "# List files inside the zip\n",
    "with zipfile.ZipFile(zip_path, 'r') as zip_ref:\n",
    "    print(zip_ref.namelist())"
   ]
  },
  {
   "cell_type": "code",
   "execution_count": 8,
   "id": "8b821558",
   "metadata": {},
   "outputs": [],
   "source": [
    "# --- Settings ---\n",
    "txt_inside_zip = 'HotelRec.txt'                     # file inside ZIP\n",
    "output_folder = '../../data/raw/'                        # where to save\n",
    "partial_folder = '../../data/raw/partial/'               # For the parts\n",
    "chunk_size = 1_000_000                              # how many lines per part\n",
    "final_csv_path = '../../data/raw/hotelrec_first.csv'  # <-- new final file path"
   ]
  },
  {
   "cell_type": "code",
   "execution_count": 9,
   "id": "0a55bde5",
   "metadata": {},
   "outputs": [],
   "source": [
    "# --- Prepare output folder ---\n",
    "if not os.path.exists(output_folder):\n",
    "    os.makedirs(output_folder)\n",
    "\n",
    "if not os.path.exists(partial_folder):\n",
    "    os.makedirs(partial_folder)"
   ]
  },
  {
   "cell_type": "code",
   "execution_count": 10,
   "id": "2ffe74ec",
   "metadata": {},
   "outputs": [
    {
     "name": "stdout",
     "output_type": "stream",
     "text": [
      "Total lines in dataset: 50264531\n"
     ]
    }
   ],
   "source": [
    "# --- Count total lines ---\n",
    "with zipfile.ZipFile(zip_path, 'r') as zip_ref:\n",
    "    with zip_ref.open(txt_inside_zip) as file:\n",
    "        total_lines = sum(1 for _ in file)\n",
    "\n",
    "print(f\"Total lines in dataset: {total_lines}\") #3m 48.4s"
   ]
  },
  {
   "cell_type": "code",
   "execution_count": 11,
   "id": "485ffb8e",
   "metadata": {},
   "outputs": [
    {
     "name": "stdout",
     "output_type": "stream",
     "text": [
      "{\"hotel_url\": \"Hotel_Review-g194775-d1121769-Reviews-Hotel_Baltic-Giulianova_Province_of_Teramo_Abruzzo.html\", \"author\": \"violettaf340\", \"date\": \"2019-01-01T00:00:00\", \"rating\": 5.0, \"title\": \"Xmas holiday\", \"text\": \"We went here with our kids for Xmas holiday and we really liked it. Large options of food for breakfast and lunch , you can really taste the quality of the food in there. The surrounding area is nice and clean. Good experience. Hardly recommended .\", \"property_dict\": {}}\n",
      "{\"hotel_url\": \"Hotel_Review-g194775-d1121769-Reviews-Hotel_Baltic-Giulianova_Province_of_Teramo_Abruzzo.html\", \"author\": \"Lagaiuzza\", \"date\": \"2016-01-01T00:00:00\", \"rating\": 5.0, \"title\": \"Baltic, what else?\", \"text\": \"We have spent in this hotel our summer holidays both in summer 2014 and 2015- I was with my husband and my child ( 4 years old at present). I do really recommend this place- Staff si high qualified, Kind and really helpful- Animation staff get You involved, but always with discrection - Miniclub si super and activities offered are interesting and smart- Rooms clean, with AC and balcony- Restaurant offers a great selection of food - always. The beach si extremly closed to the hotel - Miniclub area offers some gazebos to have shade for kids- A lot of bicycles are available for free- I am completely satisfied of this hotel- Go in lime this!\", \"property_dict\": {}}\n",
      "{\"hotel_url\": \"Hotel_Review-g194775-d1121769-Reviews-Hotel_Baltic-Giulianova_Province_of_Teramo_Abruzzo.html\", \"author\": \"ashleyn763\", \"date\": \"2014-10-01T00:00:00\", \"rating\": 5.0, \"title\": \"Excellent in every way!\", \"text\": \"I visited Hotel Baltic with my husband for some bike riding in the area, thinking it would just be another hotel. I was so wrong. We don't have children, but were so amazed at the attention to detail and kindness we experienced from every member of the staff. It was truly amazing.\", \"property_dict\": {\"service\": 5.0, \"location\": 5.0, \"value\": 5.0}}\n",
      "{\"hotel_url\": \"Hotel_Review-g194775-d1121769-Reviews-Hotel_Baltic-Giulianova_Province_of_Teramo_Abruzzo.html\", \"author\": \"DavideMauro\", \"date\": \"2014-08-01T00:00:00\", \"rating\": 5.0, \"title\": \"The house of your family's holiday\", \"text\": \"I've travelled quite a numbers of hotels but this is the best place you can achieve with an excellent ratio quality/money. The equipe is really excellent. The restaurant's staff and the chef are perfect. Menu is always varying. Bar service is really fantastic. On the beach rather than in the hotel, anything is perfect and our holiday went like a dream. Although prices could seems quite high, you must consider that you could even forget your wollet at home. You'll never be required to spend any money. Kids are always happy and miniclub staff is really efficient. My daughter crying for our leaving could explain better what I'm writing.\", \"property_dict\": {\"service\": 5.0, \"cleanliness\": 5.0, \"sleep quality\": 5.0}}\n",
      "{\"hotel_url\": \"Hotel_Review-g194775-d1121769-Reviews-Hotel_Baltic-Giulianova_Province_of_Teramo_Abruzzo.html\", \"author\": \"Alemma11\", \"date\": \"2013-08-01T00:00:00\", \"rating\": 4.0, \"title\": \"A paradise for children (and parents, of course)\", \"text\": \"We decided for this family holiday destination after we saw its ranking in the family hotel 2013 reviews. It has kept its promises. Plus: - all staff is extremely kind and willing to help you at any time - great attention to the confort of kids - private playground in front of the hotel in a pinery providing shade all day long - great breakfast - beach umbrella and deck chairs assigned to guests on the beach right in front of the hotel - great kids menu also during weaning - lots of activities for kids (and parents as well, if you wish so) - free baby club for 1-3 years old - swimming pool with children's corner (not big but works fine) - it feels like being home - two gazebo on the beach used for the mini-clubs - massages available all day long ( not spa) - beach towels provided Minus (because perfection is impossible) - restaurant tends to be a bit slow - beach gazebo for the bigger kids a bit too small in the midday sun Just a couple of notes: - if you don't mind the first floor you can avoid the elevators (at peak times there's some queing up to do) - booking is a bit messy, better to double check to make sure everything's fine - if your bed is unconfortable you can try and get it changed, if we had known it before we would have done so Overall a great time! It would deserve 4 stars from a service perspective.\", \"property_dict\": {\"sleep quality\": 3.0, \"value\": 4.0, \"rooms\": 4.0, \"service\": 5.0, \"cleanliness\": 3.0, \"location\": 4.0}}\n"
     ]
    }
   ],
   "source": [
    "import itertools\n",
    "\n",
    "with zipfile.ZipFile(zip_path, 'r') as zip_ref:\n",
    "    with zip_ref.open(txt_inside_zip) as file:\n",
    "        for line in itertools.islice(file, 5):  # Only take the first 5 lines\n",
    "            print(line.decode('utf-8').strip())"
   ]
  },
  {
   "cell_type": "code",
   "execution_count": 12,
   "id": "e6121b90",
   "metadata": {},
   "outputs": [
    {
     "name": "stdout",
     "output_type": "stream",
     "text": [
      "                                           hotel_url        author  \\\n",
      "0  Hotel_Review-g194775-d1121769-Reviews-Hotel_Ba...  violettaf340   \n",
      "1  Hotel_Review-g194775-d1121769-Reviews-Hotel_Ba...     Lagaiuzza   \n",
      "2  Hotel_Review-g194775-d1121769-Reviews-Hotel_Ba...    ashleyn763   \n",
      "3  Hotel_Review-g194775-d1121769-Reviews-Hotel_Ba...   DavideMauro   \n",
      "4  Hotel_Review-g194775-d1121769-Reviews-Hotel_Ba...      Alemma11   \n",
      "\n",
      "                  date  rating  \\\n",
      "0  2019-01-01T00:00:00     5.0   \n",
      "1  2016-01-01T00:00:00     5.0   \n",
      "2  2014-10-01T00:00:00     5.0   \n",
      "3  2014-08-01T00:00:00     5.0   \n",
      "4  2013-08-01T00:00:00     4.0   \n",
      "\n",
      "                                              title  \\\n",
      "0                                      Xmas holiday   \n",
      "1                                Baltic, what else?   \n",
      "2                           Excellent in every way!   \n",
      "3                The house of your family's holiday   \n",
      "4  A paradise for children (and parents, of course)   \n",
      "\n",
      "                                                text  \\\n",
      "0  We went here with our kids for Xmas holiday an...   \n",
      "1  We have spent in this hotel our summer holiday...   \n",
      "2  I visited Hotel Baltic with my husband for som...   \n",
      "3  I've travelled quite a numbers of hotels but t...   \n",
      "4  We decided for this family holiday destination...   \n",
      "\n",
      "                                       property_dict  \n",
      "0                                                 {}  \n",
      "1                                                 {}  \n",
      "2    {'service': 5.0, 'location': 5.0, 'value': 5.0}  \n",
      "3  {'service': 5.0, 'cleanliness': 5.0, 'sleep qu...  \n",
      "4  {'sleep quality': 3.0, 'value': 4.0, 'rooms': ...  \n"
     ]
    }
   ],
   "source": [
    "rows = []\n",
    "\n",
    "with zipfile.ZipFile(zip_path, 'r') as zip_ref:\n",
    "    with zip_ref.open(txt_inside_zip) as file:\n",
    "        # Read and parse the first 5 JSON lines\n",
    "        for line in itertools.islice(file, 5):\n",
    "            line_data = json.loads(line.decode('utf-8'))\n",
    "            rows.append(line_data)\n",
    "\n",
    "# Convert to DataFrame\n",
    "df_sample = pd.DataFrame(rows)\n",
    "\n",
    "# Display how it looks\n",
    "print(df_sample.head())"
   ]
  },
  {
   "cell_type": "code",
   "execution_count": 13,
   "id": "24f26c7f",
   "metadata": {},
   "outputs": [
    {
     "data": {
      "text/html": [
       "<div>\n",
       "<style scoped>\n",
       "    .dataframe tbody tr th:only-of-type {\n",
       "        vertical-align: middle;\n",
       "    }\n",
       "\n",
       "    .dataframe tbody tr th {\n",
       "        vertical-align: top;\n",
       "    }\n",
       "\n",
       "    .dataframe thead th {\n",
       "        text-align: right;\n",
       "    }\n",
       "</style>\n",
       "<table border=\"1\" class=\"dataframe\">\n",
       "  <thead>\n",
       "    <tr style=\"text-align: right;\">\n",
       "      <th></th>\n",
       "      <th>hotel_url</th>\n",
       "      <th>author</th>\n",
       "      <th>date</th>\n",
       "      <th>rating</th>\n",
       "      <th>title</th>\n",
       "      <th>text</th>\n",
       "      <th>property_dict</th>\n",
       "    </tr>\n",
       "  </thead>\n",
       "  <tbody>\n",
       "    <tr>\n",
       "      <th>0</th>\n",
       "      <td>Hotel_Review-g194775-d1121769-Reviews-Hotel_Ba...</td>\n",
       "      <td>violettaf340</td>\n",
       "      <td>2019-01-01T00:00:00</td>\n",
       "      <td>5.0</td>\n",
       "      <td>Xmas holiday</td>\n",
       "      <td>We went here with our kids for Xmas holiday an...</td>\n",
       "      <td>{}</td>\n",
       "    </tr>\n",
       "    <tr>\n",
       "      <th>1</th>\n",
       "      <td>Hotel_Review-g194775-d1121769-Reviews-Hotel_Ba...</td>\n",
       "      <td>Lagaiuzza</td>\n",
       "      <td>2016-01-01T00:00:00</td>\n",
       "      <td>5.0</td>\n",
       "      <td>Baltic, what else?</td>\n",
       "      <td>We have spent in this hotel our summer holiday...</td>\n",
       "      <td>{}</td>\n",
       "    </tr>\n",
       "    <tr>\n",
       "      <th>2</th>\n",
       "      <td>Hotel_Review-g194775-d1121769-Reviews-Hotel_Ba...</td>\n",
       "      <td>ashleyn763</td>\n",
       "      <td>2014-10-01T00:00:00</td>\n",
       "      <td>5.0</td>\n",
       "      <td>Excellent in every way!</td>\n",
       "      <td>I visited Hotel Baltic with my husband for som...</td>\n",
       "      <td>{'service': 5.0, 'location': 5.0, 'value': 5.0}</td>\n",
       "    </tr>\n",
       "    <tr>\n",
       "      <th>3</th>\n",
       "      <td>Hotel_Review-g194775-d1121769-Reviews-Hotel_Ba...</td>\n",
       "      <td>DavideMauro</td>\n",
       "      <td>2014-08-01T00:00:00</td>\n",
       "      <td>5.0</td>\n",
       "      <td>The house of your family's holiday</td>\n",
       "      <td>I've travelled quite a numbers of hotels but t...</td>\n",
       "      <td>{'service': 5.0, 'cleanliness': 5.0, 'sleep qu...</td>\n",
       "    </tr>\n",
       "    <tr>\n",
       "      <th>4</th>\n",
       "      <td>Hotel_Review-g194775-d1121769-Reviews-Hotel_Ba...</td>\n",
       "      <td>Alemma11</td>\n",
       "      <td>2013-08-01T00:00:00</td>\n",
       "      <td>4.0</td>\n",
       "      <td>A paradise for children (and parents, of course)</td>\n",
       "      <td>We decided for this family holiday destination...</td>\n",
       "      <td>{'sleep quality': 3.0, 'value': 4.0, 'rooms': ...</td>\n",
       "    </tr>\n",
       "  </tbody>\n",
       "</table>\n",
       "</div>"
      ],
      "text/plain": [
       "                                           hotel_url        author  \\\n",
       "0  Hotel_Review-g194775-d1121769-Reviews-Hotel_Ba...  violettaf340   \n",
       "1  Hotel_Review-g194775-d1121769-Reviews-Hotel_Ba...     Lagaiuzza   \n",
       "2  Hotel_Review-g194775-d1121769-Reviews-Hotel_Ba...    ashleyn763   \n",
       "3  Hotel_Review-g194775-d1121769-Reviews-Hotel_Ba...   DavideMauro   \n",
       "4  Hotel_Review-g194775-d1121769-Reviews-Hotel_Ba...      Alemma11   \n",
       "\n",
       "                  date  rating  \\\n",
       "0  2019-01-01T00:00:00     5.0   \n",
       "1  2016-01-01T00:00:00     5.0   \n",
       "2  2014-10-01T00:00:00     5.0   \n",
       "3  2014-08-01T00:00:00     5.0   \n",
       "4  2013-08-01T00:00:00     4.0   \n",
       "\n",
       "                                              title  \\\n",
       "0                                      Xmas holiday   \n",
       "1                                Baltic, what else?   \n",
       "2                           Excellent in every way!   \n",
       "3                The house of your family's holiday   \n",
       "4  A paradise for children (and parents, of course)   \n",
       "\n",
       "                                                text  \\\n",
       "0  We went here with our kids for Xmas holiday an...   \n",
       "1  We have spent in this hotel our summer holiday...   \n",
       "2  I visited Hotel Baltic with my husband for som...   \n",
       "3  I've travelled quite a numbers of hotels but t...   \n",
       "4  We decided for this family holiday destination...   \n",
       "\n",
       "                                       property_dict  \n",
       "0                                                 {}  \n",
       "1                                                 {}  \n",
       "2    {'service': 5.0, 'location': 5.0, 'value': 5.0}  \n",
       "3  {'service': 5.0, 'cleanliness': 5.0, 'sleep qu...  \n",
       "4  {'sleep quality': 3.0, 'value': 4.0, 'rooms': ...  "
      ]
     },
     "metadata": {},
     "output_type": "display_data"
    }
   ],
   "source": [
    "from IPython.display import display\n",
    "display(df_sample.head())"
   ]
  },
  {
   "cell_type": "code",
   "execution_count": null,
   "id": "eb77ae79",
   "metadata": {},
   "outputs": [],
   "source": [
    "print(df_sample.dtypes)"
   ]
  },
  {
   "cell_type": "code",
   "execution_count": 6,
   "id": "b37d26ff",
   "metadata": {},
   "outputs": [],
   "source": [
    "def parse_hotel_url(url):\n",
    "    try:\n",
    "        parts = url.split('-')\n",
    "        hotel_id = parts[2]  # dXXXXX\n",
    "        if hotel_id.startswith('d'):\n",
    "            hotel_id = hotel_id[1:]  # remove leading 'd'\n",
    "        \n",
    "        hotel_name = parts[4].replace('_', ' ') if len(parts) > 4 else None\n",
    "        hotel_location = parts[5].replace('_', ' ') if len(parts) > 5 else None\n",
    "        \n",
    "        # Remove '.html' if it's stuck at the end\n",
    "        if hotel_location and hotel_location.endswith('.html'):\n",
    "            hotel_location = hotel_location.replace('.html', '')\n",
    "        \n",
    "        return hotel_id, hotel_name, hotel_location\n",
    "    except:\n",
    "        return None, None, None"
   ]
  },
  {
   "cell_type": "code",
   "execution_count": 7,
   "id": "edb57b55",
   "metadata": {},
   "outputs": [],
   "source": [
    "# --- Initialize ---\n",
    "batch = []\n",
    "file_counter = 1"
   ]
  },
  {
   "cell_type": "code",
   "execution_count": 8,
   "id": "ab71fa40",
   "metadata": {},
   "outputs": [],
   "source": [
    "starting_row = 0  # Set this to the row number you want to start from"
   ]
  },
  {
   "cell_type": "code",
   "execution_count": null,
   "id": "8448805f-a275-498f-96aa-9b7883baa92c",
   "metadata": {},
   "outputs": [
    {
     "name": "stderr",
     "output_type": "stream",
     "text": [
      "Processing chunks:   2%|████▌                                                                                                                                                                                                                                | 1000070/50264531 [05:08<8:39:19, 1581.05it/s]"
     ]
    },
    {
     "name": "stdout",
     "output_type": "stream",
     "text": [
      "Saved part: data/raw2/partial/hotelrec_part1.csv\n"
     ]
    },
    {
     "name": "stderr",
     "output_type": "stream",
     "text": [
      "Processing chunks:   4%|█████████                                                                                                                                                                                                                            | 1999377/50264531 [10:21<4:25:43, 3027.22it/s]"
     ]
    },
    {
     "name": "stdout",
     "output_type": "stream",
     "text": [
      "Saved part: data/raw2/partial/hotelrec_part2.csv\n"
     ]
    },
    {
     "name": "stderr",
     "output_type": "stream",
     "text": [
      "Processing chunks:   6%|█████████████▋                                                                                                                                                                                                                       | 2997519/50264531 [15:16<3:48:08, 3453.08it/s]"
     ]
    },
    {
     "name": "stdout",
     "output_type": "stream",
     "text": [
      "Saved part: data/raw2/partial/hotelrec_part3.csv\n"
     ]
    },
    {
     "name": "stderr",
     "output_type": "stream",
     "text": [
      "Processing chunks:   8%|██████████████████▏                                                                                                                                                                                                                  | 4000745/50264531 [20:12<8:01:06, 1602.66it/s]"
     ]
    },
    {
     "name": "stdout",
     "output_type": "stream",
     "text": [
      "Saved part: data/raw2/partial/hotelrec_part4.csv\n"
     ]
    },
    {
     "name": "stderr",
     "output_type": "stream",
     "text": [
      "Processing chunks:  10%|██████████████████████▊                                                                                                                                                                                                              | 4997599/50264531 [24:59<3:32:23, 3552.20it/s]"
     ]
    },
    {
     "name": "stdout",
     "output_type": "stream",
     "text": [
      "Saved part: data/raw2/partial/hotelrec_part5.csv\n"
     ]
    },
    {
     "name": "stderr",
     "output_type": "stream",
     "text": [
      "Processing chunks:  12%|███████████████████████████▎                                                                                                                                                                                                         | 5998397/50264531 [29:48<3:33:41, 3452.55it/s]"
     ]
    },
    {
     "name": "stdout",
     "output_type": "stream",
     "text": [
      "Saved part: data/raw2/partial/hotelrec_part6.csv\n"
     ]
    },
    {
     "name": "stderr",
     "output_type": "stream",
     "text": [
      "Processing chunks:  14%|███████████████████████████████▉                                                                                                                                                                                                     | 6997598/50264531 [34:37<3:27:41, 3472.18it/s]"
     ]
    },
    {
     "name": "stdout",
     "output_type": "stream",
     "text": [
      "Saved part: data/raw2/partial/hotelrec_part7.csv\n"
     ]
    },
    {
     "name": "stderr",
     "output_type": "stream",
     "text": [
      "Processing chunks:  16%|████████████████████████████████████▍                                                                                                                                                                                                | 7997529/50264531 [39:28<3:18:48, 3543.31it/s]"
     ]
    },
    {
     "name": "stdout",
     "output_type": "stream",
     "text": [
      "Saved part: data/raw2/partial/hotelrec_part8.csv\n"
     ]
    },
    {
     "name": "stderr",
     "output_type": "stream",
     "text": [
      "Processing chunks:  18%|████████████████████████████████████████▉                                                                                                                                                                                            | 8997938/50264531 [44:17<3:12:55, 3565.08it/s]"
     ]
    },
    {
     "name": "stdout",
     "output_type": "stream",
     "text": [
      "Saved part: data/raw2/partial/hotelrec_part9.csv\n"
     ]
    },
    {
     "name": "stderr",
     "output_type": "stream",
     "text": [
      "Processing chunks:  20%|█████████████████████████████████████████████▎                                                                                                                                                                                      | 10000034/50264531 [49:12<7:31:33, 1486.11it/s]"
     ]
    },
    {
     "name": "stdout",
     "output_type": "stream",
     "text": [
      "Saved part: data/raw2/partial/hotelrec_part10.csv\n"
     ]
    },
    {
     "name": "stderr",
     "output_type": "stream",
     "text": [
      "Processing chunks:  22%|█████████████████████████████████████████████████▉                                                                                                                                                                                  | 10997664/50264531 [53:57<3:08:17, 3475.57it/s]"
     ]
    },
    {
     "name": "stdout",
     "output_type": "stream",
     "text": [
      "Saved part: data/raw2/partial/hotelrec_part11.csv\n"
     ]
    },
    {
     "name": "stderr",
     "output_type": "stream",
     "text": [
      "Processing chunks:  24%|██████████████████████████████████████████████████████▍                                                                                                                                                                             | 11998943/50264531 [58:46<2:55:05, 3642.52it/s]"
     ]
    },
    {
     "name": "stdout",
     "output_type": "stream",
     "text": [
      "Saved part: data/raw2/partial/hotelrec_part12.csv\n"
     ]
    },
    {
     "name": "stderr",
     "output_type": "stream",
     "text": [
      "Processing chunks:  26%|██████████████████████████████████████████████████████████▍                                                                                                                                                                       | 13000451/50264531 [1:03:57<7:17:02, 1421.08it/s]"
     ]
    },
    {
     "name": "stdout",
     "output_type": "stream",
     "text": [
      "Saved part: data/raw2/partial/hotelrec_part13.csv\n"
     ]
    },
    {
     "name": "stderr",
     "output_type": "stream",
     "text": [
      "Processing chunks:  28%|██████████████████████████████████████████████████████████████▉                                                                                                                                                                   | 13998139/50264531 [1:09:40<3:57:19, 2546.92it/s]"
     ]
    },
    {
     "name": "stdout",
     "output_type": "stream",
     "text": [
      "Saved part: data/raw2/partial/hotelrec_part14.csv\n"
     ]
    },
    {
     "name": "stderr",
     "output_type": "stream",
     "text": [
      "Processing chunks:  30%|███████████████████████████████████████████████████████████████████▍                                                                                                                                                              | 14999062/50264531 [1:16:09<4:09:37, 2354.53it/s]"
     ]
    },
    {
     "name": "stdout",
     "output_type": "stream",
     "text": [
      "Saved part: data/raw2/partial/hotelrec_part15.csv\n"
     ]
    },
    {
     "name": "stderr",
     "output_type": "stream",
     "text": [
      "Processing chunks:  32%|███████████████████████████████████████████████████████████████████████▉                                                                                                                                                          | 16000726/50264531 [1:21:30<6:25:31, 1481.28it/s]"
     ]
    },
    {
     "name": "stdout",
     "output_type": "stream",
     "text": [
      "Saved part: data/raw2/partial/hotelrec_part16.csv\n"
     ]
    },
    {
     "name": "stderr",
     "output_type": "stream",
     "text": [
      "Processing chunks:  34%|████████████████████████████████████████████████████████████████████████████▍                                                                                                                                                     | 16998319/50264531 [1:26:42<3:20:44, 2761.91it/s]"
     ]
    },
    {
     "name": "stdout",
     "output_type": "stream",
     "text": [
      "Saved part: data/raw2/partial/hotelrec_part17.csv\n"
     ]
    },
    {
     "name": "stderr",
     "output_type": "stream",
     "text": [
      "Processing chunks:  36%|████████████████████████████████████████████████████████████████████████████████▉                                                                                                                                                 | 17999685/50264531 [1:31:39<2:35:37, 3455.56it/s]"
     ]
    },
    {
     "name": "stdout",
     "output_type": "stream",
     "text": [
      "Saved part: data/raw2/partial/hotelrec_part18.csv\n"
     ]
    },
    {
     "name": "stderr",
     "output_type": "stream",
     "text": [
      "Processing chunks:  38%|█████████████████████████████████████████████████████████████████████████████████████▍                                                                                                                                            | 18998417/50264531 [1:36:28<2:27:02, 3543.74it/s]"
     ]
    },
    {
     "name": "stdout",
     "output_type": "stream",
     "text": [
      "Saved part: data/raw2/partial/hotelrec_part19.csv\n"
     ]
    },
    {
     "name": "stderr",
     "output_type": "stream",
     "text": [
      "Processing chunks:  40%|█████████████████████████████████████████████████████████████████████████████████████████▉                                                                                                                                        | 19998118/50264531 [1:41:17<2:25:57, 3455.98it/s]"
     ]
    },
    {
     "name": "stdout",
     "output_type": "stream",
     "text": [
      "Saved part: data/raw2/partial/hotelrec_part20.csv\n"
     ]
    },
    {
     "name": "stderr",
     "output_type": "stream",
     "text": [
      "Processing chunks:  42%|██████████████████████████████████████████████████████████████████████████████████████████████▍                                                                                                                                   | 20998085/50264531 [1:46:07<2:16:26, 3574.94it/s]"
     ]
    },
    {
     "name": "stdout",
     "output_type": "stream",
     "text": [
      "Saved part: data/raw2/partial/hotelrec_part21.csv\n"
     ]
    },
    {
     "name": "stderr",
     "output_type": "stream",
     "text": [
      "Processing chunks:  44%|██████████████████████████████████████████████████████████████████████████████████████████████████▉                                                                                                                               | 21998932/50264531 [1:50:57<2:16:08, 3460.13it/s]"
     ]
    },
    {
     "name": "stdout",
     "output_type": "stream",
     "text": [
      "Saved part: data/raw2/partial/hotelrec_part22.csv\n"
     ]
    },
    {
     "name": "stderr",
     "output_type": "stream",
     "text": [
      "Processing chunks:  46%|███████████████████████████████████████████████████████████████████████████████████████████████████████▍                                                                                                                          | 23000506/50264531 [1:55:49<4:51:05, 1560.98it/s]"
     ]
    },
    {
     "name": "stdout",
     "output_type": "stream",
     "text": [
      "Saved part: data/raw2/partial/hotelrec_part23.csv\n"
     ]
    },
    {
     "name": "stderr",
     "output_type": "stream",
     "text": [
      "Processing chunks:  48%|███████████████████████████████████████████████████████████████████████████████████████████████████████████▉                                                                                                                      | 23999864/50264531 [2:00:33<2:00:46, 3624.32it/s]"
     ]
    },
    {
     "name": "stdout",
     "output_type": "stream",
     "text": [
      "Saved part: data/raw2/partial/hotelrec_part24.csv\n"
     ]
    },
    {
     "name": "stderr",
     "output_type": "stream",
     "text": [
      "Processing chunks:  50%|████████████████████████████████████████████████████████████████████████████████████████████████████████████████▍                                                                                                                 | 24999271/50264531 [2:05:22<1:55:07, 3657.57it/s]"
     ]
    },
    {
     "name": "stdout",
     "output_type": "stream",
     "text": [
      "Saved part: data/raw2/partial/hotelrec_part25.csv\n"
     ]
    },
    {
     "name": "stderr",
     "output_type": "stream",
     "text": [
      "Processing chunks:  52%|████████████████████████████████████████████████████████████████████████████████████████████████████████████████████▉                                                                                                             | 25999062/50264531 [2:10:08<1:55:30, 3501.48it/s]"
     ]
    },
    {
     "name": "stdout",
     "output_type": "stream",
     "text": [
      "Saved part: data/raw2/partial/hotelrec_part26.csv\n"
     ]
    },
    {
     "name": "stderr",
     "output_type": "stream",
     "text": [
      "Processing chunks:  54%|█████████████████████████████████████████████████████████████████████████████████████████████████████████████████████████▍                                                                                                        | 26997340/50264531 [2:14:54<1:47:41, 3600.82it/s]"
     ]
    },
    {
     "name": "stdout",
     "output_type": "stream",
     "text": [
      "Saved part: data/raw2/partial/hotelrec_part27.csv\n"
     ]
    },
    {
     "name": "stderr",
     "output_type": "stream",
     "text": [
      "Processing chunks:  56%|█████████████████████████████████████████████████████████████████████████████████████████████████████████████████████████████▉                                                                                                    | 28000461/50264531 [2:19:50<4:10:02, 1483.98it/s]"
     ]
    },
    {
     "name": "stdout",
     "output_type": "stream",
     "text": [
      "Saved part: data/raw2/partial/hotelrec_part28.csv\n"
     ]
    },
    {
     "name": "stderr",
     "output_type": "stream",
     "text": [
      "Processing chunks:  58%|██████████████████████████████████████████████████████████████████████████████████████████████████████████████████████████████████▍                                                                                               | 29000558/50264531 [2:24:39<3:52:30, 1524.25it/s]"
     ]
    },
    {
     "name": "stdout",
     "output_type": "stream",
     "text": [
      "Saved part: data/raw2/partial/hotelrec_part29.csv\n"
     ]
    },
    {
     "name": "stderr",
     "output_type": "stream",
     "text": [
      "Processing chunks:  60%|██████████████████████████████████████████████████████████████████████████████████████████████████████████████████████████████████████▉                                                                                           | 29999010/50264531 [2:29:23<1:35:25, 3539.48it/s]"
     ]
    },
    {
     "name": "stdout",
     "output_type": "stream",
     "text": [
      "Saved part: data/raw2/partial/hotelrec_part30.csv\n"
     ]
    },
    {
     "name": "stderr",
     "output_type": "stream",
     "text": [
      "Processing chunks:  62%|███████████████████████████████████████████████████████████████████████████████████████████████████████████████████████████████████████████▎                                                                                      | 30998094/50264531 [2:34:11<1:31:09, 3522.21it/s]"
     ]
    },
    {
     "name": "stdout",
     "output_type": "stream",
     "text": [
      "Saved part: data/raw2/partial/hotelrec_part31.csv\n"
     ]
    },
    {
     "name": "stderr",
     "output_type": "stream",
     "text": [
      "Processing chunks:  64%|███████████████████████████████████████████████████████████████████████████████████████████████████████████████████████████████████████████████▉                                                                                  | 31999796/50264531 [2:38:55<1:25:11, 3573.35it/s]"
     ]
    },
    {
     "name": "stdout",
     "output_type": "stream",
     "text": [
      "Saved part: data/raw2/partial/hotelrec_part32.csv\n"
     ]
    },
    {
     "name": "stderr",
     "output_type": "stream",
     "text": [
      "Processing chunks:  66%|████████████████████████████████████████████████████████████████████████████████████████████████████████████████████████████████████████████████████▎                                                                             | 32998331/50264531 [2:43:49<1:20:29, 3575.45it/s]"
     ]
    },
    {
     "name": "stdout",
     "output_type": "stream",
     "text": [
      "Saved part: data/raw2/partial/hotelrec_part33.csv\n"
     ]
    },
    {
     "name": "stderr",
     "output_type": "stream",
     "text": [
      "Processing chunks:  68%|████████████████████████████████████████████████████████████████████████████████████████████████████████████████████████████████████████████████████████▊                                                                         | 33999253/50264531 [2:48:40<1:19:18, 3418.29it/s]"
     ]
    },
    {
     "name": "stdout",
     "output_type": "stream",
     "text": [
      "Saved part: data/raw2/partial/hotelrec_part34.csv\n"
     ]
    },
    {
     "name": "stderr",
     "output_type": "stream",
     "text": [
      "Processing chunks:  70%|█████████████████████████████████████████████████████████████████████████████████████████████████████████████████████████████████████████████████████████████▎                                                                    | 35000062/50264531 [2:53:37<2:48:17, 1511.78it/s]"
     ]
    },
    {
     "name": "stdout",
     "output_type": "stream",
     "text": [
      "Saved part: data/raw2/partial/hotelrec_part35.csv\n"
     ]
    },
    {
     "name": "stderr",
     "output_type": "stream",
     "text": [
      "Processing chunks:  72%|█████████████████████████████████████████████████████████████████████████████████████████████████████████████████████████████████████████████████████████████████▊                                                                | 35999785/50264531 [2:58:22<1:09:48, 3405.78it/s]"
     ]
    },
    {
     "name": "stdout",
     "output_type": "stream",
     "text": [
      "Saved part: data/raw2/partial/hotelrec_part36.csv\n"
     ]
    },
    {
     "name": "stderr",
     "output_type": "stream",
     "text": [
      "Processing chunks:  74%|██████████████████████████████████████████████████████████████████████████████████████████████████████████████████████████████████████████████████████████████████████▎                                                           | 36999586/50264531 [3:03:12<1:05:11, 3391.29it/s]"
     ]
    },
    {
     "name": "stdout",
     "output_type": "stream",
     "text": [
      "Saved part: data/raw2/partial/hotelrec_part37.csv\n"
     ]
    },
    {
     "name": "stderr",
     "output_type": "stream",
     "text": [
      "Processing chunks:  76%|██████████████████████████████████████████████████████████████████████████████████████████████████████████████████████████████████████████████████████████████████████████▊                                                       | 38000453/50264531 [3:08:06<2:08:51, 1586.35it/s]"
     ]
    },
    {
     "name": "stdout",
     "output_type": "stream",
     "text": [
      "Saved part: data/raw2/partial/hotelrec_part38.csv\n"
     ]
    },
    {
     "name": "stderr",
     "output_type": "stream",
     "text": [
      "Processing chunks:  78%|████████████████████████████████████████████████████████████████████████████████████████████████████████████████████████████████████████████████████████████████████████████████▉                                                   | 38998858/50264531 [3:12:49<53:49, 3488.07it/s]"
     ]
    },
    {
     "name": "stdout",
     "output_type": "stream",
     "text": [
      "Saved part: data/raw2/partial/hotelrec_part39.csv\n"
     ]
    },
    {
     "name": "stderr",
     "output_type": "stream",
     "text": [
      "Processing chunks:  80%|███████████████████████████████████████████████████████████████████████████████████████████████████████████████████████████████████████████████████████████████████████████████████▊                                              | 40000000/50264531 [3:17:43<1:44:54, 1630.66it/s]"
     ]
    },
    {
     "name": "stdout",
     "output_type": "stream",
     "text": [
      "Saved part: data/raw2/partial/hotelrec_part40.csv\n"
     ]
    },
    {
     "name": "stderr",
     "output_type": "stream",
     "text": [
      "Processing chunks:  82%|█████████████████████████████████████████████████████████████████████████████████████████████████████████████████████████████████████████████████████████████████████████████████████████▉                                          | 40998034/50264531 [3:22:27<42:25, 3640.94it/s]"
     ]
    },
    {
     "name": "stdout",
     "output_type": "stream",
     "text": [
      "Saved part: data/raw2/partial/hotelrec_part41.csv\n"
     ]
    },
    {
     "name": "stderr",
     "output_type": "stream",
     "text": [
      "Processing chunks:  84%|██████████████████████████████████████████████████████████████████████████████████████████████████████████████████████████████████████████████████████████████████████████████████████████████▌                                     | 41999827/50264531 [3:27:48<46:47, 2943.91it/s]"
     ]
    },
    {
     "name": "stdout",
     "output_type": "stream",
     "text": [
      "Saved part: data/raw2/partial/hotelrec_part42.csv\n"
     ]
    },
    {
     "name": "stderr",
     "output_type": "stream",
     "text": [
      "Processing chunks:  86%|███████████████████████████████████████████████████████████████████████████████████████████████████████████████████████████████████████████████████████████████████████████████████████████████████                                 | 42999043/50264531 [3:33:27<39:47, 3043.41it/s]"
     ]
    },
    {
     "name": "stdout",
     "output_type": "stream",
     "text": [
      "Saved part: data/raw2/partial/hotelrec_part43.csv\n"
     ]
    },
    {
     "name": "stderr",
     "output_type": "stream",
     "text": [
      "Processing chunks:  88%|███████████████████████████████████████████████████████████████████████████████████████████████████████████████████████████████████████████████████████████████████████████████████████████████████████▌                            | 43999209/50264531 [3:39:32<30:54, 3377.98it/s]"
     ]
    },
    {
     "name": "stdout",
     "output_type": "stream",
     "text": [
      "Saved part: data/raw2/partial/hotelrec_part44.csv\n"
     ]
    },
    {
     "name": "stderr",
     "output_type": "stream",
     "text": [
      "Processing chunks:  90%|████████████████████████████████████████████████████████████████████████████████████████████████████████████████████████████████████████████████████████████████████████████████████████████████████████████                        | 44999004/50264531 [3:45:37<31:42, 2767.01it/s]"
     ]
    },
    {
     "name": "stdout",
     "output_type": "stream",
     "text": [
      "Saved part: data/raw2/partial/hotelrec_part45.csv\n"
     ]
    },
    {
     "name": "stderr",
     "output_type": "stream",
     "text": [
      "Processing chunks:  92%|██████████████████████████████████████████████████████████████████████████████████████████████████████████████████████████████████████████████████████████████████████████████████████████████████████████████▊                   | 46000147/50264531 [3:52:00<1:02:00, 1146.05it/s]"
     ]
    },
    {
     "name": "stdout",
     "output_type": "stream",
     "text": [
      "Saved part: data/raw2/partial/hotelrec_part46.csv\n"
     ]
    },
    {
     "name": "stderr",
     "output_type": "stream",
     "text": [
      "Processing chunks:  94%|█████████████████████████████████████████████████████████████████████████████████████████████████████████████████████████████████████████████████████████████████████████████████████████████████████████████████████▏              | 46999050/50264531 [3:57:58<22:22, 2432.65it/s]"
     ]
    },
    {
     "name": "stdout",
     "output_type": "stream",
     "text": [
      "Saved part: data/raw2/partial/hotelrec_part47.csv\n"
     ]
    },
    {
     "name": "stderr",
     "output_type": "stream",
     "text": [
      "Processing chunks:  95%|█████████████████████████████████████████████████████████████████████████████████████████████████████████████████████████████████████████████████████████████████████████████████████████████████████████████████████████▋          | 48000147/50264531 [4:04:05<29:33, 1276.86it/s]"
     ]
    },
    {
     "name": "stdout",
     "output_type": "stream",
     "text": [
      "Saved part: data/raw2/partial/hotelrec_part48.csv\n"
     ]
    },
    {
     "name": "stderr",
     "output_type": "stream",
     "text": [
      "Processing chunks:  97%|██████████████████████████████████████████████████████████████████████████████████████████████████████████████████████████████████████████████████████████████████████████████████████████████████████████████████████████████▎     | 49000257/50264531 [4:10:06<15:09, 1389.60it/s]"
     ]
    },
    {
     "name": "stdout",
     "output_type": "stream",
     "text": [
      "Saved part: data/raw2/partial/hotelrec_part49.csv\n"
     ]
    },
    {
     "name": "stderr",
     "output_type": "stream",
     "text": [
      "Processing chunks:  99%|██████████████████████████████████████████████████████████████████████████████████████████████████████████████████████████████████████████████████████████████████████████████████████████████████████████████████████████████████▊ | 50000748/50264531 [4:15:18<02:52, 1529.13it/s]"
     ]
    },
    {
     "name": "stdout",
     "output_type": "stream",
     "text": [
      "Saved part: data/raw2/partial/hotelrec_part50.csv\n"
     ]
    },
    {
     "name": "stderr",
     "output_type": "stream",
     "text": [
      "Processing chunks: 100%|████████████████████████████████████████████████████████████████████████████████████████████████████████████████████████████████████████████████████████████████████████████████████████████████████████████████████████████████████| 50264531/50264531 [4:16:37<00:00, 3264.56it/s]\n"
     ]
    },
    {
     "name": "stdout",
     "output_type": "stream",
     "text": [
      "Saved final part: data/raw2/partial/hotelrec_part51.csv\n",
      "All parts saved!\n"
     ]
    }
   ],
   "source": [
    "# --- Start processing ---\n",
    "with zipfile.ZipFile(zip_path, 'r') as zip_ref:\n",
    "    with zip_ref.open(txt_inside_zip) as file:\n",
    "        for i, line in enumerate(tqdm(file, total=total_lines, desc=\"Processing chunks\", mininterval=1)):\n",
    "\n",
    "            if i < starting_row:\n",
    "                continue  # Skip lines until starting_row\n",
    "            \n",
    "            record = json.loads(line.decode('utf-8'))\n",
    "\n",
    "            # Combine title and text\n",
    "            title = record.get('title', '')\n",
    "            text = record.get('text', '')\n",
    "            combined_text = f\"{title}. {text}\"\n",
    "\n",
    "            sentiment = TextBlob(combined_text).sentiment.polarity\n",
    "\n",
    "            # Format date (keep only YYYY-MM)\n",
    "            raw_date = record.get('date', None)\n",
    "            if raw_date:\n",
    "                formatted_date = raw_date.split('T')[0][:7]  # Take only 'YYYY-MM'\n",
    "            else:\n",
    "                formatted_date = None\n",
    "\n",
    "            # Parse hotel_url\n",
    "            hotel_id, hotel_name, hotel_location = parse_hotel_url(record.get('hotel_url', ''))\n",
    "\n",
    "            # Create the record\n",
    "            new_record = {\n",
    "                'hotel_id': hotel_id,\n",
    "                'hotel_name': hotel_name,\n",
    "                'hotel_location': hotel_location,\n",
    "                'date': formatted_date,\n",
    "                'rating': record.get('rating'),\n",
    "                'sentiment_score': sentiment,\n",
    "            }\n",
    "\n",
    "            # Flatten property_dict\n",
    "            prop = record.get('property_dict', {})\n",
    "            if prop:\n",
    "                for key in ['sleep quality', 'value', 'rooms', 'service', 'cleanliness', 'location']:\n",
    "                    new_record[key] = prop.get(key)\n",
    "\n",
    "            batch.append(new_record)\n",
    "\n",
    "            # Save every chunk_size lines\n",
    "            if (i + 1) % chunk_size == 0:\n",
    "                temp_df = pd.DataFrame(batch)\n",
    "                part_filename = os.path.join(partial_folder, f'hotelrec_part{file_counter}.csv')\n",
    "                temp_df.to_csv(part_filename, index=False)\n",
    "                print(f\"Saved part: {part_filename}\")\n",
    "                file_counter += 1\n",
    "                batch = []\n",
    "\n",
    "        # Save remaining at the end\n",
    "        if batch:\n",
    "            temp_df = pd.DataFrame(batch)\n",
    "            part_filename = os.path.join(partial_folder, f'hotelrec_part{file_counter}.csv')\n",
    "            temp_df.to_csv(part_filename, index=False)\n",
    "            print(f\"Saved final part: {part_filename}\")\n",
    "\n",
    "print(\"All parts saved!\") #256m 39.1s"
   ]
  },
  {
   "cell_type": "code",
   "execution_count": 10,
   "id": "be113aef",
   "metadata": {},
   "outputs": [
    {
     "name": "stdout",
     "output_type": "stream",
     "text": [
      "Found 51 parts to combine.\n",
      "Successfully combined into: data/raw2/hotelrec_full_combined.csv\n",
      "Final combined dataset shape: (50264531, 12)\n"
     ]
    }
   ],
   "source": [
    "# Step 1: Find all parts\n",
    "all_parts = sorted(glob.glob(os.path.join(partial_folder, 'hotelrec_part*.csv')))\n",
    "print(f\"Found {len(all_parts)} parts to combine.\")\n",
    "\n",
    "# Step 2: Read and combine\n",
    "full_df = pd.concat((pd.read_csv(part) for part in all_parts), ignore_index=True)\n",
    "full_df.to_csv(final_csv_path, index=False)\n",
    "\n",
    "print(f\"Successfully combined into: {final_csv_path}\")\n",
    "print(f\"Final combined dataset shape: {full_df.shape}\") # 2m 43.3s"
   ]
  },
  {
   "cell_type": "code",
   "execution_count": null,
   "id": "cd1d70f4",
   "metadata": {},
   "outputs": [],
   "source": [
    "\n",
    "full_df.to_csv(final_csv_path.replace('.csv', '.csv.gz'), index=False, compression='gzip') #5m 55.1s"
   ]
  }
 ],
 "metadata": {
  "kernelspec": {
   "display_name": "venv-3.8",
   "language": "python",
   "name": "python3"
  },
  "language_info": {
   "codemirror_mode": {
    "name": "ipython",
    "version": 3
   },
   "file_extension": ".py",
   "mimetype": "text/x-python",
   "name": "python",
   "nbconvert_exporter": "python",
   "pygments_lexer": "ipython3",
   "version": "3.8.20"
  }
 },
 "nbformat": 4,
 "nbformat_minor": 5
}
