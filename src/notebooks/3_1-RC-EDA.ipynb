{
 "cells": [
  {
   "cell_type": "markdown",
   "id": "8d5b349a",
   "metadata": {},
   "source": [
    "# Setup"
   ]
  },
  {
   "cell_type": "code",
   "execution_count": 2,
   "id": "e41e656e",
   "metadata": {},
   "outputs": [],
   "source": [
    "import pandas as pd\n",
    "import os\n",
    "from collections import defaultdict\n",
    "import matplotlib.pyplot as plt\n",
    "from tqdm import tqdm\n",
    "import numpy as np"
   ]
  },
  {
   "cell_type": "code",
   "execution_count": 4,
   "id": "1f46cca9",
   "metadata": {},
   "outputs": [
    {
     "data": {
      "text/plain": [
       "'/root/cmpe256/cmpe256_hotel_recommendation_system/data/raw/hotelrec_final_cleaned.csv'"
      ]
     },
     "execution_count": 4,
     "metadata": {},
     "output_type": "execute_result"
    }
   ],
   "source": [
    "# Get the current working directory (where the script is running)\n",
    "current_dir = os.getcwd()\n",
    "file_path = os.path.join(current_dir, 'data', 'raw', 'hotelrec_final_cleaned.csv')\n",
    "file_path"
   ]
  },
  {
   "cell_type": "code",
   "execution_count": 5,
   "id": "87f08e52",
   "metadata": {},
   "outputs": [],
   "source": [
    "# --- Parameters ---\n",
    "chunk_size = 1_000_000  # adjust based on memory"
   ]
  },
  {
   "cell_type": "code",
   "execution_count": 6,
   "id": "697fa9fb",
   "metadata": {},
   "outputs": [
    {
     "name": "stdout",
     "output_type": "stream",
     "text": [
      "First chunk shape: (1000000, 13)\n"
     ]
    },
    {
     "data": {
      "text/html": [
       "<div>\n",
       "<style scoped>\n",
       "    .dataframe tbody tr th:only-of-type {\n",
       "        vertical-align: middle;\n",
       "    }\n",
       "\n",
       "    .dataframe tbody tr th {\n",
       "        vertical-align: top;\n",
       "    }\n",
       "\n",
       "    .dataframe thead th {\n",
       "        text-align: right;\n",
       "    }\n",
       "</style>\n",
       "<table border=\"1\" class=\"dataframe\">\n",
       "  <thead>\n",
       "    <tr style=\"text-align: right;\">\n",
       "      <th></th>\n",
       "      <th>hotel_id</th>\n",
       "      <th>hotel_name</th>\n",
       "      <th>hotel_location</th>\n",
       "      <th>author</th>\n",
       "      <th>date</th>\n",
       "      <th>rating</th>\n",
       "      <th>sentiment_score</th>\n",
       "      <th>sleep quality</th>\n",
       "      <th>value</th>\n",
       "      <th>rooms</th>\n",
       "      <th>service</th>\n",
       "      <th>cleanliness</th>\n",
       "      <th>location</th>\n",
       "    </tr>\n",
       "  </thead>\n",
       "  <tbody>\n",
       "    <tr>\n",
       "      <th>0</th>\n",
       "      <td>1121769</td>\n",
       "      <td>Hotel Baltic</td>\n",
       "      <td>Giulianova Province of Teramo Abruzzo</td>\n",
       "      <td>violettaf340</td>\n",
       "      <td>2019-01</td>\n",
       "      <td>5.0</td>\n",
       "      <td>0.341327</td>\n",
       "      <td>NaN</td>\n",
       "      <td>NaN</td>\n",
       "      <td>NaN</td>\n",
       "      <td>NaN</td>\n",
       "      <td>NaN</td>\n",
       "      <td>NaN</td>\n",
       "    </tr>\n",
       "    <tr>\n",
       "      <th>1</th>\n",
       "      <td>1121769</td>\n",
       "      <td>Hotel Baltic</td>\n",
       "      <td>Giulianova Province of Teramo Abruzzo</td>\n",
       "      <td>Lagaiuzza</td>\n",
       "      <td>2016-01</td>\n",
       "      <td>5.0</td>\n",
       "      <td>0.272183</td>\n",
       "      <td>NaN</td>\n",
       "      <td>NaN</td>\n",
       "      <td>NaN</td>\n",
       "      <td>NaN</td>\n",
       "      <td>NaN</td>\n",
       "      <td>NaN</td>\n",
       "    </tr>\n",
       "    <tr>\n",
       "      <th>2</th>\n",
       "      <td>1121769</td>\n",
       "      <td>Hotel Baltic</td>\n",
       "      <td>Giulianova Province of Teramo Abruzzo</td>\n",
       "      <td>ashleyn763</td>\n",
       "      <td>2014-10</td>\n",
       "      <td>5.0</td>\n",
       "      <td>0.475000</td>\n",
       "      <td>NaN</td>\n",
       "      <td>5.0</td>\n",
       "      <td>NaN</td>\n",
       "      <td>5.0</td>\n",
       "      <td>NaN</td>\n",
       "      <td>5.0</td>\n",
       "    </tr>\n",
       "    <tr>\n",
       "      <th>3</th>\n",
       "      <td>1121769</td>\n",
       "      <td>Hotel Baltic</td>\n",
       "      <td>Giulianova Province of Teramo Abruzzo</td>\n",
       "      <td>DavideMauro</td>\n",
       "      <td>2014-08</td>\n",
       "      <td>5.0</td>\n",
       "      <td>0.623636</td>\n",
       "      <td>5.0</td>\n",
       "      <td>NaN</td>\n",
       "      <td>NaN</td>\n",
       "      <td>5.0</td>\n",
       "      <td>5.0</td>\n",
       "      <td>NaN</td>\n",
       "    </tr>\n",
       "    <tr>\n",
       "      <th>4</th>\n",
       "      <td>1121769</td>\n",
       "      <td>Hotel Baltic</td>\n",
       "      <td>Giulianova Province of Teramo Abruzzo</td>\n",
       "      <td>Alemma11</td>\n",
       "      <td>2013-08</td>\n",
       "      <td>4.0</td>\n",
       "      <td>0.218607</td>\n",
       "      <td>3.0</td>\n",
       "      <td>4.0</td>\n",
       "      <td>4.0</td>\n",
       "      <td>5.0</td>\n",
       "      <td>3.0</td>\n",
       "      <td>4.0</td>\n",
       "    </tr>\n",
       "  </tbody>\n",
       "</table>\n",
       "</div>"
      ],
      "text/plain": [
       "   hotel_id    hotel_name                         hotel_location  \\\n",
       "0   1121769  Hotel Baltic  Giulianova Province of Teramo Abruzzo   \n",
       "1   1121769  Hotel Baltic  Giulianova Province of Teramo Abruzzo   \n",
       "2   1121769  Hotel Baltic  Giulianova Province of Teramo Abruzzo   \n",
       "3   1121769  Hotel Baltic  Giulianova Province of Teramo Abruzzo   \n",
       "4   1121769  Hotel Baltic  Giulianova Province of Teramo Abruzzo   \n",
       "\n",
       "         author     date  rating  sentiment_score  sleep quality  value  \\\n",
       "0  violettaf340  2019-01     5.0         0.341327            NaN    NaN   \n",
       "1     Lagaiuzza  2016-01     5.0         0.272183            NaN    NaN   \n",
       "2    ashleyn763  2014-10     5.0         0.475000            NaN    5.0   \n",
       "3   DavideMauro  2014-08     5.0         0.623636            5.0    NaN   \n",
       "4      Alemma11  2013-08     4.0         0.218607            3.0    4.0   \n",
       "\n",
       "   rooms  service  cleanliness  location  \n",
       "0    NaN      NaN          NaN       NaN  \n",
       "1    NaN      NaN          NaN       NaN  \n",
       "2    NaN      5.0          NaN       5.0  \n",
       "3    NaN      5.0          5.0       NaN  \n",
       "4    4.0      5.0          3.0       4.0  "
      ]
     },
     "metadata": {},
     "output_type": "display_data"
    }
   ],
   "source": [
    "# --- Preview First Chunk ---\n",
    "reader = pd.read_csv(file_path, chunksize=chunk_size)\n",
    "first_chunk = next(reader)\n",
    "\n",
    "print(f\"First chunk shape: {first_chunk.shape}\")\n",
    "display(first_chunk.head())"
   ]
  },
  {
   "cell_type": "code",
   "execution_count": 7,
   "id": "d10c2beb",
   "metadata": {},
   "outputs": [],
   "source": [
    "# --- Initialize for full processing ---\n",
    "reader = pd.read_csv(file_path, chunksize=chunk_size)"
   ]
  },
  {
   "cell_type": "markdown",
   "id": "6ad222a2",
   "metadata": {},
   "source": [
    "# Basic EDA"
   ]
  },
  {
   "cell_type": "code",
   "execution_count": 6,
   "id": "e4893e2b",
   "metadata": {},
   "outputs": [],
   "source": [
    "# --- Initialize accumulators ---\n",
    "row_count = 0\n",
    "column_types = None\n",
    "null_counts = None\n",
    "unique_counts = None\n",
    "duplicate_rows_count = 0\n",
    "\n",
    "# --- Process in chunks ---\n",
    "for chunk in reader:\n",
    "    row_count += chunk.shape[0]\n",
    "\n",
    "    if column_types is None:\n",
    "        column_types = chunk.dtypes\n",
    "\n",
    "    if null_counts is None:\n",
    "        null_counts = chunk.isnull().sum()\n",
    "    else:\n",
    "        null_counts += chunk.isnull().sum()\n",
    "\n",
    "    if unique_counts is None:\n",
    "        unique_counts = chunk.nunique()\n",
    "    else:\n",
    "        unique_counts += chunk.nunique()  # approximate\n",
    "\n",
    "    duplicate_rows_count += chunk.duplicated().sum()"
   ]
  },
  {
   "cell_type": "code",
   "execution_count": 7,
   "id": "5da8ba8c",
   "metadata": {},
   "outputs": [
    {
     "name": "stdout",
     "output_type": "stream",
     "text": [
      "\n",
      "Total Rows: 50240453\n",
      "\n",
      "Column Types:\n",
      "hotel_id             int64\n",
      "hotel_name          object\n",
      "hotel_location      object\n",
      "author              object\n",
      "date                object\n",
      "rating             float64\n",
      "sentiment_score    float64\n",
      "sleep quality      float64\n",
      "value              float64\n",
      "rooms              float64\n",
      "service            float64\n",
      "cleanliness        float64\n",
      "location           float64\n",
      "dtype: object\n"
     ]
    }
   ],
   "source": [
    "# --- Summaries ---\n",
    "print(f\"\\nTotal Rows: {row_count}\")\n",
    "print(\"\\nColumn Types:\")\n",
    "print(column_types)"
   ]
  },
  {
   "cell_type": "code",
   "execution_count": 8,
   "id": "52d343a3",
   "metadata": {},
   "outputs": [
    {
     "name": "stdout",
     "output_type": "stream",
     "text": [
      "\n",
      "Missing Values:\n"
     ]
    },
    {
     "data": {
      "text/html": [
       "<div>\n",
       "<style scoped>\n",
       "    .dataframe tbody tr th:only-of-type {\n",
       "        vertical-align: middle;\n",
       "    }\n",
       "\n",
       "    .dataframe tbody tr th {\n",
       "        vertical-align: top;\n",
       "    }\n",
       "\n",
       "    .dataframe thead th {\n",
       "        text-align: right;\n",
       "    }\n",
       "</style>\n",
       "<table border=\"1\" class=\"dataframe\">\n",
       "  <thead>\n",
       "    <tr style=\"text-align: right;\">\n",
       "      <th></th>\n",
       "      <th>Missing Count</th>\n",
       "      <th>Missing %</th>\n",
       "    </tr>\n",
       "  </thead>\n",
       "  <tbody>\n",
       "    <tr>\n",
       "      <th>sleep quality</th>\n",
       "      <td>27661163</td>\n",
       "      <td>55.057551</td>\n",
       "    </tr>\n",
       "    <tr>\n",
       "      <th>rooms</th>\n",
       "      <td>24841201</td>\n",
       "      <td>49.444620</td>\n",
       "    </tr>\n",
       "    <tr>\n",
       "      <th>location</th>\n",
       "      <td>24736006</td>\n",
       "      <td>49.235237</td>\n",
       "    </tr>\n",
       "    <tr>\n",
       "      <th>value</th>\n",
       "      <td>23872185</td>\n",
       "      <td>47.515863</td>\n",
       "    </tr>\n",
       "    <tr>\n",
       "      <th>cleanliness</th>\n",
       "      <td>23852817</td>\n",
       "      <td>47.477313</td>\n",
       "    </tr>\n",
       "    <tr>\n",
       "      <th>service</th>\n",
       "      <td>14687134</td>\n",
       "      <td>29.233681</td>\n",
       "    </tr>\n",
       "  </tbody>\n",
       "</table>\n",
       "</div>"
      ],
      "text/plain": [
       "               Missing Count  Missing %\n",
       "sleep quality       27661163  55.057551\n",
       "rooms               24841201  49.444620\n",
       "location            24736006  49.235237\n",
       "value               23872185  47.515863\n",
       "cleanliness         23852817  47.477313\n",
       "service             14687134  29.233681"
      ]
     },
     "metadata": {},
     "output_type": "display_data"
    }
   ],
   "source": [
    "print(\"\\nMissing Values:\")\n",
    "missing_percent = (null_counts / row_count) * 100\n",
    "missing_df = pd.DataFrame({'Missing Count': null_counts, 'Missing %': missing_percent})\n",
    "display(missing_df[missing_df['Missing Count'] > 0].sort_values(by='Missing Count', ascending=False))"
   ]
  },
  {
   "cell_type": "code",
   "execution_count": 9,
   "id": "96fc3852",
   "metadata": {},
   "outputs": [
    {
     "name": "stdout",
     "output_type": "stream",
     "text": [
      "\n",
      "Number of Duplicated Rows: 0\n"
     ]
    }
   ],
   "source": [
    "print(f\"\\nNumber of Duplicated Rows: {duplicate_rows_count}\")"
   ]
  },
  {
   "cell_type": "code",
   "execution_count": 10,
   "id": "8067b503",
   "metadata": {},
   "outputs": [
    {
     "name": "stdout",
     "output_type": "stream",
     "text": [
      "\n",
      "Approximate Unique Values per Column:\n"
     ]
    },
    {
     "data": {
      "text/plain": [
       "author             44239273\n",
       "sentiment_score    21043643\n",
       "hotel_id             366142\n",
       "hotel_name           358970\n",
       "hotel_location       188216\n",
       "date                  10788\n",
       "rooms                   281\n",
       "cleanliness             266\n",
       "value                   264\n",
       "location                263\n",
       "service                 262\n",
       "sleep quality           255\n",
       "rating                  255\n",
       "dtype: int64"
      ]
     },
     "metadata": {},
     "output_type": "display_data"
    }
   ],
   "source": [
    "print(\"\\nApproximate Unique Values per Column:\")\n",
    "display(unique_counts.sort_values(ascending=False))"
   ]
  },
  {
   "cell_type": "markdown",
   "id": "e82a9d2b",
   "metadata": {},
   "source": [
    "Initially thought that 1 hotel = 1 id = 1 name = 1 location.\n",
    "Reason this could happen:\n",
    "1. Same Hotel Name for Different Hotels\n",
    "\n",
    "    Some hotels have same names but are in different locations. \n",
    "    Example: \n",
    "    \"Holiday Inn\" in San Francisco, \n",
    "    \"Holiday Inn\" in Los Angeles; \n",
    "    Same hotel name, but different hotels and different hotel_ids. \n",
    "    Result: → hotel_id > hotel_name\n",
    "\n",
    "2. Multiple Branches (Chains)\n",
    "\n",
    "    Hotel chains like \"Hilton\", \"Marriott\", etc. have hundreds of locations with the same brand name. \n",
    "    Even \"Best Western\", \"Days Inn\", \"Motel 6\", etc. \n",
    "    Result: → hotel_name can repeat, hotel_location can differ. \n",
    "\n",
    "\n",
    "3. Typos / Slight Variations\n",
    "\n",
    "    Some names might be slightly different due to spelling or formatting issues: \n",
    "    \"Grand Hotel\" vs. \"Grand Hotel \" \n",
    "    \"Hilton, Downtown\" vs. \"Hilton Downtown\" \n",
    "    Even the same hotel may be entered differently. \n",
    "\n",
    "\n",
    "4. Hotel Locations Grouped\n",
    "\n",
    "    hotel_location might not be precisely per hotel. \n",
    "    It might be city level, state level, or even region level. \n",
    "    Many hotels can share the same location (\"San Francisco\", \"Los Angeles\", etc.) \n",
    "    Result: → hotel_location has far fewer unique values. \n"
   ]
  },
  {
   "cell_type": "markdown",
   "id": "0b8810f6",
   "metadata": {},
   "source": [
    "# EDA\n",
    "\n",
    "## Hotel vs Review"
   ]
  },
  {
   "cell_type": "code",
   "execution_count": 8,
   "id": "351397b4",
   "metadata": {},
   "outputs": [],
   "source": [
    "# --- Count number of reviews per hotel_id ---\n",
    "reader = pd.read_csv(file_path, chunksize=chunk_size)\n",
    "hotel_review_counts = defaultdict(int)\n",
    "\n",
    "for chunk in reader:\n",
    "    chunk_counts = chunk['hotel_id'].value_counts()\n",
    "    for hotel_id, count in chunk_counts.items():\n",
    "        hotel_review_counts[hotel_id] += count"
   ]
  },
  {
   "cell_type": "code",
   "execution_count": 9,
   "id": "950c468e",
   "metadata": {},
   "outputs": [],
   "source": [
    "# --- Build hotel_id -> hotel_name map --- [~18min]\n",
    "reader = pd.read_csv(file_path, chunksize=chunk_size)\n",
    "hotel_id_to_name = {}\n",
    "\n",
    "for chunk in reader:\n",
    "    for _, row in chunk[['hotel_id', 'hotel_name']].dropna().iterrows():\n",
    "        hotel_id = row['hotel_id']\n",
    "        hotel_name = row['hotel_name']\n",
    "        if hotel_id not in hotel_id_to_name:\n",
    "            hotel_id_to_name[hotel_id] = hotel_name  # first occurrence"
   ]
  },
  {
   "cell_type": "code",
   "execution_count": 10,
   "id": "2f50148f",
   "metadata": {},
   "outputs": [],
   "source": [
    "# --- Create DataFrame for Top Hotels ---\n",
    "review_df = pd.DataFrame(list(hotel_review_counts.items()), columns=['hotel_id', 'review_count'])\n",
    "review_df['hotel_name'] = review_df['hotel_id'].map(hotel_id_to_name)"
   ]
  },
  {
   "cell_type": "code",
   "execution_count": 11,
   "id": "9fc7f678",
   "metadata": {},
   "outputs": [],
   "source": [
    "# --- Sort descending and get Top 10 ---\n",
    "top_hotels = review_df.sort_values(by='review_count', ascending=False).head(10)"
   ]
  },
  {
   "cell_type": "code",
   "execution_count": 12,
   "id": "223df6f7",
   "metadata": {},
   "outputs": [
    {
     "name": "stdout",
     "output_type": "stream",
     "text": [
      "\n",
      "Top 10 Hotels by Number of Reviews:\n"
     ]
    },
    {
     "data": {
      "text/html": [
       "<div>\n",
       "<style scoped>\n",
       "    .dataframe tbody tr th:only-of-type {\n",
       "        vertical-align: middle;\n",
       "    }\n",
       "\n",
       "    .dataframe tbody tr th {\n",
       "        vertical-align: top;\n",
       "    }\n",
       "\n",
       "    .dataframe thead th {\n",
       "        text-align: right;\n",
       "    }\n",
       "</style>\n",
       "<table border=\"1\" class=\"dataframe\">\n",
       "  <thead>\n",
       "    <tr style=\"text-align: right;\">\n",
       "      <th></th>\n",
       "      <th>hotel_id</th>\n",
       "      <th>hotel_name</th>\n",
       "      <th>review_count</th>\n",
       "    </tr>\n",
       "  </thead>\n",
       "  <tbody>\n",
       "    <tr>\n",
       "      <th>340308</th>\n",
       "      <td>278011</td>\n",
       "      <td>Embassy Suites by Hilton Niagara Falls Fallsvi...</td>\n",
       "      <td>10334</td>\n",
       "    </tr>\n",
       "    <tr>\n",
       "      <th>339953</th>\n",
       "      <td>219161</td>\n",
       "      <td>Sensimar Resort Riviera Maya</td>\n",
       "      <td>10291</td>\n",
       "    </tr>\n",
       "    <tr>\n",
       "      <th>18288</th>\n",
       "      <td>1209793</td>\n",
       "      <td>Center Parcs Whinfell Forest</td>\n",
       "      <td>10187</td>\n",
       "    </tr>\n",
       "    <tr>\n",
       "      <th>340309</th>\n",
       "      <td>523986</td>\n",
       "      <td>Center Parcs Longleat Forest</td>\n",
       "      <td>10133</td>\n",
       "    </tr>\n",
       "    <tr>\n",
       "      <th>341349</th>\n",
       "      <td>583034</td>\n",
       "      <td>Paradisus Palma Real Golf Spa Resort</td>\n",
       "      <td>10077</td>\n",
       "    </tr>\n",
       "    <tr>\n",
       "      <th>337465</th>\n",
       "      <td>181641</td>\n",
       "      <td>Sandals Royal Bahamian Spa Resort Offshore Island</td>\n",
       "      <td>10027</td>\n",
       "    </tr>\n",
       "    <tr>\n",
       "      <th>341350</th>\n",
       "      <td>2627483</td>\n",
       "      <td>Secrets The Vine Cancun</td>\n",
       "      <td>9476</td>\n",
       "    </tr>\n",
       "    <tr>\n",
       "      <th>340981</th>\n",
       "      <td>243420</td>\n",
       "      <td>Sofitel London Gatwick Hotel</td>\n",
       "      <td>9399</td>\n",
       "    </tr>\n",
       "    <tr>\n",
       "      <th>341351</th>\n",
       "      <td>503104</td>\n",
       "      <td>Grand Bahia Principe Tulum</td>\n",
       "      <td>9396</td>\n",
       "    </tr>\n",
       "    <tr>\n",
       "      <th>338784</th>\n",
       "      <td>147627</td>\n",
       "      <td>Breezes Resort Spa Bahamas</td>\n",
       "      <td>8832</td>\n",
       "    </tr>\n",
       "  </tbody>\n",
       "</table>\n",
       "</div>"
      ],
      "text/plain": [
       "        hotel_id                                         hotel_name  \\\n",
       "340308    278011  Embassy Suites by Hilton Niagara Falls Fallsvi...   \n",
       "339953    219161                       Sensimar Resort Riviera Maya   \n",
       "18288    1209793                       Center Parcs Whinfell Forest   \n",
       "340309    523986                       Center Parcs Longleat Forest   \n",
       "341349    583034               Paradisus Palma Real Golf Spa Resort   \n",
       "337465    181641  Sandals Royal Bahamian Spa Resort Offshore Island   \n",
       "341350   2627483                            Secrets The Vine Cancun   \n",
       "340981    243420                       Sofitel London Gatwick Hotel   \n",
       "341351    503104                         Grand Bahia Principe Tulum   \n",
       "338784    147627                         Breezes Resort Spa Bahamas   \n",
       "\n",
       "        review_count  \n",
       "340308         10334  \n",
       "339953         10291  \n",
       "18288          10187  \n",
       "340309         10133  \n",
       "341349         10077  \n",
       "337465         10027  \n",
       "341350          9476  \n",
       "340981          9399  \n",
       "341351          9396  \n",
       "338784          8832  "
      ]
     },
     "metadata": {},
     "output_type": "display_data"
    }
   ],
   "source": [
    "# --- Display Top 10 Hotels ---\n",
    "print(\"\\nTop 10 Hotels by Number of Reviews:\")\n",
    "display(top_hotels[['hotel_id', 'hotel_name', 'review_count']])"
   ]
  },
  {
   "cell_type": "markdown",
   "id": "4b245e33",
   "metadata": {},
   "source": [
    "## Reviews vs Year"
   ]
  },
  {
   "cell_type": "code",
   "execution_count": 13,
   "id": "d705bb23",
   "metadata": {},
   "outputs": [
    {
     "data": {
      "text/plain": [
       "51"
      ]
     },
     "execution_count": 13,
     "metadata": {},
     "output_type": "execute_result"
    }
   ],
   "source": [
    "# --- Get total rows for progress ---\n",
    "total_rows = sum(1 for line in open(file_path)) - 1\n",
    "total_chunks = (total_rows // chunk_size) + 1\n",
    "\n",
    "total_chunks"
   ]
  },
  {
   "cell_type": "code",
   "execution_count": 14,
   "id": "d5e46a0f",
   "metadata": {},
   "outputs": [],
   "source": [
    "# --- New fresh reader here ---\n",
    "reader = pd.read_csv(file_path, chunksize=chunk_size)"
   ]
  },
  {
   "cell_type": "code",
   "execution_count": 15,
   "id": "8f74c562",
   "metadata": {},
   "outputs": [
    {
     "name": "stderr",
     "output_type": "stream",
     "text": [
      "Processing Yearly Reviews: 100%|█████████████████████████████████████████████████████| 51/51 [00:47<00:00,  1.07it/s]\n"
     ]
    }
   ],
   "source": [
    "# --- Initialize Counter --- [~1min]\n",
    "reviews_per_year = {}\n",
    "\n",
    "for chunk in tqdm(reader, total=total_chunks, desc=\"Processing Yearly Reviews\", mininterval=1):\n",
    "    # Drop rows with missing date\n",
    "    chunk = chunk.dropna(subset=['date']).copy()\n",
    "\n",
    "    # Extract year\n",
    "    chunk['year'] = chunk['date'].apply(lambda x: str(x)[:4])\n",
    "\n",
    "    # Count reviews by year\n",
    "    year_counts = chunk['year'].value_counts()\n",
    "\n",
    "    # Aggregate counts\n",
    "    for year, count in year_counts.items():\n",
    "        if year not in reviews_per_year:\n",
    "            reviews_per_year[year] = count\n",
    "        else:\n",
    "            reviews_per_year[year] += count"
   ]
  },
  {
   "cell_type": "code",
   "execution_count": 16,
   "id": "07961464",
   "metadata": {},
   "outputs": [
    {
     "name": "stdout",
     "output_type": "stream",
     "text": [
      "\n",
      "Reviews per Year:\n"
     ]
    },
    {
     "data": {
      "text/html": [
       "<div>\n",
       "<style scoped>\n",
       "    .dataframe tbody tr th:only-of-type {\n",
       "        vertical-align: middle;\n",
       "    }\n",
       "\n",
       "    .dataframe tbody tr th {\n",
       "        vertical-align: top;\n",
       "    }\n",
       "\n",
       "    .dataframe thead th {\n",
       "        text-align: right;\n",
       "    }\n",
       "</style>\n",
       "<table border=\"1\" class=\"dataframe\">\n",
       "  <thead>\n",
       "    <tr style=\"text-align: right;\">\n",
       "      <th></th>\n",
       "      <th>year</th>\n",
       "      <th>review_count</th>\n",
       "    </tr>\n",
       "  </thead>\n",
       "  <tbody>\n",
       "    <tr>\n",
       "      <th>18</th>\n",
       "      <td>2001</td>\n",
       "      <td>227</td>\n",
       "    </tr>\n",
       "    <tr>\n",
       "      <th>17</th>\n",
       "      <td>2002</td>\n",
       "      <td>5765</td>\n",
       "    </tr>\n",
       "    <tr>\n",
       "      <th>16</th>\n",
       "      <td>2003</td>\n",
       "      <td>40406</td>\n",
       "    </tr>\n",
       "    <tr>\n",
       "      <th>15</th>\n",
       "      <td>2004</td>\n",
       "      <td>101347</td>\n",
       "    </tr>\n",
       "    <tr>\n",
       "      <th>14</th>\n",
       "      <td>2005</td>\n",
       "      <td>175543</td>\n",
       "    </tr>\n",
       "    <tr>\n",
       "      <th>13</th>\n",
       "      <td>2006</td>\n",
       "      <td>270806</td>\n",
       "    </tr>\n",
       "    <tr>\n",
       "      <th>12</th>\n",
       "      <td>2007</td>\n",
       "      <td>399445</td>\n",
       "    </tr>\n",
       "    <tr>\n",
       "      <th>11</th>\n",
       "      <td>2008</td>\n",
       "      <td>530424</td>\n",
       "    </tr>\n",
       "    <tr>\n",
       "      <th>10</th>\n",
       "      <td>2009</td>\n",
       "      <td>853457</td>\n",
       "    </tr>\n",
       "    <tr>\n",
       "      <th>9</th>\n",
       "      <td>2010</td>\n",
       "      <td>1228264</td>\n",
       "    </tr>\n",
       "    <tr>\n",
       "      <th>7</th>\n",
       "      <td>2011</td>\n",
       "      <td>2076765</td>\n",
       "    </tr>\n",
       "    <tr>\n",
       "      <th>6</th>\n",
       "      <td>2012</td>\n",
       "      <td>3359465</td>\n",
       "    </tr>\n",
       "    <tr>\n",
       "      <th>5</th>\n",
       "      <td>2013</td>\n",
       "      <td>4684132</td>\n",
       "    </tr>\n",
       "    <tr>\n",
       "      <th>4</th>\n",
       "      <td>2014</td>\n",
       "      <td>5659934</td>\n",
       "    </tr>\n",
       "    <tr>\n",
       "      <th>2</th>\n",
       "      <td>2015</td>\n",
       "      <td>7023800</td>\n",
       "    </tr>\n",
       "    <tr>\n",
       "      <th>0</th>\n",
       "      <td>2016</td>\n",
       "      <td>8103801</td>\n",
       "    </tr>\n",
       "    <tr>\n",
       "      <th>1</th>\n",
       "      <td>2017</td>\n",
       "      <td>7485364</td>\n",
       "    </tr>\n",
       "    <tr>\n",
       "      <th>3</th>\n",
       "      <td>2018</td>\n",
       "      <td>6408028</td>\n",
       "    </tr>\n",
       "    <tr>\n",
       "      <th>8</th>\n",
       "      <td>2019</td>\n",
       "      <td>1833480</td>\n",
       "    </tr>\n",
       "  </tbody>\n",
       "</table>\n",
       "</div>"
      ],
      "text/plain": [
       "    year  review_count\n",
       "18  2001           227\n",
       "17  2002          5765\n",
       "16  2003         40406\n",
       "15  2004        101347\n",
       "14  2005        175543\n",
       "13  2006        270806\n",
       "12  2007        399445\n",
       "11  2008        530424\n",
       "10  2009        853457\n",
       "9   2010       1228264\n",
       "7   2011       2076765\n",
       "6   2012       3359465\n",
       "5   2013       4684132\n",
       "4   2014       5659934\n",
       "2   2015       7023800\n",
       "0   2016       8103801\n",
       "1   2017       7485364\n",
       "3   2018       6408028\n",
       "8   2019       1833480"
      ]
     },
     "metadata": {},
     "output_type": "display_data"
    }
   ],
   "source": [
    "# --- Convert to DataFrame ---\n",
    "yearly_reviews_df = pd.DataFrame(list(reviews_per_year.items()), columns=['year', 'review_count'])\n",
    "yearly_reviews_df = yearly_reviews_df.sort_values(by='year')\n",
    "\n",
    "# --- Display ---\n",
    "print(\"\\nReviews per Year:\")\n",
    "display(yearly_reviews_df)"
   ]
  },
  {
   "cell_type": "code",
   "execution_count": 17,
   "id": "0dd77b47",
   "metadata": {},
   "outputs": [
    {
     "data": {
      "image/png": "[encoded data removed]",
      "text/plain": [
       "<Figure size 1200x600 with 1 Axes>"
      ]
     },
     "metadata": {},
     "output_type": "display_data"
    }
   ],
   "source": [
    "# --- Plot ---\n",
    "plt.figure(figsize=(12,6))\n",
    "plt.plot(yearly_reviews_df['year'], yearly_reviews_df['review_count'], marker='o')\n",
    "plt.xlabel('Year')\n",
    "plt.ylabel('Number of Reviews')\n",
    "plt.title('Number of Reviews per Year')\n",
    "plt.grid(True)\n",
    "plt.xticks(rotation=45)\n",
    "plt.show()"
   ]
  },
  {
   "cell_type": "code",
   "execution_count": 20,
   "id": "9cb8d68a",
   "metadata": {},
   "outputs": [
    {
     "data": {
      "image/png": "[encoded data removed]",
      "text/plain": [
       "<Figure size 800x600 with 1 Axes>"
      ]
     },
     "metadata": {},
     "output_type": "display_data"
    }
   ],
   "source": [
    "# Create repeated years in a memory-efficient way\n",
    "years = yearly_reviews_df['year'].astype(int)\n",
    "weights = yearly_reviews_df['review_count'].astype(int)\n",
    "\n",
    "# Generate data using numpy (VERY memory efficient)\n",
    "expanded_years = np.repeat(years.values, weights.values)\n",
    "\n",
    "# Now plot!\n",
    "plt.figure(figsize=(8,6))\n",
    "plt.boxplot(expanded_years, vert=True, patch_artist=True)\n",
    "\n",
    "plt.title('Distribution of Review Years')\n",
    "plt.ylabel('Year')\n",
    "plt.grid(True)\n",
    "plt.show()"
   ]
  },
  {
   "cell_type": "markdown",
   "id": "053c57b3",
   "metadata": {},
   "source": [
    "- The majority of your hotel reviews happened between 2013 and 2017. (50%)\n",
    "- The peak or median review year is around 2015.\n",
    "- Few hotels had reviews way back from 2002–2006, but they are very rare (shown as outlier circles).\n",
    "- After ~2017, the number of reviews starts to decline slightly (because top whisker stops around 2018)."
   ]
  },
  {
   "cell_type": "code",
   "execution_count": 21,
   "id": "fe0f3620",
   "metadata": {},
   "outputs": [
    {
     "name": "stdout",
     "output_type": "stream",
     "text": [
      "Median Year: 2015.0\n",
      "Q1 (25th percentile): 2013.0\n",
      "Q3 (75th percentile): 2017.0\n",
      "Min Year: 2001\n",
      "Max Year: 2019\n"
     ]
    }
   ],
   "source": [
    "print(\"Median Year:\", np.median(expanded_years))\n",
    "print(\"Q1 (25th percentile):\", np.percentile(expanded_years, 25))\n",
    "print(\"Q3 (75th percentile):\", np.percentile(expanded_years, 75))\n",
    "print(\"Min Year:\", expanded_years.min())\n",
    "print(\"Max Year:\", expanded_years.max())"
   ]
  },
  {
   "cell_type": "markdown",
   "id": "34254c68",
   "metadata": {},
   "source": [
    "- The majority of the reviews are heavily concentrated between 2013 and 2017.\n",
    "- 2015 is the exact \"middle\" review year → so the dataset is slightly biased toward mid-2010s.\n",
    "- Very few reviews exist before 2010 (outliers).\n",
    "- Reviews stopped growing or dataset was collected until 2019 — no reviews after 2019.\n",
    "- The spread is about 18 years total (from 2001 to 2019), but most data is packed into 5 years (2013–2017)."
   ]
  },
  {
   "cell_type": "code",
   "execution_count": null,
   "id": "71367a1f",
   "metadata": {},
   "outputs": [
    {
     "name": "stderr",
     "output_type": "stream",
     "text": [
      "Filtering 2013-2017 Reviews: 100%|███████████████████████████████████████████████████| 51/51 [03:20<00:00,  3.93s/it]"
     ]
    },
    {
     "name": "stdout",
     "output_type": "stream",
     "text": [
      "\n",
      "Finished! Saved filtered reviews (2013-2017) to: /root/cmpe256/cmpe256_hotel_recommendation_system/data/processed/hotelrec_2013_2017.csv\n"
     ]
    },
    {
     "name": "stderr",
     "output_type": "stream",
     "text": [
      "\n"
     ]
    }
   ],
   "source": [
    "# --- Setup ---     [~3m 30s]\n",
    "current_dir = os.getcwd()\n",
    "input_path = os.path.join(current_dir, 'data', 'raw', 'hotelrec_final_cleaned.csv')\n",
    "output_path = os.path.join(current_dir, 'data', 'processed', 'hotelrec_2013_2017.csv')\n",
    "\n",
    "chunk_size = 1_000_000\n",
    "first_chunk = True\n",
    "\n",
    "# --- Get total rows to estimate total_chunks ---\n",
    "total_rows = sum(1 for line in open(input_path)) - 1  # minus header\n",
    "total_chunks = (total_rows // chunk_size) + 1\n",
    "\n",
    "# --- Reader ---\n",
    "reader = pd.read_csv(input_path, chunksize=chunk_size)\n",
    "\n",
    "# --- Process chunks with progress bar ---\n",
    "for chunk in tqdm(reader, total=total_chunks, desc=\"Filtering 2013-2017 Reviews\", mininterval=1):\n",
    "    # Extract year from date\n",
    "    chunk = chunk.dropna(subset=['date']).copy()\n",
    "    chunk['year'] = chunk['date'].apply(lambda x: int(str(x)[:4]))  # safely extract year\n",
    "\n",
    "    # Filter between 2013 and 2017\n",
    "    filtered_chunk = chunk[(chunk['year'] >= 2013) & (chunk['year'] <= 2017)]\n",
    "\n",
    "    # Drop temporary year column\n",
    "    filtered_chunk = filtered_chunk.drop(columns=['year'])\n",
    "\n",
    "    # Save to output CSV\n",
    "    if not filtered_chunk.empty:\n",
    "        if first_chunk:\n",
    "            filtered_chunk.to_csv(output_path, index=False, mode='w')\n",
    "            first_chunk = False\n",
    "        else:\n",
    "            filtered_chunk.to_csv(output_path, index=False, mode='a', header=False)\n",
    "\n",
    "print(f\"\\nFinished! Saved filtered reviews (2013-2017) to: {output_path}\")"
   ]
  },
  {
   "cell_type": "code",
   "execution_count": null,
   "id": "0e2fb5be",
   "metadata": {},
   "outputs": [
    {
     "name": "stdout",
     "output_type": "stream",
     "text": [
      "\n",
      "Compressed version saved at: /root/cmpe256/cmpe256_hotel_recommendation_system/data/processed/hotelrec_2013_2017.csv.gz\n"
     ]
    }
   ],
   "source": [
    "# --- Paths --- [~6min]\n",
    "current_dir = os.getcwd()\n",
    "input_csv = os.path.join(current_dir, 'data', 'processed', 'hotelrec_2013_2017.csv')\n",
    "output_csv_gz = os.path.join(current_dir, 'data', 'processed', 'hotelrec_2013_2017.csv.gz')\n",
    "\n",
    "# --- Read and save compressed ---\n",
    "df = pd.read_csv(input_csv)\n",
    "\n",
    "df.to_csv(output_csv_gz, index=False, compression='gzip')\n",
    "\n",
    "print(f\"\\nCompressed version saved at: {output_csv_gz}\")"
   ]
  },
  {
   "cell_type": "code",
   "execution_count": 5,
   "id": "211e0057",
   "metadata": {},
   "outputs": [
    {
     "data": {
      "text/plain": [
       "(32957031, 13)"
      ]
     },
     "execution_count": 5,
     "metadata": {},
     "output_type": "execute_result"
    }
   ],
   "source": [
    "df.shape"
   ]
  }
 ],
 "metadata": {
  "kernelspec": {
   "display_name": "Python 3 (ipykernel)",
   "language": "python",
   "name": "python3"
  },
  "language_info": {
   "codemirror_mode": {
    "name": "ipython",
    "version": 3
   },
   "file_extension": ".py",
   "mimetype": "text/x-python",
   "name": "python",
   "nbconvert_exporter": "python",
   "pygments_lexer": "ipython3",
   "version": "3.10.12"
  }
 },
 "nbformat": 4,
 "nbformat_minor": 5
}
